{
 "cells": [
  {
   "cell_type": "code",
   "execution_count": null,
   "metadata": {},
   "outputs": [],
   "source": [
    "will stay as a notebook\n",
    "\n",
    "artists = df['artistname'].unique()[:1000]\n",
    "for each with description stats embedded in picture (mean, avg, med), exported in some folder with a good Name\n",
    "    graph showing number of songs per playlist,\n",
    "    graph showing avg number of songs per playlist,\n",
    "    graph showing number of songs per artist\n",
    "    graph showing number of instances of artists per playlist\n",
    "    graph showing number of unique artists per playlist\n",
    "\n",
    "if artists are nodes and playlists are edges, weights need to denote something??? \n",
    "Combined percentage of the playlist those two artists take up!\n",
    "    make a graph showing all edge weights after we load into nodes!!\n",
    "    and make a graph as well as the avg edge weight per node (include 0, or not? idk)\n",
    "\n",
    "\n",
    "Make it a function that say you want stats of X(songs) grouped by Y(playlists), and it'll save a bar graph with stats\n",
    "\n",
    "STILL NEED TO CONSTRUCT NODES THEMSELVES, could help with attributes that are varied and useful?"
   ]
  }
 ],
 "metadata": {
  "kernelspec": {
   "display_name": "Python 3",
   "language": "python",
   "name": "python3"
  },
  "language_info": {
   "name": "python",
   "version": "3.8.5 (default, Sep  4 2020, 02:22:02) \n[Clang 10.0.0 ]"
  },
  "orig_nbformat": 4,
  "vscode": {
   "interpreter": {
    "hash": "40d3a090f54c6569ab1632332b64b2c03c39dcf918b08424e98f38b5ae0af88f"
   }
  }
 },
 "nbformat": 4,
 "nbformat_minor": 2
}
