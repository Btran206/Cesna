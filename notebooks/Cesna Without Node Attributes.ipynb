{
 "cells": [
  {
   "cell_type": "code",
   "execution_count": 59,
   "id": "5578d874",
   "metadata": {},
   "outputs": [],
   "source": [
    "import networkx as nx\n",
    "import numpy as np\n",
    "from random import random\n",
    "import pandas as pd\n",
    "from scipy.stats import bernoulli\n",
    "import copy"
   ]
  },
  {
   "cell_type": "code",
   "execution_count": 14,
   "id": "7483003e",
   "metadata": {},
   "outputs": [],
   "source": [
    "G = nx.planted_partition_graph(3, 5, 0.7, 0.05, seed=40)"
   ]
  },
  {
   "cell_type": "code",
   "execution_count": 15,
   "id": "8cb7d231",
   "metadata": {},
   "outputs": [
    {
     "data": {
      "image/png": "[encoded data removed]",
      "text/plain": [
       "<Figure size 432x288 with 1 Axes>"
      ]
     },
     "metadata": {},
     "output_type": "display_data"
    }
   ],
   "source": [
    "pos = nx.spring_layout(G)\n",
    "nx.draw(G, pos = pos)"
   ]
  },
  {
   "cell_type": "code",
   "execution_count": 16,
   "id": "e7c4faaf",
   "metadata": {},
   "outputs": [],
   "source": [
    "def sigm(x):\n",
    "    return np.divide(np.exp(-1.*x),1.-np.exp(-1.*x))\n",
    "\n",
    "def log_likelihood(F, A):\n",
    "    \"\"\"implements equation 2 of \n",
    "    https://cs.stanford.edu/people/jure/pubs/bigclam-wsdm13.pdf\"\"\"\n",
    "    A_soft = F.dot(F.T)\n",
    "\n",
    "    # Next two lines are multiplied with the adjacency matrix, A\n",
    "    # A is a {0,1} matrix, so we zero out all elements not contributing to the sum\n",
    "    FIRST_PART = A*np.log(1.-np.exp(-1.*A_soft))\n",
    "    sum_edges = np.sum(FIRST_PART)\n",
    "    SECOND_PART = (1-A)*A_soft\n",
    "    sum_nedges = np.sum(SECOND_PART)\n",
    "\n",
    "    log_likeli = sum_edges - sum_nedges\n",
    "    return log_likeli\n",
    "\n",
    "def gradient(F, A, i):\n",
    "    \"\"\"Implements equation 3 of\n",
    "    https://cs.stanford.edu/people/jure/pubs/bigclam-wsdm13.pdf\n",
    "    \n",
    "      * i indicates the row under consideration\n",
    "    \n",
    "    The many forloops in this function can be optimized, but for\n",
    "    educational purposes we write them out clearly\n",
    "    \"\"\"\n",
    "    N, C = F.shape\n",
    "\n",
    "    neighbours = np.where(A[i])\n",
    "    nneighbours = np.where(1-A[i])\n",
    "\n",
    "    sum_neigh = np.zeros((C,))\n",
    "    for nb in neighbours[0]:\n",
    "        dotproduct = F[nb].dot(F[i])\n",
    "        sum_neigh += F[nb]*sigm(dotproduct)\n",
    "\n",
    "    sum_nneigh = np.zeros((C,))\n",
    "    #Speed up this computation using eq.4\n",
    "    for nnb in nneighbours[0]:\n",
    "        sum_nneigh += F[nnb]\n",
    "\n",
    "    grad = sum_neigh - sum_nneigh\n",
    "    return grad\n",
    "\n",
    "def train(A, Att, C, iterations = 1):\n",
    "    # initialize an F\n",
    "    N = A.shape[0]\n",
    "    F = np.random.rand(N,C)\n",
    "    X = Att\n",
    "    # weight matrix is (# of attributes, # of groups)\n",
    "    W = np.random.rand(Att.shape[1], C)\n",
    "    F_new = np.zeros((N,C))\n",
    "    W_new = W\n",
    "    alpha = 0.005\n",
    "    ll = .01\n",
    "    ll_new = 0\n",
    "    for n in range(iterations):\n",
    "        for person in range(N):\n",
    "            grad = gradient(F, A, person)\n",
    "            F_new[person] += 0.005*grad + F[person]\n",
    "        Q = np.divide(1, 1 + np.exp(-F.dot(W.T)))\n",
    "        F_new += alpha*(X-Q).dot(W_new)\n",
    "        W_new += alpha*(np.dot((X-Q).T, F) - np.sign(W_new))\n",
    "    \n",
    "        F = np.maximum(.001, F_new) # should this be 0?\n",
    "        ll_new = log_likelihood(F, A)\n",
    "        ll_new += np.sum(X*np.log(Q) + (1 - X)*np.log(1 - Q))\n",
    "        change = (ll - ll_new) / ll\n",
    "        if abs(change) < .001:\n",
    "            break\n",
    "    delta = (-np.log(1- (1/N)))**.5\n",
    "    return F>delta, W"
   ]
  },
  {
   "cell_type": "code",
   "execution_count": 60,
   "id": "c3bbb77a",
   "metadata": {},
   "outputs": [],
   "source": [
    "# bigclam algorithm taken from https://github.com/RobRomijnders/bigclam\n",
    "def sigm(x):\n",
    "    return np.divide(np.exp(-1.*x),1.-np.exp(-1.*x))\n",
    "\n",
    "def log_likelihood(F, A):\n",
    "    \"\"\"implements equation 2 of \n",
    "    https://cs.stanford.edu/people/jure/pubs/bigclam-wsdm13.pdf\"\"\"\n",
    "    A_soft = F.dot(F.T)\n",
    "\n",
    "    # Next two lines are multiplied with the adjacency matrix, A\n",
    "    # A is a {0,1} matrix, so we zero out all elements not contributing to the sum\n",
    "    FIRST_PART = A*np.log(1.-np.exp(-1.*A_soft))\n",
    "    sum_edges = np.sum(FIRST_PART)\n",
    "    SECOND_PART = (1-A)*A_soft\n",
    "    sum_nedges = np.sum(SECOND_PART)\n",
    "\n",
    "    log_likeli = sum_edges - sum_nedges\n",
    "    return log_likeli\n",
    "\n",
    "def gradient(F, A, i):\n",
    "    \"\"\"Implements equation 3 of\n",
    "    https://cs.stanford.edu/people/jure/pubs/bigclam-wsdm13.pdf\n",
    "    \n",
    "      * i indicates the row under consideration\n",
    "    \n",
    "    The many forloops in this function can be optimized, but for\n",
    "    educational purposes we write them out clearly\n",
    "    \"\"\"\n",
    "    N, C = F.shape\n",
    "\n",
    "    neighbours = np.where(A[i])\n",
    "    nneighbours = np.where(1-A[i])\n",
    "\n",
    "    sum_neigh = np.zeros((C,))\n",
    "    for nb in neighbours[0]:\n",
    "        dotproduct = F[nb].dot(F[i])\n",
    "        sum_neigh += F[nb]*sigm(dotproduct)\n",
    "\n",
    "    sum_nneigh = np.zeros((C,))\n",
    "    #Speed up this computation using eq.4\n",
    "    for nnb in nneighbours[0]:\n",
    "        sum_nneigh += F[nnb]\n",
    "\n",
    "    grad = sum_neigh - sum_nneigh\n",
    "    return grad\n",
    "\n",
    "def train(A, Att, C, iterations = 100):\n",
    "    # initialize an F\n",
    "    N = A.shape[0]\n",
    "    F = np.random.rand(N,C)\n",
    "    X = Att\n",
    "    W = np.random.rand(Att.shape[1], C)\n",
    "    F_new = np.zeros((N,C))\n",
    "    ll = .01\n",
    "    ll_new = 0\n",
    "    for n in range(iterations):\n",
    "        for person in range(N):\n",
    "            grad = gradient(F, A, person)\n",
    "            F_new[person] += 0.005*grad + F[person]\n",
    "            F_new[person] = np.maximum(0.001, F_new[person])\n",
    "        Q = np.divide(1, 1 + np.exp(-F.dot(W.T)))\n",
    "        F_new += 0.005*((X-Q).dot(W))\n",
    "        W += 0.005*((X-Q).T.dot(F))\n",
    "        F = np.maximum(.001, F_new)\n",
    "        ll_new = log_likelihood(F, A)\n",
    "        ll_new += np.sum(X*np.log(Q) + (1 - X)*np.log(1 - Q))\n",
    "        change = (ll - ll_new) / ll\n",
    "        if abs(change) < .001:\n",
    "            break\n",
    "    delta = (-np.log(1- (1/N)))**.5\n",
    "    \n",
    "    return F>delta, W"
   ]
  },
  {
   "cell_type": "code",
   "execution_count": 182,
   "id": "dbeaa96a",
   "metadata": {},
   "outputs": [],
   "source": [
    "# bigclam algorithm taken from https://github.com/RobRomijnders/bigclam\n",
    "def sigm(x):\n",
    "    return np.divide(np.exp(-1.*x),1.-np.exp(-1.*x))\n",
    "\n",
    "def log_likelihood(F, A):\n",
    "    \"\"\"implements equation 2 of \n",
    "    https://cs.stanford.edu/people/jure/pubs/bigclam-wsdm13.pdf\"\"\"\n",
    "    A_soft = F.dot(F.T)\n",
    "\n",
    "    # Next two lines are multiplied with the adjacency matrix, A\n",
    "    # A is a {0,1} matrix, so we zero out all elements not contributing to the sum\n",
    "    FIRST_PART = A*np.log(1.-np.exp(-1.*A_soft))\n",
    "    sum_edges = np.sum(FIRST_PART)\n",
    "    SECOND_PART = (1-A)*A_soft\n",
    "    sum_nedges = np.sum(SECOND_PART)\n",
    "\n",
    "    log_likeli = sum_edges - sum_nedges\n",
    "    return log_likeli\n",
    "\n",
    "def gradient(F, A, i):\n",
    "    \"\"\"Implements equation 3 of\n",
    "    https://cs.stanford.edu/people/jure/pubs/bigclam-wsdm13.pdf\n",
    "    \n",
    "      * i indicates the row under consideration\n",
    "    \n",
    "    The many forloops in this function can be optimized, but for\n",
    "    educational purposes we write them out clearly\n",
    "    \"\"\"\n",
    "    N, C = F.shape\n",
    "\n",
    "    neighbours = np.where(A[i])\n",
    "    nneighbours = np.where(1-A[i])\n",
    "\n",
    "    sum_neigh = np.zeros((C,))\n",
    "    for nb in neighbours[0]:\n",
    "        dotproduct = F[nb].dot(F[i])\n",
    "        sum_neigh += F[nb]*sigm(dotproduct)\n",
    "\n",
    "    sum_nneigh = np.zeros((C,))\n",
    "    #Speed up this computation using eq.4\n",
    "    for nnb in nneighbours[0]:\n",
    "        sum_nneigh += F[nnb]\n",
    "\n",
    "    grad = sum_neigh - sum_nneigh\n",
    "    return grad\n",
    "\n",
    "def train(A, Att, C, iterations = 100, alpha = .005, lambda_W = .001):\n",
    "    # initialize an F\n",
    "    N = A.shape[0]\n",
    "    F = np.random.rand(N,C)\n",
    "    F_new = np.zeros((N,C))\n",
    "    X = Att\n",
    "    W = np.random.rand(Att.shape[1], C)\n",
    "    W_new = np.zeros((Att.shape[1], C))\n",
    "    ll = .01\n",
    "    ll_new = 0\n",
    "    Q = np.zeros((F.shape[0], W.shape[0]))\n",
    "    Sanity = np.zeros((F.shape[0], W.shape[0]))\n",
    "    for n in range(iterations):\n",
    "        for u in range(Q.shape[0]):\n",
    "            for k in range(Q.shape[1]):\n",
    "                running_sum = 0\n",
    "                for c in range(F.shape[1]):\n",
    "                    running_sum += W[k][c] * F[u][c]\n",
    "                    \n",
    "                Q[u][k] = 1/(1+np.exp(-running_sum))\n",
    "        \n",
    "        for u in range(X.shape[0]):\n",
    "            grad = gradient(F, A, u)\n",
    "            for c in range(F.shape[1]):\n",
    "                running_sum = 0\n",
    "                for k in range(X.shape[1]):\n",
    "                    running_sum += (X[u][k] - Q[u][k]) * W[k][c]\n",
    "                F_new[u][c] = max(.001, F[u][c] + alpha*(running_sum + grad[c]))\n",
    "        \n",
    "        for k in range(X.shape[1]):\n",
    "            for c in range(F.shape[1]):\n",
    "                running_sum = 0\n",
    "                for u in range(F.shape[0]):\n",
    "                    running_sum += (X[u][k] - Q[u][k]) * F[u][c]\n",
    "                W_new[k][c] = W[k][c] + alpha * running_sum - alpha * lambda_W * np.sign(W[k][c])\n",
    "        \n",
    "         \n",
    "        F = copy.deepcopy(F_new)\n",
    "        W = copy.deepcopy(W_new)\n",
    "        ll_new = log_likelihood(F, A)\n",
    "        ll_new += np.sum(X*np.log(Q) + (1 - X)*np.log(1 - Q))\n",
    "        change = (ll - ll_new) / ll\n",
    "        if abs(change) < .001:\n",
    "            break\n",
    "        else:\n",
    "            ll = ll_new\n",
    "    delta = (-np.log(1 - (1/N)))**.5\n",
    "    \n",
    "    return F > delta, W"
   ]
  },
  {
   "cell_type": "code",
   "execution_count": 19,
   "id": "18feff2c",
   "metadata": {},
   "outputs": [],
   "source": [
    "attr_mat = np.array([np.random.rand(3) for node in G.nodes()])"
   ]
  },
  {
   "cell_type": "code",
   "execution_count": 20,
   "id": "0d2725b7",
   "metadata": {},
   "outputs": [],
   "source": [
    "r = bernoulli.rvs(attr_mat)"
   ]
  },
  {
   "cell_type": "code",
   "execution_count": 21,
   "id": "10088d6f",
   "metadata": {},
   "outputs": [],
   "source": [
    "A = nx.to_numpy_array(G)"
   ]
  },
  {
   "cell_type": "code",
   "execution_count": 183,
   "id": "a1389002",
   "metadata": {},
   "outputs": [],
   "source": [
    "F, W = train(A, r, 3, 400)"
   ]
  },
  {
   "cell_type": "code",
   "execution_count": 184,
   "id": "a5f8734a",
   "metadata": {},
   "outputs": [
    {
     "data": {
      "text/plain": [
       "array([[ 0.38828343, -0.14773731,  0.84552916],\n",
       "       [ 0.02547343,  0.2242985 ,  0.38686888],\n",
       "       [ 0.46386904,  0.04744827, -0.27769976]])"
      ]
     },
     "execution_count": 184,
     "metadata": {},
     "output_type": "execute_result"
    }
   ],
   "source": [
    "W"
   ]
  },
  {
   "cell_type": "code",
   "execution_count": null,
   "id": "cb890d61",
   "metadata": {},
   "outputs": [],
   "source": []
  },
  {
   "cell_type": "code",
   "execution_count": 187,
   "id": "b71c40da",
   "metadata": {},
   "outputs": [
    {
     "data": {
      "image/png": "[encoded data removed]",
      "text/plain": [
       "<Figure size 432x288 with 1 Axes>"
      ]
     },
     "metadata": {},
     "output_type": "display_data"
    }
   ],
   "source": [
    "nx.draw(G, pos = pos, node_color=np.argmax(F,1))"
   ]
  },
  {
   "cell_type": "code",
   "execution_count": 10,
   "id": "f0efd410",
   "metadata": {},
   "outputs": [],
   "source": [
    "r = bernoulli.rvs(attr_mat)"
   ]
  },
  {
   "cell_type": "code",
   "execution_count": 11,
   "id": "82f1533b",
   "metadata": {},
   "outputs": [],
   "source": [
    "X = r"
   ]
  },
  {
   "cell_type": "code",
   "execution_count": 12,
   "id": "e28f18bc",
   "metadata": {},
   "outputs": [],
   "source": [
    "F = np.random.rand(A.shape[0],3)"
   ]
  },
  {
   "cell_type": "code",
   "execution_count": 16,
   "id": "faec4428",
   "metadata": {},
   "outputs": [
    {
     "data": {
      "text/plain": [
       "array([[0.],\n",
       "       [0.],\n",
       "       [0.],\n",
       "       [0.],\n",
       "       [0.],\n",
       "       [0.],\n",
       "       [0.],\n",
       "       [0.],\n",
       "       [0.],\n",
       "       [0.],\n",
       "       [0.],\n",
       "       [0.],\n",
       "       [0.],\n",
       "       [0.],\n",
       "       [0.]])"
      ]
     },
     "execution_count": 16,
     "metadata": {},
     "output_type": "execute_result"
    }
   ],
   "source": [
    "np.zeros((A.shape[0], 1))"
   ]
  },
  {
   "cell_type": "code",
   "execution_count": 12,
   "id": "4b1a4f7e",
   "metadata": {},
   "outputs": [],
   "source": [
    "W = np.random.rand(attr_mat.shape[1], 3)\n",
    "Q = np.divide(1, 1 + np.exp(-F.dot(W.T)))"
   ]
  },
  {
   "cell_type": "code",
   "execution_count": 17,
   "id": "a42733ce",
   "metadata": {},
   "outputs": [
    {
     "data": {
      "text/plain": [
       "array([[-2.19066251, -1.94284167, -1.11451379],\n",
       "       [-1.19420239, -1.69822925, -1.599987  ],\n",
       "       [-3.81706255, -2.54273981, -2.20906011]])"
      ]
     },
     "execution_count": 17,
     "metadata": {},
     "output_type": "execute_result"
    }
   ],
   "source": [
    "(X-Q).T.dot(F)"
   ]
  },
  {
   "cell_type": "code",
   "execution_count": 27,
   "id": "fec703c5",
   "metadata": {},
   "outputs": [
    {
     "data": {
      "text/plain": [
       "array([[-0.55850864, -0.61368096, -0.55836144],\n",
       "       [-0.64975145, -0.64498793, -0.58872347],\n",
       "       [-0.65142885,  0.28187628,  0.37936559],\n",
       "       [-0.74542044,  0.25916467, -0.62237092],\n",
       "       [-0.73197842, -0.71508777, -0.61297821],\n",
       "       [-0.75126923,  0.34009435,  0.40238946],\n",
       "       [-0.60098235,  0.38119355, -0.54740357],\n",
       "       [-0.63047518,  0.26803926,  0.3970152 ],\n",
       "       [ 0.26115435,  0.37195998,  0.40685031],\n",
       "       [ 0.39692511, -0.59153684,  0.44784879],\n",
       "       [-0.81999754, -0.78589288, -0.6592967 ],\n",
       "       [ 0.39459824, -0.65119123, -0.57079829],\n",
       "       [ 0.37136248,  0.22377726,  0.38191158],\n",
       "       [-0.75368404,  0.32791117, -0.59898318],\n",
       "       [ 0.22368198, -0.69318924, -0.59798952]])"
      ]
     },
     "execution_count": 27,
     "metadata": {},
     "output_type": "execute_result"
    }
   ],
   "source": [
    "X-Q"
   ]
  },
  {
   "cell_type": "code",
   "execution_count": 28,
   "id": "7d919736",
   "metadata": {},
   "outputs": [
    {
     "data": {
      "text/plain": [
       "array([[0.02901613, 0.78977294, 0.78560341],\n",
       "       [0.86624472, 0.05766854, 0.74593758],\n",
       "       [0.35336792, 0.20381885, 0.25900221]])"
      ]
     },
     "execution_count": 28,
     "metadata": {},
     "output_type": "execute_result"
    }
   ],
   "source": [
    "W"
   ]
  },
  {
   "cell_type": "code",
   "execution_count": 32,
   "id": "6de55e09",
   "metadata": {},
   "outputs": [
    {
     "data": {
      "text/plain": [
       "array([[0.49923474, 0.25877888, 0.02068375],\n",
       "       [0.55986629, 0.66339788, 0.09899142],\n",
       "       [0.93791131, 0.64313949, 0.11478707],\n",
       "       [0.51933717, 0.58555979, 0.75967921],\n",
       "       [0.47724546, 0.62695346, 0.63096065],\n",
       "       [0.22770602, 0.83452632, 0.55969662],\n",
       "       [0.17200186, 0.07028383, 0.44432192],\n",
       "       [0.73071288, 0.16689824, 0.48528522],\n",
       "       [0.26162027, 0.98676967, 0.32212468],\n",
       "       [0.2675659 , 0.36296898, 0.15767109],\n",
       "       [0.62352041, 0.95686458, 0.9451753 ],\n",
       "       [0.45842873, 0.2406932 , 0.28593226],\n",
       "       [0.89770195, 0.01286795, 0.62393517],\n",
       "       [0.22032232, 0.76423716, 0.64713493],\n",
       "       [0.06100946, 0.60327744, 0.97519239]])"
      ]
     },
     "execution_count": 32,
     "metadata": {},
     "output_type": "execute_result"
    }
   ],
   "source": [
    "F"
   ]
  },
  {
   "cell_type": "code",
   "execution_count": 34,
   "id": "9da40c57",
   "metadata": {},
   "outputs": [
    {
     "data": {
      "text/plain": [
       "array([-2.70007323, -3.38850791, -2.72565162])"
      ]
     },
     "execution_count": 34,
     "metadata": {},
     "output_type": "execute_result"
    }
   ],
   "source": [
    "(X-Q)[:,0].dot(F)"
   ]
  },
  {
   "cell_type": "code",
   "execution_count": 70,
   "id": "87cacebf",
   "metadata": {},
   "outputs": [
    {
     "data": {
      "text/plain": [
       "array([-0.4491836 , -0.84993613, -0.38615046, -0.70817038, -1.18442525,\n",
       "        0.33796518, -0.31980174, -0.22329545,  0.56641862, -0.03789309,\n",
       "       -1.88642922, -0.13905177,  0.57454044, -0.30307445, -0.98769355])"
      ]
     },
     "execution_count": 70,
     "metadata": {},
     "output_type": "execute_result"
    }
   ],
   "source": [
    "np.sum((X-Q)*F, axis = 1)"
   ]
  },
  {
   "cell_type": "code",
   "execution_count": 78,
   "id": "3b80cd94",
   "metadata": {},
   "outputs": [
    {
     "data": {
      "text/plain": [
       "array([[-2.70007323, -3.38850791, -2.72565162],\n",
       "       [-0.88958168, -1.26773618, -1.03531966],\n",
       "       [-0.85282935, -1.69404368, -2.02837146]])"
      ]
     },
     "execution_count": 78,
     "metadata": {},
     "output_type": "execute_result"
    }
   ],
   "source": [
    "(X-Q).T.dot(F)"
   ]
  },
  {
   "cell_type": "code",
   "execution_count": 32,
   "id": "46466094",
   "metadata": {},
   "outputs": [
    {
     "data": {
      "text/plain": [
       "-38.24745321273891"
      ]
     },
     "execution_count": 32,
     "metadata": {},
     "output_type": "execute_result"
    }
   ],
   "source": [
    "np.sum(X*np.log(Q) + (1 - X)*np.log(1 - Q))"
   ]
  },
  {
   "cell_type": "code",
   "execution_count": 31,
   "id": "3b205f04",
   "metadata": {},
   "outputs": [
    {
     "data": {
      "text/plain": [
       "array([[0.83188316, 0.57099882, 0.41335032],\n",
       "       [0.1502041 , 0.86585031, 0.64456369],\n",
       "       [0.92239563, 0.53780645, 0.03032487],\n",
       "       [0.83070944, 0.0716564 , 0.42437599],\n",
       "       [0.91794534, 0.28133656, 0.28655788],\n",
       "       [0.58697926, 0.91375061, 0.67562283],\n",
       "       [0.86896529, 0.56967386, 0.85949531],\n",
       "       [0.36106567, 0.55469333, 0.12737662],\n",
       "       [0.2854244 , 0.27583251, 0.4269491 ],\n",
       "       [0.25438008, 0.71919536, 0.53314427],\n",
       "       [0.45380408, 0.43140985, 0.12989525],\n",
       "       [0.91663695, 0.0710327 , 0.40273391],\n",
       "       [0.57918898, 0.98063066, 0.67037769],\n",
       "       [0.29397678, 0.38383733, 0.26593979],\n",
       "       [0.09159491, 0.919213  , 0.28693405]])"
      ]
     },
     "execution_count": 31,
     "metadata": {},
     "output_type": "execute_result"
    }
   ],
   "source": [
    "F"
   ]
  },
  {
   "cell_type": "code",
   "execution_count": 178,
   "id": "e305ab20",
   "metadata": {},
   "outputs": [],
   "source": [
    "def bigclam(A, X, K, alpha):\n",
    "    \"\"\"\n",
    "    BigCLAM algorithm for community detection with node features and prior.\n",
    "    A: adjacency matrix of the graph\n",
    "    X: node feature matrix\n",
    "    K: number of communities\n",
    "    alpha: parameter for the prior probability\n",
    "    \"\"\"\n",
    "    N = A.shape[0] # number of nodes\n",
    "    F = X.shape[1] # number of features\n",
    "\n",
    "    # initialize community assignments and feature matrices\n",
    "    c = np.random.randint(0, K, N)\n",
    "    mu = np.random.rand(K, F)\n",
    "    sigma = np.random.rand(K, F)\n",
    "    count = 0\n",
    "    max_iter = 100\n",
    "    # E-step\n",
    "    while True:\n",
    "        # compute the prior probability\n",
    "        prior = np.zeros((N, K))\n",
    "        for k in range(K):\n",
    "            mask = (c == k)\n",
    "            prior[:, k] = np.sum(A[:, mask], axis=1) * alpha\n",
    "        # compute the likelihood\n",
    "        likelihood = np.zeros((N, K))\n",
    "        for k in range(K):\n",
    "            likelihood[:, k] = multivariate_normal.pdf(X, mean=mu[k], cov=sigma[k])\n",
    "        # compute the total probability\n",
    "        probability = likelihood * prior\n",
    "        probability /= np.sum(probability, axis=1, keepdims=True)\n",
    "\n",
    "        # check for convergence\n",
    "        new_c = np.argmax(probability, axis=1)\n",
    "        if np.array_equal(new_c, c):\n",
    "            break\n",
    "        c = new_c\n",
    "        if count == max_iter:\n",
    "            break\n",
    "        count +=1\n",
    "    return c"
   ]
  },
  {
   "cell_type": "code",
   "execution_count": 8,
   "id": "40d21a12",
   "metadata": {},
   "outputs": [],
   "source": [
    "attr_mat = np.array([np.random.rand(3) for node in G.nodes()])"
   ]
  },
  {
   "cell_type": "code",
   "execution_count": 176,
   "id": "d123334f",
   "metadata": {},
   "outputs": [],
   "source": [
    "pred = bigclam(A, attr_mat, 3, .05)"
   ]
  },
  {
   "cell_type": "code",
   "execution_count": 177,
   "id": "9cf40a72",
   "metadata": {},
   "outputs": [
    {
     "data": {
      "image/png": "[encoded data removed]",
      "text/plain": [
       "<Figure size 432x288 with 1 Axes>"
      ]
     },
     "metadata": {},
     "output_type": "display_data"
    }
   ],
   "source": [
    "pos = nx.spring_layout(G)\n",
    "nx.draw(G, pos = pos, node_color=pred)"
   ]
  }
 ],
 "metadata": {
  "kernelspec": {
   "display_name": "Python 3 (ipykernel)",
   "language": "python",
   "name": "python3"
  },
  "language_info": {
   "codemirror_mode": {
    "name": "ipython",
    "version": 3
   },
   "file_extension": ".py",
   "mimetype": "text/x-python",
   "name": "python",
   "nbconvert_exporter": "python",
   "pygments_lexer": "ipython3",
   "version": "3.9.12"
  }
 },
 "nbformat": 4,
 "nbformat_minor": 5
}
