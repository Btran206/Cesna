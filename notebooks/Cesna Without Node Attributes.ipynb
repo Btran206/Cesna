{
 "cells": [
  {
   "cell_type": "code",
   "execution_count": 1,
   "id": "5578d874",
   "metadata": {},
   "outputs": [],
   "source": [
    "import networkx as nx\n",
    "import numpy as np\n",
    "from random import random\n",
    "import pandas as pd\n",
    "from scipy.stats import bernoulli"
   ]
  },
  {
   "cell_type": "code",
   "execution_count": 2,
   "id": "7483003e",
   "metadata": {},
   "outputs": [],
   "source": [
    "G = nx.planted_partition_graph(3, 5, 0.7, 0.05, seed=40)"
   ]
  },
  {
   "cell_type": "code",
   "execution_count": 3,
   "id": "8cb7d231",
   "metadata": {},
   "outputs": [
    {
     "data": {
      "image/png": "[encoded data removed]",
      "text/plain": [
       "<Figure size 432x288 with 1 Axes>"
      ]
     },
     "metadata": {},
     "output_type": "display_data"
    }
   ],
   "source": [
    "pos = nx.spring_layout(G)\n",
    "nx.draw(G, pos = pos)"
   ]
  },
  {
   "cell_type": "code",
   "execution_count": 4,
   "id": "c3bbb77a",
   "metadata": {},
   "outputs": [],
   "source": [
    "# bigclam algorithm taken from https://github.com/RobRomijnders/bigclam\n",
    "def sigm(x):\n",
    "    return np.divide(np.exp(-1.*x),1.-np.exp(-1.*x))\n",
    "\n",
    "def log_likelihood(F, A):\n",
    "    \"\"\"implements equation 2 of \n",
    "    https://cs.stanford.edu/people/jure/pubs/bigclam-wsdm13.pdf\"\"\"\n",
    "    A_soft = F.dot(F.T)\n",
    "\n",
    "    # Next two lines are multiplied with the adjacency matrix, A\n",
    "    # A is a {0,1} matrix, so we zero out all elements not contributing to the sum\n",
    "    FIRST_PART = A*np.log(1.-np.exp(-1.*A_soft))\n",
    "    sum_edges = np.sum(FIRST_PART)\n",
    "    SECOND_PART = (1-A)*A_soft\n",
    "    sum_nedges = np.sum(SECOND_PART)\n",
    "\n",
    "    log_likeli = sum_edges - sum_nedges\n",
    "    return log_likeli\n",
    "\n",
    "def gradient(F, A, i):\n",
    "    \"\"\"Implements equation 3 of\n",
    "    https://cs.stanford.edu/people/jure/pubs/bigclam-wsdm13.pdf\n",
    "    \n",
    "      * i indicates the row under consideration\n",
    "    \n",
    "    The many forloops in this function can be optimized, but for\n",
    "    educational purposes we write them out clearly\n",
    "    \"\"\"\n",
    "    N, C = F.shape\n",
    "\n",
    "    neighbours = np.where(A[i])\n",
    "    nneighbours = np.where(1-A[i])\n",
    "\n",
    "    sum_neigh = np.zeros((C,))\n",
    "    for nb in neighbours[0]:\n",
    "        dotproduct = F[nb].dot(F[i])\n",
    "        sum_neigh += F[nb]*sigm(dotproduct)\n",
    "\n",
    "    sum_nneigh = np.zeros((C,))\n",
    "    #Speed up this computation using eq.4\n",
    "    for nnb in nneighbours[0]:\n",
    "        sum_nneigh += F[nnb]\n",
    "\n",
    "    grad = sum_neigh - sum_nneigh\n",
    "    return grad\n",
    "\n",
    "def train(A, Att, C, iterations = 100):\n",
    "    # initialize an F\n",
    "    N = A.shape[0]\n",
    "    F = np.random.rand(N,C)\n",
    "    W = np.random.rand(Att.shape[1], C)\n",
    "    F_new = np.zeros((N,C))\n",
    "    for n in range(iterations):\n",
    "        for person in range(N):\n",
    "            grad = gradient(F, A, person)\n",
    "\n",
    "            F_new[person] += 0.005*grad\n",
    "            \n",
    "        Q = np.divide(1, 1 + np.exp(-F.dot(W.T)))\n",
    "        X = bernoulli.rvs(Q)\n",
    "        F_new += 0.005*(X-Q).dot(W)\n",
    "        F = np.maximum(.001, F_new)\n",
    "    \n",
    "    return F"
   ]
  },
  {
   "cell_type": "code",
   "execution_count": 12,
   "id": "dbeaa96a",
   "metadata": {},
   "outputs": [],
   "source": [
    "# without node attributes no longer works\n",
    "#likelihood = []\n",
    "#preference_matrix = []\n",
    "#for i in range(100):\n",
    "    #F, ll = train(A, 3)\n",
    "    #likelihood.append(ll)\n",
    "    #preference_matrix.append(F)\n",
    "#best = np.argmax(likelihood)\n",
    "#pred = np.argmax(preference_matrix[best], 1)"
   ]
  },
  {
   "cell_type": "code",
   "execution_count": null,
   "id": "50541998",
   "metadata": {},
   "outputs": [],
   "source": [
    "attr_mat = np.array([np.random.rand(3) for node in G.nodes()])"
   ]
  },
  {
   "cell_type": "code",
   "execution_count": 5,
   "id": "10088d6f",
   "metadata": {},
   "outputs": [],
   "source": [
    "A = nx.to_numpy_array(G)"
   ]
  },
  {
   "cell_type": "code",
   "execution_count": 6,
   "id": "1564398a",
   "metadata": {},
   "outputs": [],
   "source": [
    "F = np.random.rand(A.shape[0], 3)"
   ]
  },
  {
   "cell_type": "code",
   "execution_count": 9,
   "id": "00a42b0b",
   "metadata": {},
   "outputs": [],
   "source": [
    "W = np.random.rand(attr_mat.shape[1], 3)"
   ]
  },
  {
   "cell_type": "code",
   "execution_count": 11,
   "id": "971d65ff",
   "metadata": {},
   "outputs": [
    {
     "data": {
      "text/plain": [
       "array([[0., 1., 0., 1., 1., 0., 0., 1., 0., 0., 0., 0., 0., 0., 0.],\n",
       "       [1., 0., 0., 1., 1., 0., 0., 0., 0., 0., 0., 0., 0., 1., 0.],\n",
       "       [0., 0., 0., 1., 0., 0., 0., 0., 0., 0., 0., 0., 0., 0., 0.],\n",
       "       [1., 1., 1., 0., 1., 0., 0., 0., 0., 0., 0., 0., 0., 1., 0.],\n",
       "       [1., 1., 0., 1., 0., 0., 0., 0., 0., 0., 0., 0., 0., 0., 0.],\n",
       "       [0., 0., 0., 0., 0., 0., 0., 1., 1., 1., 0., 0., 0., 1., 0.],\n",
       "       [0., 0., 0., 0., 0., 0., 0., 0., 1., 1., 0., 0., 0., 0., 0.],\n",
       "       [1., 0., 0., 0., 0., 1., 0., 0., 0., 0., 0., 0., 0., 0., 0.],\n",
       "       [0., 0., 0., 0., 0., 1., 1., 0., 0., 1., 0., 0., 0., 0., 0.],\n",
       "       [0., 0., 0., 0., 0., 1., 1., 0., 1., 0., 0., 0., 0., 0., 0.],\n",
       "       [0., 0., 0., 0., 0., 0., 0., 0., 0., 0., 0., 0., 1., 1., 1.],\n",
       "       [0., 0., 0., 0., 0., 0., 0., 0., 0., 0., 0., 0., 1., 0., 1.],\n",
       "       [0., 0., 0., 0., 0., 0., 0., 0., 0., 0., 1., 1., 0., 0., 0.],\n",
       "       [0., 1., 0., 1., 0., 1., 0., 0., 0., 0., 1., 0., 0., 0., 1.],\n",
       "       [0., 0., 0., 0., 0., 0., 0., 0., 0., 0., 1., 1., 0., 1., 0.]])"
      ]
     },
     "execution_count": 11,
     "metadata": {},
     "output_type": "execute_result"
    }
   ],
   "source": [
    "A"
   ]
  },
  {
   "cell_type": "code",
   "execution_count": 42,
   "id": "541db30d",
   "metadata": {},
   "outputs": [
    {
     "data": {
      "text/plain": [
       "array([[0.18583743, 0.72704353, 0.87902276],\n",
       "       [0.21614431, 0.61681739, 0.65503186],\n",
       "       [0.12418491, 0.98425649, 0.02351312],\n",
       "       [0.27080544, 0.50360124, 0.39985631],\n",
       "       [0.24645156, 0.67854964, 0.92424801],\n",
       "       [0.45407945, 0.50023708, 0.8327005 ],\n",
       "       [0.88711803, 0.65058863, 0.41539647],\n",
       "       [0.50443369, 0.51977115, 0.74766564],\n",
       "       [0.21964998, 0.93135168, 0.41076973],\n",
       "       [0.47035485, 0.586586  , 0.86760251],\n",
       "       [0.79351125, 0.13391136, 0.00386438],\n",
       "       [0.24769012, 0.97071998, 0.17337064],\n",
       "       [0.1754222 , 0.88053531, 0.36758522],\n",
       "       [0.66579944, 0.5893341 , 0.60561528],\n",
       "       [0.62944185, 0.8696942 , 0.41088623]])"
      ]
     },
     "execution_count": 42,
     "metadata": {},
     "output_type": "execute_result"
    }
   ],
   "source": [
    "F"
   ]
  },
  {
   "cell_type": "code",
   "execution_count": 18,
   "id": "1adc5377",
   "metadata": {},
   "outputs": [
    {
     "data": {
      "text/plain": [
       "array([[0.07108923, 0.84671457, 0.09820188],\n",
       "       [0.52815388, 0.14777508, 0.09211004],\n",
       "       [0.45059146, 0.62791842, 0.62167494]])"
      ]
     },
     "execution_count": 18,
     "metadata": {},
     "output_type": "execute_result"
    }
   ],
   "source": [
    "for i in F.shape[0]:\n",
    "    F[i:].dot(W)"
   ]
  },
  {
   "cell_type": "code",
   "execution_count": 55,
   "id": "a1389002",
   "metadata": {},
   "outputs": [
    {
     "data": {
      "text/plain": [
       "array([[0.67153395, 0.5711529 , 0.74776493],\n",
       "       [0.6461044 , 0.56602288, 0.70928637],\n",
       "       [0.69941665, 0.55309979, 0.66565697],\n",
       "       [0.61891005, 0.56322904, 0.66525999],\n",
       "       [0.66436798, 0.57824415, 0.75244677],\n",
       "       [0.63125649, 0.59639018, 0.7381512 ],\n",
       "       [0.65807334, 0.64632814, 0.74392807],\n",
       "       [0.63399168, 0.6015902 , 0.73467493],\n",
       "       [0.69942098, 0.57235734, 0.71892804],\n",
       "       [0.64915074, 0.60229035, 0.7539206 ],\n",
       "       [0.5424412 , 0.6080781 , 0.60922059],\n",
       "       [0.70194064, 0.57205388, 0.69612656],\n",
       "       [0.68871749, 0.56380754, 0.70275813],\n",
       "       [0.64698247, 0.62116987, 0.74011246],\n",
       "       [0.69455022, 0.62217917, 0.74746843]])"
      ]
     },
     "execution_count": 55,
     "metadata": {},
     "output_type": "execute_result"
    }
   ],
   "source": [
    "Q = np.divide(1, 1 + np.exp(-F.dot(W.T)))\n",
    "Q"
   ]
  },
  {
   "cell_type": "code",
   "execution_count": 56,
   "id": "66755250",
   "metadata": {},
   "outputs": [
    {
     "data": {
      "text/plain": [
       "array([[0, 1, 0],\n",
       "       [0, 1, 0],\n",
       "       [1, 0, 1],\n",
       "       [1, 1, 1],\n",
       "       [1, 1, 1],\n",
       "       [0, 1, 1],\n",
       "       [0, 1, 1],\n",
       "       [1, 1, 1],\n",
       "       [0, 1, 1],\n",
       "       [0, 0, 1],\n",
       "       [1, 1, 1],\n",
       "       [1, 0, 0],\n",
       "       [0, 0, 1],\n",
       "       [0, 0, 1],\n",
       "       [0, 1, 1]], dtype=int64)"
      ]
     },
     "execution_count": 56,
     "metadata": {},
     "output_type": "execute_result"
    }
   ],
   "source": [
    "X = bernoulli.rvs(Q)\n",
    "X"
   ]
  },
  {
   "cell_type": "code",
   "execution_count": 85,
   "id": "6bf03054",
   "metadata": {},
   "outputs": [
    {
     "data": {
      "text/plain": [
       "array([[-0.15817806, -0.97476004, -0.4913115 ],\n",
       "       [-0.13632275, -0.92830899, -0.46442059],\n",
       "       [-0.12010145,  0.38271408,  0.18642449],\n",
       "       [ 0.40860466,  0.5974077 ,  0.28575422],\n",
       "       [ 0.35815718,  0.50195276,  0.22570529],\n",
       "       [ 0.28627939, -0.3104309 ,  0.13797078],\n",
       "       [ 0.25539506, -0.34414412,  0.12714619],\n",
       "       [ 0.35599414,  0.53538211,  0.2375862 ],\n",
       "       [ 0.30278846, -0.35252474,  0.14544112],\n",
       "       [-0.25336833, -0.4841311 ,  0.03375659],\n",
       "       [ 0.41560444,  0.69071558,  0.32397085],\n",
       "       [-0.59461235, -0.2692748 , -0.45618636],\n",
       "       [-0.21280289, -0.4798202 ,  0.06522213],\n",
       "       [-0.25696365, -0.47641474,  0.04081469],\n",
       "       [ 0.26396107, -0.37368406,  0.1235875 ]])"
      ]
     },
     "execution_count": 85,
     "metadata": {},
     "output_type": "execute_result"
    }
   ],
   "source": [
    "(X-Q).dot(W)"
   ]
  },
  {
   "cell_type": "code",
   "execution_count": 69,
   "id": "2f2e134d",
   "metadata": {},
   "outputs": [
    {
     "data": {
      "text/plain": [
       "array([[0.07108923, 0.84671457, 0.09820188],\n",
       "       [0.52815388, 0.14777508, 0.09211004],\n",
       "       [0.45059146, 0.62791842, 0.62167494]])"
      ]
     },
     "execution_count": 69,
     "metadata": {},
     "output_type": "execute_result"
    }
   ],
   "source": [
    "W"
   ]
  },
  {
   "cell_type": "code",
   "execution_count": 91,
   "id": "8ab5603a",
   "metadata": {},
   "outputs": [
    {
     "data": {
      "text/plain": [
       "array([[1.52322516e-01, 5.53653203e-01, 6.35171456e-01],\n",
       "       [1.25132828e+00, 1.80272962e+00, 1.80403905e+00],\n",
       "       [1.00000000e-03, 7.90904682e-02, 7.09035714e-02],\n",
       "       [2.37429280e+00, 2.95290750e+00, 2.94743931e+00],\n",
       "       [1.00000000e-03, 2.60679027e-01, 2.76621579e-01],\n",
       "       [5.00918714e-01, 1.00000000e-03, 1.00000000e-03],\n",
       "       [2.23132048e-01, 1.00000000e-03, 1.00000000e-03],\n",
       "       [1.60894531e-01, 1.00000000e-03, 7.72289485e-02],\n",
       "       [3.33461604e-01, 1.00000000e-03, 1.00000000e-03],\n",
       "       [3.23654515e-01, 1.00000000e-03, 1.00000000e-03],\n",
       "       [3.83723913e-01, 1.00000000e-03, 1.00000000e-03],\n",
       "       [2.23639396e-01, 1.00000000e-03, 1.00000000e-03],\n",
       "       [2.11531741e-01, 1.00000000e-03, 1.00000000e-03],\n",
       "       [2.61534807e+00, 2.66634723e+00, 2.64473873e+00],\n",
       "       [3.88484167e-01, 1.00000000e-03, 1.00000000e-03]])"
      ]
     },
     "execution_count": 91,
     "metadata": {},
     "output_type": "execute_result"
    }
   ],
   "source": [
    "train(A, attr_mat, 3)"
   ]
  },
  {
   "cell_type": "code",
   "execution_count": null,
   "id": "4adc2349",
   "metadata": {},
   "outputs": [],
   "source": []
  },
  {
   "cell_type": "code",
   "execution_count": 155,
   "id": "b71c40da",
   "metadata": {},
   "outputs": [
    {
     "data": {
      "image/png": "[encoded data removed]",
      "text/plain": [
       "<Figure size 432x288 with 1 Axes>"
      ]
     },
     "metadata": {},
     "output_type": "display_data"
    }
   ],
   "source": [
    "pos = nx.spring_layout(G)\n",
    "nx.draw(G, pos = pos, node_color=pred)"
   ]
  },
  {
   "cell_type": "code",
   "execution_count": 178,
   "id": "e305ab20",
   "metadata": {},
   "outputs": [],
   "source": [
    "def bigclam(A, X, K, alpha):\n",
    "    \"\"\"\n",
    "    BigCLAM algorithm for community detection with node features and prior.\n",
    "    A: adjacency matrix of the graph\n",
    "    X: node feature matrix\n",
    "    K: number of communities\n",
    "    alpha: parameter for the prior probability\n",
    "    \"\"\"\n",
    "    N = A.shape[0] # number of nodes\n",
    "    F = X.shape[1] # number of features\n",
    "\n",
    "    # initialize community assignments and feature matrices\n",
    "    c = np.random.randint(0, K, N)\n",
    "    mu = np.random.rand(K, F)\n",
    "    sigma = np.random.rand(K, F)\n",
    "    count = 0\n",
    "    max_iter = 100\n",
    "    # E-step\n",
    "    while True:\n",
    "        # compute the prior probability\n",
    "        prior = np.zeros((N, K))\n",
    "        for k in range(K):\n",
    "            mask = (c == k)\n",
    "            prior[:, k] = np.sum(A[:, mask], axis=1) * alpha\n",
    "        # compute the likelihood\n",
    "        likelihood = np.zeros((N, K))\n",
    "        for k in range(K):\n",
    "            likelihood[:, k] = multivariate_normal.pdf(X, mean=mu[k], cov=sigma[k])\n",
    "        # compute the total probability\n",
    "        probability = likelihood * prior\n",
    "        probability /= np.sum(probability, axis=1, keepdims=True)\n",
    "\n",
    "        # check for convergence\n",
    "        new_c = np.argmax(probability, axis=1)\n",
    "        if np.array_equal(new_c, c):\n",
    "            break\n",
    "        c = new_c\n",
    "        if count == max_iter:\n",
    "            break\n",
    "        count +=1\n",
    "    return c"
   ]
  },
  {
   "cell_type": "code",
   "execution_count": 8,
   "id": "40d21a12",
   "metadata": {},
   "outputs": [],
   "source": [
    "attr_mat = np.array([np.random.rand(3) for node in G.nodes()])"
   ]
  },
  {
   "cell_type": "code",
   "execution_count": 176,
   "id": "d123334f",
   "metadata": {},
   "outputs": [],
   "source": [
    "pred = bigclam(A, attr_mat, 3, .05)"
   ]
  },
  {
   "cell_type": "code",
   "execution_count": 177,
   "id": "9cf40a72",
   "metadata": {},
   "outputs": [
    {
     "data": {
      "image/png": "[encoded data removed]",
      "text/plain": [
       "<Figure size 432x288 with 1 Axes>"
      ]
     },
     "metadata": {},
     "output_type": "display_data"
    }
   ],
   "source": [
    "pos = nx.spring_layout(G)\n",
    "nx.draw(G, pos = pos, node_color=pred)"
   ]
  }
 ],
 "metadata": {
  "kernelspec": {
   "display_name": "Python 3 (ipykernel)",
   "language": "python",
   "name": "python3"
  },
  "language_info": {
   "codemirror_mode": {
    "name": "ipython",
    "version": 3
   },
   "file_extension": ".py",
   "mimetype": "text/x-python",
   "name": "python",
   "nbconvert_exporter": "python",
   "pygments_lexer": "ipython3",
   "version": "3.9.12"
  }
 },
 "nbformat": 4,
 "nbformat_minor": 5
}
