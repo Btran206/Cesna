{
 "cells": [
  {
   "cell_type": "code",
   "execution_count": 1,
   "metadata": {},
   "outputs": [
    {
     "ename": "KeyError",
     "evalue": "'artists'",
     "output_type": "error",
     "traceback": [
      "\u001b[0;31m---------------------------------------------------------------------------\u001b[0m",
      "\u001b[0;31mKeyError\u001b[0m                                  Traceback (most recent call last)",
      "\u001b[0;32m<ipython-input-1-6846d07b9f52>\u001b[0m in \u001b[0;36m<module>\u001b[0;34m\u001b[0m\n\u001b[1;32m     26\u001b[0m \u001b[0;34m\u001b[0m\u001b[0m\n\u001b[1;32m     27\u001b[0m     \u001b[0;31m# Append the artist's genres to the list of genres\u001b[0m\u001b[0;34m\u001b[0m\u001b[0;34m\u001b[0m\u001b[0;34m\u001b[0m\u001b[0m\n\u001b[0;32m---> 28\u001b[0;31m     \u001b[0mgenres\u001b[0m\u001b[0;34m.\u001b[0m\u001b[0mextend\u001b[0m\u001b[0;34m(\u001b[0m\u001b[0mdata\u001b[0m\u001b[0;34m[\u001b[0m\u001b[0;34m\"artists\"\u001b[0m\u001b[0;34m]\u001b[0m\u001b[0;34m[\u001b[0m\u001b[0;34m\"items\"\u001b[0m\u001b[0;34m]\u001b[0m\u001b[0;34m[\u001b[0m\u001b[0;36m0\u001b[0m\u001b[0;34m]\u001b[0m\u001b[0;34m[\u001b[0m\u001b[0;34m\"genres\"\u001b[0m\u001b[0;34m]\u001b[0m\u001b[0;34m)\u001b[0m\u001b[0;34m\u001b[0m\u001b[0;34m\u001b[0m\u001b[0m\n\u001b[0m\u001b[1;32m     29\u001b[0m \u001b[0;34m\u001b[0m\u001b[0m\n\u001b[1;32m     30\u001b[0m \u001b[0;31m# Remove duplicates from the list of genres\u001b[0m\u001b[0;34m\u001b[0m\u001b[0;34m\u001b[0m\u001b[0;34m\u001b[0m\u001b[0m\n",
      "\u001b[0;31mKeyError\u001b[0m: 'artists'"
     ]
    }
   ],
   "source": [
    "import requests\n",
    "import json\n",
    "\n"
   ]
  },
  {
   "cell_type": "code",
   "execution_count": 10,
   "metadata": {},
   "outputs": [
    {
     "data": {
      "text/plain": [
       "'BQAdakVKXipqMtPafco4z2jbtugPs7jTl552eY1sVdCb_0L9Bp15xC5VYf8gfA-3Cbl5xDTMZBz6DmqK9c4ePYi_n9hcXGAXq9w18QQwSOAzrFKSr5s'"
      ]
     },
     "execution_count": 10,
     "metadata": {},
     "output_type": "execute_result"
    }
   ],
   "source": [
    "#DO NOT NEED TO RUN AGAIN, JUST NEEDED TO GENERATE AUTH KEY \n",
    "uth_url = 'https://accounts.spotify.com/api/token'\n",
    "data = {\n",
    "#    'grant_type': 'client_credentials',\n",
    "#    'client_id': \"8ac5bd4f29854a4abb37648a5b7833d8\",\n",
    "#    'client_secret': \"c9f1281a0f774d97ae7d002139e53049\",\n",
    "}\n",
    "auth_response = requests.post(auth_url, data=data)\n",
    "access_token = auth_response.json().get('access_token')\n",
    "access_token"
   ]
  },
  {
   "attachments": {},
   "cell_type": "markdown",
   "metadata": {},
   "source": [
    "ACCESS KEY = \"BQAdakVKXipqMtPafco4z2jbtugPs7jTl552eY1sVdCb_0L9Bp15xC5VYf8gfA-3Cbl5xDTMZBz6DmqK9c4ePYi_n9hcXGAXq9w18QQwSOAzrFKSr5s\""
   ]
  },
  {
   "cell_type": "code",
   "execution_count": 17,
   "metadata": {},
   "outputs": [
    {
     "data": {
      "text/plain": [
       "'Bearer BQAdakVKXipqMtPafco4z2jbtugPs7jTl552eY1sVdCb_0L9Bp15xC5VYf8gfA-3Cbl5xDTMZBz6DmqK9c4ePYi_n9hcXGAXq9w18QQwSOAzrFKSr5s'"
      ]
     },
     "execution_count": 17,
     "metadata": {},
     "output_type": "execute_result"
    }
   ],
   "source": [
    "ACCESS_TOKEN_LINE = \"Bearer \" + access_token\n",
    "ACCESS_TOKEN_LINE"
   ]
  },
  {
   "cell_type": "code",
   "execution_count": 19,
   "metadata": {},
   "outputs": [],
   "source": [
    "def get_spotify_genres(access, artist_names):\n",
    "    # Set up the API endpoint and headers\n",
    "    endpoint = \"https://api.spotify.com/v1/search\"\n",
    "    headers = {\n",
    "        \"Authorization\": access\n",
    "    }\n",
    "\n",
    "    # Create an empty list to store the genres\n",
    "    artist_genres = {}\n",
    "\n",
    "    # Iterate over the list of artists\n",
    "    for artist_name in artist_names:\n",
    "        # Specify the search parameters\n",
    "        params = {\n",
    "            \"q\": artist_name,\n",
    "            \"type\": \"artist\"\n",
    "        }\n",
    "\n",
    "        # Send a GET request to the API endpoint\n",
    "        response = requests.get(endpoint, headers=headers, params=params)\n",
    "\n",
    "        # Parse the response as JSON\n",
    "        data = json.loads(response.text)\n",
    "        # Append the artist's genres to the list of genres\n",
    "        artist_genres[artist_name] = data[\"artists\"][\"items\"][0][\"genres\"]\n",
    "    return artist_genres"
   ]
  },
  {
   "cell_type": "code",
   "execution_count": 20,
   "metadata": {},
   "outputs": [
    {
     "data": {
      "text/plain": [
       "{'ariana grande': ['dance pop', 'pop'],\n",
       " 'justin beiber': ['canadian pop', 'pop']}"
      ]
     },
     "execution_count": 20,
     "metadata": {},
     "output_type": "execute_result"
    }
   ],
   "source": [
    "artist_tests = [\"ariana grande\", \"justin beiber\"]\n",
    "get_spotify_genres(ACCESS_TOKEN_LINE, artist_tests)"
   ]
  },
  {
   "cell_type": "code",
   "execution_count": null,
   "metadata": {},
   "outputs": [],
   "source": [
    "# album genres also exist, could find the biggest overlap between an artist and all relevent albums for a single genre to designate"
   ]
  }
 ],
 "metadata": {
  "kernelspec": {
   "display_name": "Python 3",
   "language": "python",
   "name": "python3"
  },
  "language_info": {
   "codemirror_mode": {
    "name": "ipython",
    "version": 3
   },
   "file_extension": ".py",
   "mimetype": "text/x-python",
   "name": "python",
   "nbconvert_exporter": "python",
   "pygments_lexer": "ipython3",
   "version": "3.8.5"
  },
  "orig_nbformat": 4,
  "vscode": {
   "interpreter": {
    "hash": "40d3a090f54c6569ab1632332b64b2c03c39dcf918b08424e98f38b5ae0af88f"
   }
  }
 },
 "nbformat": 4,
 "nbformat_minor": 2
}
