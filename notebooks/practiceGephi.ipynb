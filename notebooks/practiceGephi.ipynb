{
 "cells": [
  {
   "cell_type": "code",
   "execution_count": 1,
   "metadata": {},
   "outputs": [],
   "source": [
    "import requests\n",
    "import json\n",
    "import pandas as pd\n",
    "import time\n",
    "import matplotlib.pyplot as plt\n",
    "import numpy as np\n",
    "import networkx as nx\n",
    "import itertools\n",
    "from itertools import product\n",
    "import random"
   ]
  },
  {
   "cell_type": "code",
   "execution_count": 2,
   "metadata": {},
   "outputs": [],
   "source": [
    "df = pd.read_csv('../data/kaggle/raw/spotify_dataset.csv', usecols=range(4), lineterminator='\\n', header=0)"
   ]
  },
  {
   "cell_type": "code",
   "execution_count": 3,
   "metadata": {},
   "outputs": [],
   "source": [
    "df.columns = [x.replace('\"', '').lstrip() for x in df.columns]"
   ]
  },
  {
   "cell_type": "code",
   "execution_count": 4,
   "metadata": {},
   "outputs": [
    {
     "name": "stdout",
     "output_type": "stream",
     "text": [
      "Number of Playlists: 161530\n",
      "Number of Artists: 290002\n"
     ]
    }
   ],
   "source": [
    "playlists = df['playlistname'].unique()\n",
    "print('Number of Playlists:', len(playlists))\n",
    "print('Number of Artists:', len(df['artistname'].unique()))"
   ]
  },
  {
   "cell_type": "markdown",
   "metadata": {},
   "source": [
    "#### Problem:\n",
    "- Networkx takes too much time to load up a graph with all the data <br>\n",
    "- In ~5 min we can retrieve 2000 artist genres\n"
   ]
  },
  {
   "cell_type": "markdown",
   "metadata": {},
   "source": [
    "#### Potential Solution:\n",
    "- Sample 1,000 playlists\n",
    "- See if there is a sufficient amount of artists and playlist appearances"
   ]
  },
  {
   "cell_type": "code",
   "execution_count": 5,
   "metadata": {},
   "outputs": [],
   "source": [
    "np.random.seed(0)\n",
    "sample_playlists = np.random.choice(playlists, 1000, replace=False)\n",
    "sampled_df = df[df['playlistname'].isin(sample_playlists)]"
   ]
  },
  {
   "cell_type": "code",
   "execution_count": 6,
   "metadata": {},
   "outputs": [
    {
     "name": "stdout",
     "output_type": "stream",
     "text": [
      "Number of songs in sample: 66969\n",
      "Number of Artists: 11292\n"
     ]
    }
   ],
   "source": [
    "print('Number of songs in sample:', len(sampled_df))\n",
    "print('Number of Artists:', len(sampled_df['artistname'].unique()))"
   ]
  },
  {
   "cell_type": "code",
   "execution_count": 7,
   "metadata": {},
   "outputs": [
    {
     "data": {
      "text/html": [
       "<div>\n",
       "<style scoped>\n",
       "    .dataframe tbody tr th:only-of-type {\n",
       "        vertical-align: middle;\n",
       "    }\n",
       "\n",
       "    .dataframe tbody tr th {\n",
       "        vertical-align: top;\n",
       "    }\n",
       "\n",
       "    .dataframe thead th {\n",
       "        text-align: right;\n",
       "    }\n",
       "</style>\n",
       "<table border=\"1\" class=\"dataframe\">\n",
       "  <thead>\n",
       "    <tr style=\"text-align: right;\">\n",
       "      <th></th>\n",
       "      <th>trackname</th>\n",
       "      <th>playlistname</th>\n",
       "    </tr>\n",
       "    <tr>\n",
       "      <th>artistname</th>\n",
       "      <th></th>\n",
       "      <th></th>\n",
       "    </tr>\n",
       "  </thead>\n",
       "  <tbody>\n",
       "    <tr>\n",
       "      <th>!!!</th>\n",
       "      <td>1</td>\n",
       "      <td>1</td>\n",
       "    </tr>\n",
       "    <tr>\n",
       "      <th>047</th>\n",
       "      <td>1</td>\n",
       "      <td>1</td>\n",
       "    </tr>\n",
       "    <tr>\n",
       "      <th>10 Below</th>\n",
       "      <td>1</td>\n",
       "      <td>1</td>\n",
       "    </tr>\n",
       "    <tr>\n",
       "      <th>10 Years</th>\n",
       "      <td>1</td>\n",
       "      <td>1</td>\n",
       "    </tr>\n",
       "    <tr>\n",
       "      <th>12 Stones</th>\n",
       "      <td>1</td>\n",
       "      <td>1</td>\n",
       "    </tr>\n",
       "    <tr>\n",
       "      <th>...</th>\n",
       "      <td>...</td>\n",
       "      <td>...</td>\n",
       "    </tr>\n",
       "    <tr>\n",
       "      <th>Jethro Tull</th>\n",
       "      <td>324</td>\n",
       "      <td>5</td>\n",
       "    </tr>\n",
       "    <tr>\n",
       "      <th>Neil Young</th>\n",
       "      <td>371</td>\n",
       "      <td>4</td>\n",
       "    </tr>\n",
       "    <tr>\n",
       "      <th>Animal Collective</th>\n",
       "      <td>474</td>\n",
       "      <td>7</td>\n",
       "    </tr>\n",
       "    <tr>\n",
       "      <th>David Bowie</th>\n",
       "      <td>494</td>\n",
       "      <td>18</td>\n",
       "    </tr>\n",
       "    <tr>\n",
       "      <th>Tony Bennett</th>\n",
       "      <td>564</td>\n",
       "      <td>5</td>\n",
       "    </tr>\n",
       "  </tbody>\n",
       "</table>\n",
       "<p>11291 rows × 2 columns</p>\n",
       "</div>"
      ],
      "text/plain": [
       "                   trackname  playlistname\n",
       "artistname                                \n",
       "!!!                        1             1\n",
       "047                        1             1\n",
       "10 Below                   1             1\n",
       "10 Years                   1             1\n",
       "12 Stones                  1             1\n",
       "...                      ...           ...\n",
       "Jethro Tull              324             5\n",
       "Neil Young               371             4\n",
       "Animal Collective        474             7\n",
       "David Bowie              494            18\n",
       "Tony Bennett             564             5\n",
       "\n",
       "[11291 rows x 2 columns]"
      ]
     },
     "execution_count": 7,
     "metadata": {},
     "output_type": "execute_result"
    }
   ],
   "source": [
    "appearances = sampled_df.groupby('artistname').agg({'trackname':'count', 'playlistname':lambda x: len(x.unique())})\n",
    "appearances.sort_values(by=['trackname', 'playlistname'])"
   ]
  },
  {
   "cell_type": "markdown",
   "metadata": {},
   "source": [
    "- There are some artists that appear on an insignificant amount of playlists, define this to be anything less than 10"
   ]
  },
  {
   "cell_type": "code",
   "execution_count": 8,
   "metadata": {},
   "outputs": [
    {
     "name": "stdout",
     "output_type": "stream",
     "text": [
      "# of artists on >= 10 playlists (sample): 199\n"
     ]
    }
   ],
   "source": [
    "artists = appearances[appearances['playlistname']>=10].index\n",
    "print('# of artists on >= 10 playlists (sample):', len(artists))"
   ]
  },
  {
   "cell_type": "code",
   "execution_count": 9,
   "metadata": {},
   "outputs": [
    {
     "data": {
      "text/html": [
       "<div>\n",
       "<style scoped>\n",
       "    .dataframe tbody tr th:only-of-type {\n",
       "        vertical-align: middle;\n",
       "    }\n",
       "\n",
       "    .dataframe tbody tr th {\n",
       "        vertical-align: top;\n",
       "    }\n",
       "\n",
       "    .dataframe thead th {\n",
       "        text-align: right;\n",
       "    }\n",
       "</style>\n",
       "<table border=\"1\" class=\"dataframe\">\n",
       "  <thead>\n",
       "    <tr style=\"text-align: right;\">\n",
       "      <th></th>\n",
       "      <th>user_id</th>\n",
       "      <th>artistname</th>\n",
       "      <th>trackname</th>\n",
       "      <th>playlistname</th>\n",
       "    </tr>\n",
       "  </thead>\n",
       "  <tbody>\n",
       "    <tr>\n",
       "      <th>1898</th>\n",
       "      <td>944c80d26922ae634d6ce445b1fdff7f</td>\n",
       "      <td>Kelly Clarkson</td>\n",
       "      <td>Because of You</td>\n",
       "      <td>JOOTDR</td>\n",
       "    </tr>\n",
       "    <tr>\n",
       "      <th>1903</th>\n",
       "      <td>944c80d26922ae634d6ce445b1fdff7f</td>\n",
       "      <td>Coldplay</td>\n",
       "      <td>Fix You</td>\n",
       "      <td>JOOTDR</td>\n",
       "    </tr>\n",
       "    <tr>\n",
       "      <th>1904</th>\n",
       "      <td>944c80d26922ae634d6ce445b1fdff7f</td>\n",
       "      <td>Passenger</td>\n",
       "      <td>Golden Thread (feat. Matt Corby)</td>\n",
       "      <td>JOOTDR</td>\n",
       "    </tr>\n",
       "    <tr>\n",
       "      <th>1915</th>\n",
       "      <td>944c80d26922ae634d6ce445b1fdff7f</td>\n",
       "      <td>Oasis</td>\n",
       "      <td>Stop Crying Your Heart Out</td>\n",
       "      <td>JOOTDR</td>\n",
       "    </tr>\n",
       "    <tr>\n",
       "      <th>1918</th>\n",
       "      <td>944c80d26922ae634d6ce445b1fdff7f</td>\n",
       "      <td>Passenger</td>\n",
       "      <td>The One You love (feat. Kate Miller Heidke)</td>\n",
       "      <td>JOOTDR</td>\n",
       "    </tr>\n",
       "    <tr>\n",
       "      <th>...</th>\n",
       "      <td>...</td>\n",
       "      <td>...</td>\n",
       "      <td>...</td>\n",
       "      <td>...</td>\n",
       "    </tr>\n",
       "    <tr>\n",
       "      <th>12847691</th>\n",
       "      <td>e6650a56a9c408231816d433da505557</td>\n",
       "      <td>Miley Cyrus</td>\n",
       "      <td>We Can't Stop</td>\n",
       "      <td>Trendy</td>\n",
       "    </tr>\n",
       "    <tr>\n",
       "      <th>12847693</th>\n",
       "      <td>e6650a56a9c408231816d433da505557</td>\n",
       "      <td>Lana Del Rey</td>\n",
       "      <td>West Coast</td>\n",
       "      <td>Trendy</td>\n",
       "    </tr>\n",
       "    <tr>\n",
       "      <th>12847694</th>\n",
       "      <td>e6650a56a9c408231816d433da505557</td>\n",
       "      <td>Two Door Cinema Club</td>\n",
       "      <td>What You Know</td>\n",
       "      <td>Trendy</td>\n",
       "    </tr>\n",
       "    <tr>\n",
       "      <th>12847695</th>\n",
       "      <td>e6650a56a9c408231816d433da505557</td>\n",
       "      <td>Lana Del Rey</td>\n",
       "      <td>Without You</td>\n",
       "      <td>Trendy</td>\n",
       "    </tr>\n",
       "    <tr>\n",
       "      <th>12847696</th>\n",
       "      <td>e6650a56a9c408231816d433da505557</td>\n",
       "      <td>The Naked And Famous</td>\n",
       "      <td>Young Blood</td>\n",
       "      <td>Trendy</td>\n",
       "    </tr>\n",
       "  </tbody>\n",
       "</table>\n",
       "<p>10981 rows × 4 columns</p>\n",
       "</div>"
      ],
      "text/plain": [
       "                                   user_id            artistname  \\\n",
       "1898      944c80d26922ae634d6ce445b1fdff7f        Kelly Clarkson   \n",
       "1903      944c80d26922ae634d6ce445b1fdff7f              Coldplay   \n",
       "1904      944c80d26922ae634d6ce445b1fdff7f             Passenger   \n",
       "1915      944c80d26922ae634d6ce445b1fdff7f                 Oasis   \n",
       "1918      944c80d26922ae634d6ce445b1fdff7f             Passenger   \n",
       "...                                    ...                   ...   \n",
       "12847691  e6650a56a9c408231816d433da505557           Miley Cyrus   \n",
       "12847693  e6650a56a9c408231816d433da505557          Lana Del Rey   \n",
       "12847694  e6650a56a9c408231816d433da505557  Two Door Cinema Club   \n",
       "12847695  e6650a56a9c408231816d433da505557          Lana Del Rey   \n",
       "12847696  e6650a56a9c408231816d433da505557  The Naked And Famous   \n",
       "\n",
       "                                            trackname playlistname  \n",
       "1898                                   Because of You       JOOTDR  \n",
       "1903                                          Fix You       JOOTDR  \n",
       "1904                 Golden Thread (feat. Matt Corby)       JOOTDR  \n",
       "1915                       Stop Crying Your Heart Out       JOOTDR  \n",
       "1918      The One You love (feat. Kate Miller Heidke)       JOOTDR  \n",
       "...                                               ...          ...  \n",
       "12847691                                We Can't Stop       Trendy  \n",
       "12847693                                   West Coast       Trendy  \n",
       "12847694                                What You Know       Trendy  \n",
       "12847695                                  Without You       Trendy  \n",
       "12847696                                  Young Blood       Trendy  \n",
       "\n",
       "[10981 rows x 4 columns]"
      ]
     },
     "execution_count": 9,
     "metadata": {},
     "output_type": "execute_result"
    }
   ],
   "source": [
    "df1 = sampled_df[sampled_df['artistname'].isin(artists)]\n",
    "df1"
   ]
  },
  {
   "cell_type": "markdown",
   "metadata": {},
   "source": [
    "- Only take playlists that have more than 1 artist (otherwise there's no edge)"
   ]
  },
  {
   "cell_type": "code",
   "execution_count": 10,
   "metadata": {},
   "outputs": [],
   "source": [
    "df1_grped = df1.groupby('playlistname').agg({'artistname':lambda x: len(x.unique())})\n",
    "playlists = df1_grped[df1_grped['artistname'] > 1].index"
   ]
  },
  {
   "cell_type": "code",
   "execution_count": 15,
   "metadata": {},
   "outputs": [
    {
     "data": {
      "text/html": [
       "<div>\n",
       "<style scoped>\n",
       "    .dataframe tbody tr th:only-of-type {\n",
       "        vertical-align: middle;\n",
       "    }\n",
       "\n",
       "    .dataframe tbody tr th {\n",
       "        vertical-align: top;\n",
       "    }\n",
       "\n",
       "    .dataframe thead th {\n",
       "        text-align: right;\n",
       "    }\n",
       "</style>\n",
       "<table border=\"1\" class=\"dataframe\">\n",
       "  <thead>\n",
       "    <tr style=\"text-align: right;\">\n",
       "      <th></th>\n",
       "      <th>user_id</th>\n",
       "      <th>artistname</th>\n",
       "      <th>trackname</th>\n",
       "      <th>playlistname</th>\n",
       "    </tr>\n",
       "  </thead>\n",
       "  <tbody>\n",
       "    <tr>\n",
       "      <th>1898</th>\n",
       "      <td>944c80d26922ae634d6ce445b1fdff7f</td>\n",
       "      <td>Kelly Clarkson</td>\n",
       "      <td>Because of You</td>\n",
       "      <td>JOOTDR</td>\n",
       "    </tr>\n",
       "    <tr>\n",
       "      <th>1903</th>\n",
       "      <td>944c80d26922ae634d6ce445b1fdff7f</td>\n",
       "      <td>Coldplay</td>\n",
       "      <td>Fix You</td>\n",
       "      <td>JOOTDR</td>\n",
       "    </tr>\n",
       "    <tr>\n",
       "      <th>1904</th>\n",
       "      <td>944c80d26922ae634d6ce445b1fdff7f</td>\n",
       "      <td>Passenger</td>\n",
       "      <td>Golden Thread (feat. Matt Corby)</td>\n",
       "      <td>JOOTDR</td>\n",
       "    </tr>\n",
       "    <tr>\n",
       "      <th>1915</th>\n",
       "      <td>944c80d26922ae634d6ce445b1fdff7f</td>\n",
       "      <td>Oasis</td>\n",
       "      <td>Stop Crying Your Heart Out</td>\n",
       "      <td>JOOTDR</td>\n",
       "    </tr>\n",
       "    <tr>\n",
       "      <th>1918</th>\n",
       "      <td>944c80d26922ae634d6ce445b1fdff7f</td>\n",
       "      <td>Passenger</td>\n",
       "      <td>The One You love (feat. Kate Miller Heidke)</td>\n",
       "      <td>JOOTDR</td>\n",
       "    </tr>\n",
       "    <tr>\n",
       "      <th>...</th>\n",
       "      <td>...</td>\n",
       "      <td>...</td>\n",
       "      <td>...</td>\n",
       "      <td>...</td>\n",
       "    </tr>\n",
       "    <tr>\n",
       "      <th>12847691</th>\n",
       "      <td>e6650a56a9c408231816d433da505557</td>\n",
       "      <td>Miley Cyrus</td>\n",
       "      <td>We Can't Stop</td>\n",
       "      <td>Trendy</td>\n",
       "    </tr>\n",
       "    <tr>\n",
       "      <th>12847693</th>\n",
       "      <td>e6650a56a9c408231816d433da505557</td>\n",
       "      <td>Lana Del Rey</td>\n",
       "      <td>West Coast</td>\n",
       "      <td>Trendy</td>\n",
       "    </tr>\n",
       "    <tr>\n",
       "      <th>12847694</th>\n",
       "      <td>e6650a56a9c408231816d433da505557</td>\n",
       "      <td>Two Door Cinema Club</td>\n",
       "      <td>What You Know</td>\n",
       "      <td>Trendy</td>\n",
       "    </tr>\n",
       "    <tr>\n",
       "      <th>12847695</th>\n",
       "      <td>e6650a56a9c408231816d433da505557</td>\n",
       "      <td>Lana Del Rey</td>\n",
       "      <td>Without You</td>\n",
       "      <td>Trendy</td>\n",
       "    </tr>\n",
       "    <tr>\n",
       "      <th>12847696</th>\n",
       "      <td>e6650a56a9c408231816d433da505557</td>\n",
       "      <td>The Naked And Famous</td>\n",
       "      <td>Young Blood</td>\n",
       "      <td>Trendy</td>\n",
       "    </tr>\n",
       "  </tbody>\n",
       "</table>\n",
       "<p>8805 rows × 4 columns</p>\n",
       "</div>"
      ],
      "text/plain": [
       "                                   user_id            artistname  \\\n",
       "1898      944c80d26922ae634d6ce445b1fdff7f        Kelly Clarkson   \n",
       "1903      944c80d26922ae634d6ce445b1fdff7f              Coldplay   \n",
       "1904      944c80d26922ae634d6ce445b1fdff7f             Passenger   \n",
       "1915      944c80d26922ae634d6ce445b1fdff7f                 Oasis   \n",
       "1918      944c80d26922ae634d6ce445b1fdff7f             Passenger   \n",
       "...                                    ...                   ...   \n",
       "12847691  e6650a56a9c408231816d433da505557           Miley Cyrus   \n",
       "12847693  e6650a56a9c408231816d433da505557          Lana Del Rey   \n",
       "12847694  e6650a56a9c408231816d433da505557  Two Door Cinema Club   \n",
       "12847695  e6650a56a9c408231816d433da505557          Lana Del Rey   \n",
       "12847696  e6650a56a9c408231816d433da505557  The Naked And Famous   \n",
       "\n",
       "                                            trackname playlistname  \n",
       "1898                                   Because of You       JOOTDR  \n",
       "1903                                          Fix You       JOOTDR  \n",
       "1904                 Golden Thread (feat. Matt Corby)       JOOTDR  \n",
       "1915                       Stop Crying Your Heart Out       JOOTDR  \n",
       "1918      The One You love (feat. Kate Miller Heidke)       JOOTDR  \n",
       "...                                               ...          ...  \n",
       "12847691                                We Can't Stop       Trendy  \n",
       "12847693                                   West Coast       Trendy  \n",
       "12847694                                What You Know       Trendy  \n",
       "12847695                                  Without You       Trendy  \n",
       "12847696                                  Young Blood       Trendy  \n",
       "\n",
       "[8805 rows x 4 columns]"
      ]
     },
     "execution_count": 15,
     "metadata": {},
     "output_type": "execute_result"
    }
   ],
   "source": [
    "df2 = df1[df1['playlistname'].isin(playlists)]\n",
    "df2"
   ]
  },
  {
   "cell_type": "code",
   "execution_count": 16,
   "metadata": {},
   "outputs": [],
   "source": [
    "# same def as quarter 1\n",
    "def read_edge(gph, n0, n1):\n",
    "    if gph.has_edge(n0, n1):\n",
    "        gph[n0][n1]['weight'] +=1\n",
    "    else:\n",
    "        gph.add_edge(n0, n1, weight=1)"
   ]
  },
  {
   "cell_type": "code",
   "execution_count": 17,
   "metadata": {},
   "outputs": [
    {
     "data": {
      "text/html": [
       "<div>\n",
       "<style scoped>\n",
       "    .dataframe tbody tr th:only-of-type {\n",
       "        vertical-align: middle;\n",
       "    }\n",
       "\n",
       "    .dataframe tbody tr th {\n",
       "        vertical-align: top;\n",
       "    }\n",
       "\n",
       "    .dataframe thead th {\n",
       "        text-align: right;\n",
       "    }\n",
       "</style>\n",
       "<table border=\"1\" class=\"dataframe\">\n",
       "  <thead>\n",
       "    <tr style=\"text-align: right;\">\n",
       "      <th></th>\n",
       "      <th>artistname</th>\n",
       "    </tr>\n",
       "    <tr>\n",
       "      <th>playlistname</th>\n",
       "      <th></th>\n",
       "    </tr>\n",
       "  </thead>\n",
       "  <tbody>\n",
       "    <tr>\n",
       "      <th>#noshame</th>\n",
       "      <td>13</td>\n",
       "    </tr>\n",
       "    <tr>\n",
       "      <th>-Late Night Tales</th>\n",
       "      <td>3</td>\n",
       "    </tr>\n",
       "    <tr>\n",
       "      <th>/* End of Week */</th>\n",
       "      <td>19</td>\n",
       "    </tr>\n",
       "    <tr>\n",
       "      <th>00's mega mix!!</th>\n",
       "      <td>90</td>\n",
       "    </tr>\n",
       "    <tr>\n",
       "      <th>1/11/13</th>\n",
       "      <td>5</td>\n",
       "    </tr>\n",
       "    <tr>\n",
       "      <th>...</th>\n",
       "      <td>...</td>\n",
       "    </tr>\n",
       "    <tr>\n",
       "      <th>themood25112013</th>\n",
       "      <td>2</td>\n",
       "    </tr>\n",
       "    <tr>\n",
       "      <th>twentythirteen</th>\n",
       "      <td>9</td>\n",
       "    </tr>\n",
       "    <tr>\n",
       "      <th>vegan hipster</th>\n",
       "      <td>36</td>\n",
       "    </tr>\n",
       "    <tr>\n",
       "      <th>wednesday</th>\n",
       "      <td>2</td>\n",
       "    </tr>\n",
       "    <tr>\n",
       "      <th>whiny country music</th>\n",
       "      <td>4</td>\n",
       "    </tr>\n",
       "  </tbody>\n",
       "</table>\n",
       "<p>281 rows × 1 columns</p>\n",
       "</div>"
      ],
      "text/plain": [
       "                     artistname\n",
       "playlistname                   \n",
       "#noshame                     13\n",
       "-Late Night Tales             3\n",
       "/* End of Week */            19\n",
       "00's mega mix!!              90\n",
       "1/11/13                       5\n",
       "...                         ...\n",
       "themood25112013               2\n",
       "twentythirteen                9\n",
       "vegan hipster                36\n",
       "wednesday                     2\n",
       "whiny country music           4\n",
       "\n",
       "[281 rows x 1 columns]"
      ]
     },
     "execution_count": 17,
     "metadata": {},
     "output_type": "execute_result"
    }
   ],
   "source": [
    "df2.groupby('playlistname').agg({'artistname': lambda x: len(x)})"
   ]
  },
  {
   "cell_type": "code",
   "execution_count": 18,
   "metadata": {},
   "outputs": [],
   "source": [
    "G = nx.Graph()\n",
    "# if not unique, could weight the number of times the artist appears in that playlist\n",
    "df2_grp = df2.groupby('playlistname').agg({'artistname': lambda x: (x).unique()})\n",
    "\n",
    "for i in range(len(df2_grp)):\n",
    "    \n",
    "    for a in (df2_grp.iloc[i]):\n",
    "        for a1, a2 in itertools.combinations(a, 2):\n",
    "\n",
    "            \n",
    "            read_edge(G, a1, a2)"
   ]
  },
  {
   "cell_type": "code",
   "execution_count": 19,
   "metadata": {},
   "outputs": [
    {
     "name": "stdout",
     "output_type": "stream",
     "text": [
      "CPU times: user 113 ms, sys: 7.58 ms, total: 121 ms\n",
      "Wall time: 127 ms\n"
     ]
    },
    {
     "data": {
      "image/png": "[encoded data removed]",
      "text/plain": [
       "<Figure size 432x288 with 1 Axes>"
      ]
     },
     "metadata": {},
     "output_type": "display_data"
    }
   ],
   "source": [
    "%%time\n",
    "nx.draw(G, node_size=50)\n"
   ]
  },
  {
   "cell_type": "code",
   "execution_count": 20,
   "metadata": {},
   "outputs": [
    {
     "data": {
      "text/plain": [
       "15851"
      ]
     },
     "execution_count": 20,
     "metadata": {},
     "output_type": "execute_result"
    }
   ],
   "source": [
    "G.size()"
   ]
  },
  {
   "cell_type": "code",
   "execution_count": 21,
   "metadata": {},
   "outputs": [],
   "source": [
    "weight_dict = {}\n",
    "node_weights = nx.get_edge_attributes(G, \"weight\")\n",
    "for i in node_weights:\n",
    "    if 'Vampire Weekend' in i:\n",
    "        weight_dict[i] = node_weights[i]"
   ]
  },
  {
   "cell_type": "code",
   "execution_count": 22,
   "metadata": {},
   "outputs": [
    {
     "data": {
      "text/plain": [
       "[(('Vampire Weekend', 'Kanye West'), 9),\n",
       " (('Daft Punk', 'Vampire Weekend'), 8),\n",
       " (('The Black Keys', 'Vampire Weekend'), 7),\n",
       " (('Vampire Weekend', 'JAY Z'), 7),\n",
       " (('Vampire Weekend', 'M.I.A.'), 7),\n",
       " (('Vampire Weekend', 'MGMT'), 7),\n",
       " (('Phoenix', 'Vampire Weekend'), 6),\n",
       " (('Vampire Weekend', 'Coldplay'), 6),\n",
       " (('Vampire Weekend', 'Franz Ferdinand'), 6),\n",
       " (('Vampire Weekend', 'The Killers'), 6),\n",
       " (('Maroon 5', 'Vampire Weekend'), 5),\n",
       " (('Beyoncé', 'Vampire Weekend'), 5),\n",
       " (('Rihanna', 'Vampire Weekend'), 5),\n",
       " (('Justin Timberlake', 'Vampire Weekend'), 5),\n",
       " (('Foster The People', 'Vampire Weekend'), 5),\n",
       " (('Miike Snow', 'Vampire Weekend'), 5),\n",
       " (('Vampire Weekend', 'The National'), 5),\n",
       " (('Vampire Weekend', 'Arcade Fire'), 5),\n",
       " (('Vampire Weekend', 'M83'), 5),\n",
       " (('Vampire Weekend', 'Britney Spears'), 5),\n",
       " (('Vampire Weekend', 'Fun.'), 5),\n",
       " (('Vampire Weekend', 'Arctic Monkeys'), 5),\n",
       " (('Vampire Weekend', 'Lady Gaga'), 5),\n",
       " (('Vampire Weekend', 'Two Door Cinema Club'), 5),\n",
       " (('Vampire Weekend', 'Passion Pit'), 5),\n",
       " (('Vampire Weekend', 'Katy Perry'), 5),\n",
       " (('Vampire Weekend', 'Avicii'), 5),\n",
       " (('Modest Mouse', 'Vampire Weekend'), 4),\n",
       " (('LCD Soundsystem', 'Vampire Weekend'), 4),\n",
       " (('Vampire Weekend', 'Ellie Goulding'), 4),\n",
       " (('Vampire Weekend', 'Death Cab for Cutie'), 4),\n",
       " (('Vampire Weekend', 'OutKast'), 4),\n",
       " (('Vampire Weekend', 'Yeah Yeah Yeahs'), 4),\n",
       " (('Vampire Weekend', 'Radiohead'), 4),\n",
       " (('Vampire Weekend', 'Gorillaz'), 4),\n",
       " (('Vampire Weekend', 'Weezer'), 4),\n",
       " (('Vampire Weekend', 'T.I.'), 4),\n",
       " (('Vampire Weekend', 'The Strokes'), 4),\n",
       " (('Vampire Weekend', 'Johnny Cash'), 4),\n",
       " (('Vampire Weekend', 'Moby'), 4),\n",
       " (('Vampire Weekend', 'The Prodigy'), 4),\n",
       " (('Vampire Weekend', 'Beastie Boys'), 4),\n",
       " (('Vampire Weekend', 'Drake'), 4),\n",
       " (('Vampire Weekend', 'Calvin Harris'), 4),\n",
       " (('Vampire Weekend', 'The Naked And Famous'), 4),\n",
       " (('Vampire Weekend', 'P!nk'), 4),\n",
       " (('Vampire Weekend', 'Kings Of Leon'), 4),\n",
       " (('Vampire Weekend', 'David Guetta'), 4),\n",
       " (('Vampire Weekend', 'Gotye'), 4),\n",
       " (('Mark Ronson', 'Vampire Weekend'), 3),\n",
       " (('Iron & Wine', 'Vampire Weekend'), 3),\n",
       " (('Sufjan Stevens', 'Vampire Weekend'), 3),\n",
       " (('Depeche Mode', 'Vampire Weekend'), 3),\n",
       " (('Vampire Weekend', 'Bloc Party'), 3),\n",
       " (('Vampire Weekend', 'Hot Chip'), 3),\n",
       " (('Vampire Weekend', 'Madonna'), 3),\n",
       " (('Vampire Weekend', 'Santigold'), 3),\n",
       " (('Vampire Weekend', 'Eminem'), 3),\n",
       " (('Vampire Weekend', 'Kelly Clarkson'), 3),\n",
       " (('Vampire Weekend', 'The Postal Service'), 3),\n",
       " (('Vampire Weekend', 'Amy Winehouse'), 3),\n",
       " (('Vampire Weekend', 'Usher'), 3),\n",
       " (('Vampire Weekend', 'The Cure'), 3),\n",
       " (('Vampire Weekend', 'David Bowie'), 3),\n",
       " (('Vampire Weekend', 'The Ting Tings'), 3),\n",
       " (('Vampire Weekend', 'Miley Cyrus'), 3),\n",
       " (('Vampire Weekend', 'Stevie Wonder'), 3),\n",
       " (('Vampire Weekend', 'Flux Pavilion'), 3),\n",
       " (('Vampire Weekend', 'Florence + The Machine'), 3),\n",
       " (('Vampire Weekend', 'Kid Cudi'), 3),\n",
       " (('Vampire Weekend', 'will.i.am'), 3),\n",
       " (('Vampire Weekend', 'Mumford & Sons'), 3),\n",
       " (('Vampire Weekend', 'LMFAO'), 3),\n",
       " (('Vampire Weekend', 'Bruno Mars'), 3),\n",
       " (('Vampire Weekend', 'Robin Thicke'), 3),\n",
       " (('Vampire Weekend', 'Macklemore & Ryan Lewis'), 3),\n",
       " (('Vampire Weekend', 'Nicki Minaj'), 3),\n",
       " (('Vampire Weekend', 'Bastille'), 3),\n",
       " (('Vampire Weekend', 'The Black Eyed Peas'), 3),\n",
       " (('Vampire Weekend', 'Chris Brown'), 3),\n",
       " (('Pitbull', 'Vampire Weekend'), 2),\n",
       " (('Lorde', 'Vampire Weekend'), 2),\n",
       " (('Edward Sharpe & The Magnetic Zeros', 'Vampire Weekend'), 2),\n",
       " (('Vampire Weekend', 'Lil Wayne'), 2),\n",
       " (('Vampire Weekend', 'The White Stripes'), 2),\n",
       " (('Vampire Weekend', 'Lupe Fiasco'), 2),\n",
       " (('Vampire Weekend', 'Beck'), 2),\n",
       " (('Vampire Weekend', 'Blur'), 2),\n",
       " (('Vampire Weekend', 'Bon Iver'), 2),\n",
       " (('Vampire Weekend', 'Nine Inch Nails'), 2),\n",
       " (('Vampire Weekend', 'Alicia Keys'), 2),\n",
       " (('Vampire Weekend', 'Red Hot Chili Peppers'), 2),\n",
       " (('Vampire Weekend', 'Talking Heads'), 2),\n",
       " (('Vampire Weekend', 'New Order'), 2),\n",
       " (('Vampire Weekend', 'The Smiths'), 2),\n",
       " (('Vampire Weekend', 'Muse'), 2),\n",
       " (('Vampire Weekend', 'Empire Of The Sun'), 2),\n",
       " (('Vampire Weekend', 'Flo Rida'), 2),\n",
       " (('Vampire Weekend', 'Kendrick Lamar'), 2),\n",
       " (('Vampire Weekend', 'Michael Jackson'), 2),\n",
       " (('Vampire Weekend', 'Swedish House Mafia'), 2),\n",
       " (('Vampire Weekend', 'Skrillex'), 2),\n",
       " (('Vampire Weekend', 'Nero'), 2),\n",
       " (('Vampire Weekend', 'Snoop Dogg'), 2),\n",
       " (('Vampire Weekend', 'Ed Sheeran'), 2),\n",
       " (('Vampire Weekend', 'deadmau5'), 2),\n",
       " (('Vampire Weekend', 'Friendly Fires'), 2),\n",
       " (('Vampire Weekend', 'Incubus'), 2),\n",
       " (('Vampire Weekend', 'blink-182'), 2),\n",
       " (('Vampire Weekend', 'Zedd'), 2),\n",
       " (('Vampire Weekend', 'OneRepublic'), 2),\n",
       " (('Vampire Weekend', 'Trey Songz'), 2),\n",
       " (('Vampire Weekend', 'Keane'), 2),\n",
       " (('Vampire Weekend', 'Jessie J'), 2),\n",
       " (('Vampire Weekend', 'One Direction'), 2),\n",
       " (('Vampire Weekend', 'La Roux'), 2),\n",
       " (('Vampire Weekend', 'Lenny Kravitz'), 2),\n",
       " (('Vampire Weekend', 'Queen'), 2),\n",
       " (('Vampire Weekend', 'Foo Fighters'), 2),\n",
       " (('Vampire Weekend', 'Bob Dylan'), 2),\n",
       " (('Vampire Weekend', 'CHVRCHES'), 2),\n",
       " (('Vampire Weekend', 'The xx'), 2),\n",
       " (('Vampire Weekend', 'Disclosure'), 2),\n",
       " (('Vampire Weekend', 'SBTRKT'), 2),\n",
       " (('Vampire Weekend', 'Icona Pop'), 2),\n",
       " (('Vampire Weekend', 'R.E.M.'), 2),\n",
       " (('Fall Out Boy', 'Vampire Weekend'), 1),\n",
       " (('Shakira', 'Vampire Weekend'), 1),\n",
       " (('Fleetwood Mac', 'Vampire Weekend'), 1),\n",
       " (('John Mayer', 'Vampire Weekend'), 1),\n",
       " (('Vampire Weekend', 'Dr. Dre'), 1),\n",
       " (('Vampire Weekend', 'R. Kelly'), 1),\n",
       " (('Vampire Weekend', 'Bon Jovi'), 1),\n",
       " (('Vampire Weekend', 'U2'), 1),\n",
       " (('Vampire Weekend', 'The Verve'), 1),\n",
       " (('Vampire Weekend', 'Massive Attack'), 1),\n",
       " (('Vampire Weekend', 'The Beach Boys'), 1),\n",
       " (('Vampire Weekend', 'Nina Simone'), 1),\n",
       " (('Vampire Weekend', 'Damien Rice'), 1),\n",
       " (('Vampire Weekend', 'Bob Marley & The Wailers'), 1),\n",
       " (('Vampire Weekend', 'Marvin Gaye'), 1),\n",
       " (('Vampire Weekend', 'Various Artists'), 1),\n",
       " (('Vampire Weekend', 'The Notorious B.I.G.'), 1),\n",
       " (('Vampire Weekend', 'Enrique Iglesias'), 1),\n",
       " (('Vampire Weekend', 'Jason Mraz'), 1),\n",
       " (('Vampire Weekend', 'The Smashing Pumpkins'), 1),\n",
       " (('Vampire Weekend', \"Guns N' Roses\"), 1),\n",
       " (('Vampire Weekend', 'Elton John'), 1),\n",
       " (('Vampire Weekend', 'Sam Smith'), 1),\n",
       " (('Vampire Weekend', 'Pharrell Williams'), 1),\n",
       " (('Vampire Weekend', 'The Rolling Stones'), 1),\n",
       " (('Vampire Weekend', 'Elvis Presley'), 1),\n",
       " (('Vampire Weekend', 'Oasis'), 1),\n",
       " (('Vampire Weekend', 'Bill Withers'), 1),\n",
       " (('Vampire Weekend', 'James Brown'), 1),\n",
       " (('Vampire Weekend', 'Fatboy Slim'), 1),\n",
       " (('Vampire Weekend', 'Imagine Dragons'), 1),\n",
       " (('Vampire Weekend', 'Aerosmith'), 1),\n",
       " (('Vampire Weekend', 'Passenger'), 1),\n",
       " (('Vampire Weekend', 'Of Monsters and Men'), 1),\n",
       " (('Vampire Weekend', 'Little Dragon'), 1),\n",
       " (('Vampire Weekend', 'Capital Cities'), 1),\n",
       " (('Vampire Weekend', 'Otis Redding'), 1),\n",
       " (('Vampire Weekend', 'Simon & Garfunkel'), 1),\n",
       " (('Vampire Weekend', 'Lana Del Rey'), 1),\n",
       " (('Vampire Weekend', 'Adele'), 1),\n",
       " (('Vampire Weekend', 'Jennifer Lopez'), 1),\n",
       " (('Vampire Weekend', 'Metallica'), 1),\n",
       " (('Vampire Weekend', 'Pearl Jam'), 1),\n",
       " (('Vampire Weekend', 'Nirvana'), 1),\n",
       " (('Vampire Weekend', 'Linkin Park'), 1),\n",
       " (('Vampire Weekend', 'Jason Derulo'), 1),\n",
       " (('Vampire Weekend', 'Mr. Probz'), 1),\n",
       " (('Vampire Weekend', 'Wiz Khalifa'), 1),\n",
       " (('Vampire Weekend', 'Green Day'), 1),\n",
       " (('Vampire Weekend', 'Cake'), 1),\n",
       " (('Vampire Weekend', 'Major Lazer'), 1),\n",
       " (('Vampire Weekend', 'John Legend'), 1),\n",
       " (('Vampire Weekend', 'Sia'), 1),\n",
       " (('Vampire Weekend', 'alt-J'), 1),\n",
       " (('Vampire Weekend', 'The Neighbourhood'), 1)]"
      ]
     },
     "execution_count": 22,
     "metadata": {},
     "output_type": "execute_result"
    }
   ],
   "source": [
    "sorted(weight_dict.items(), key=lambda x:x[1], reverse=True)"
   ]
  },
  {
   "cell_type": "code",
   "execution_count": 23,
   "metadata": {},
   "outputs": [],
   "source": [
    "threshold = 1\n",
    "long_edges = list(filter(lambda e: e[2] <= threshold, (e for e in G.edges.data('weight'))))"
   ]
  },
  {
   "cell_type": "code",
   "execution_count": 24,
   "metadata": {},
   "outputs": [],
   "source": [
    "G.remove_edges_from(long_edges)"
   ]
  },
  {
   "cell_type": "code",
   "execution_count": 25,
   "metadata": {},
   "outputs": [],
   "source": [
    "A = nx.to_numpy_array(G)"
   ]
  },
  {
   "cell_type": "code",
   "execution_count": 26,
   "metadata": {},
   "outputs": [],
   "source": [
    "def sigm(x):\n",
    "    return np.divide(np.exp(-1.*x),1.-np.exp(-1.*x))\n",
    "\n",
    "def log_likelihood(F, A):\n",
    "    \"\"\"implements equation 2 of \n",
    "    https://cs.stanford.edu/people/jure/pubs/bigclam-wsdm13.pdf\"\"\"\n",
    "    A_soft = F.dot(F.T)\n",
    "\n",
    "    # Next two lines are multiplied with the adjacency matrix, A\n",
    "    # A is a {0,1} matrix, so we zero out all elements not contributing to the sum\n",
    "    FIRST_PART = A*np.log(1.-np.exp(-1.*A_soft))\n",
    "    sum_edges = np.sum(FIRST_PART)\n",
    "    SECOND_PART = (1-A)*A_soft\n",
    "    sum_nedges = np.sum(SECOND_PART)\n",
    "\n",
    "    log_likeli = sum_edges - sum_nedges\n",
    "    return log_likeli\n",
    "\n",
    "def gradient(F, A, i):\n",
    "    \"\"\"Implements equation 3 of\n",
    "    https://cs.stanford.edu/people/jure/pubs/bigclam-wsdm13.pdf\n",
    "    \n",
    "      * i indicates the row under consideration\n",
    "    \n",
    "    The many forloops in this function can be optimized, but for\n",
    "    educational purposes we write them out clearly\n",
    "    \"\"\"\n",
    "    N, C = F.shape\n",
    "\n",
    "    neighbours = np.where(A[i])\n",
    "    nneighbours = np.where(1-A[i])\n",
    "\n",
    "    sum_neigh = np.zeros((C,))\n",
    "    for nb in neighbours[0]:\n",
    "        dotproduct = F[nb].dot(F[i])\n",
    "        sum_neigh += F[nb]*sigm(dotproduct)\n",
    "\n",
    "    sum_nneigh = np.zeros((C,))\n",
    "    #Speed up this computation using eq.4\n",
    "    for nnb in nneighbours[0]:\n",
    "        sum_nneigh += F[nnb]\n",
    "\n",
    "    grad = sum_neigh - sum_nneigh\n",
    "    return grad\n",
    "\n",
    "def train(A, C, iterations = 100):\n",
    "    # initialize an F\n",
    "    N = A.shape[0]\n",
    "    F = np.random.rand(N,C)\n",
    "\n",
    "    for n in range(iterations):\n",
    "        for person in range(N):\n",
    "            grad = gradient(F, A, person)\n",
    "\n",
    "            F[person] += 0.005*grad\n",
    "\n",
    "            F[person] = np.maximum(0.001, F[person]) # F should be nonnegative\n",
    "        ll = log_likelihood(F, A)\n",
    "    return F, log_likelihood(F, A)"
   ]
  },
  {
   "cell_type": "code",
   "execution_count": 32,
   "metadata": {},
   "outputs": [
    {
     "data": {
      "text/plain": [
       "'BQAKUWwHBz7rR58-l_oLS-9ggJUfVXIgDnPTD-rr4ecGn-K221nK2U2VGXGTgFfcMhPxyf25pYHz4JDetcrAExOK8pKYfJlZGxbL08fz6XvHL2onC2sh'"
      ]
     },
     "execution_count": 32,
     "metadata": {},
     "output_type": "execute_result"
    }
   ],
   "source": [
    "#DO NOT NEED TO RUN AGAIN, JUST NEEDED TO GENERATE AUTH KEY \n",
    "auth_url = 'https://accounts.spotify.com/api/token'\n",
    "data = {\n",
    "   'grant_type': 'client_credentials',\n",
    "   'client_id': \"8ac5bd4f29854a4abb37648a5b7833d8\",\n",
    "   'client_secret': \"c9f1281a0f774d97ae7d002139e53049\",\n",
    "}\n",
    "auth_response = requests.post(auth_url, data=data)\n",
    "access_token = auth_response.json().get('access_token')\n",
    "access_token"
   ]
  },
  {
   "cell_type": "code",
   "execution_count": 33,
   "metadata": {},
   "outputs": [
    {
     "data": {
      "text/plain": [
       "'Bearer BQAKUWwHBz7rR58-l_oLS-9ggJUfVXIgDnPTD-rr4ecGn-K221nK2U2VGXGTgFfcMhPxyf25pYHz4JDetcrAExOK8pKYfJlZGxbL08fz6XvHL2onC2sh'"
      ]
     },
     "execution_count": 33,
     "metadata": {},
     "output_type": "execute_result"
    }
   ],
   "source": [
    "ACCESS_TOKEN_LINE = \"Bearer \" + access_token\n",
    "ACCESS_TOKEN_LINE"
   ]
  },
  {
   "cell_type": "code",
   "execution_count": 34,
   "metadata": {},
   "outputs": [],
   "source": [
    "def get_spotify_genres(access, artist_names):\n",
    "    # Set up the API endpoint and headers\n",
    "    endpoint = \"https://api.spotify.com/v1/search\"\n",
    "    headers = {\n",
    "        \"Authorization\": access\n",
    "    }\n",
    "\n",
    "    # Create an empty list to store the genres\n",
    "    artist_genres = {}\n",
    "\n",
    "    # Iterate over the list of artists\n",
    "    for artist_name in artist_names:\n",
    "        # Specify the search parameters\n",
    "        params = {\n",
    "            \"q\": artist_name,\n",
    "            \"type\": \"artist\"\n",
    "        }\n",
    "\n",
    "        # Send a GET request to the API endpoint\n",
    "        response = requests.get(endpoint, headers=headers, params=params)\n",
    "\n",
    "        # Parse the response as JSON\n",
    "        data = json.loads(response.text)\n",
    "        # Append the artist's genres to the list of genres\n",
    "        result = data[\"artists\"][\"items\"]\n",
    "        if len(result) > 0:\n",
    "            artist_genres[artist_name] = result[0]['genres']\n",
    "    return artist_genres"
   ]
  },
  {
   "cell_type": "code",
   "execution_count": 35,
   "metadata": {},
   "outputs": [],
   "source": [
    "artists = set()"
   ]
  },
  {
   "cell_type": "code",
   "execution_count": 36,
   "metadata": {},
   "outputs": [],
   "source": [
    "for i in range(len(df2_grp)):\n",
    "    art_list = df2_grp.iloc[i]['artistname']\n",
    "    for j in art_list:\n",
    "        artists.add(j.lower())"
   ]
  },
  {
   "cell_type": "code",
   "execution_count": 37,
   "metadata": {},
   "outputs": [],
   "source": [
    "genres = get_spotify_genres(ACCESS_TOKEN_LINE, artists)"
   ]
  },
  {
   "cell_type": "code",
   "execution_count": 38,
   "metadata": {},
   "outputs": [],
   "source": [
    "genres_list = []\n",
    "for i in genres:\n",
    "    genres_list += genres[i]"
   ]
  },
  {
   "cell_type": "code",
   "execution_count": 39,
   "metadata": {},
   "outputs": [],
   "source": [
    "# collect count of each genre\n",
    "genres_count = {val: genres_list.count(val) for val in set(genres_list)}"
   ]
  },
  {
   "cell_type": "code",
   "execution_count": 40,
   "metadata": {},
   "outputs": [],
   "source": [
    "#perform bigclam algorithm\n",
    "F, ll = train(A, 3)\n",
    "pred = np.argmax(F, 1)"
   ]
  },
  {
   "cell_type": "code",
   "execution_count": 41,
   "metadata": {},
   "outputs": [],
   "source": [
    "nodes = list(G.nodes())\n",
    "one = [nodes[i] for i in np.where(pred == 0)[0]]\n",
    "two = [nodes[i] for i in np.where(pred == 1)[0]]\n",
    "three = [nodes[i] for i in np.where(pred == 2)[0]]"
   ]
  },
  {
   "cell_type": "code",
   "execution_count": 42,
   "metadata": {},
   "outputs": [],
   "source": [
    "# if any of the artists have at least one shared genre within the \n",
    "# community it is considerd correct prediction\n",
    "def correct_pred(pred, genres, nodes):\n",
    "    total = 0\n",
    "    for i in range(len(pred)):\n",
    "        for j in range(len(pred)):\n",
    "            if i != j:\n",
    "                if len(set(genres[pred[i].lower()]).intersection(set(genres[pred[j].lower()]))) > 0:\n",
    "                    total += 1\n",
    "                    break\n",
    "    return total"
   ]
  },
  {
   "cell_type": "code",
   "execution_count": 43,
   "metadata": {},
   "outputs": [],
   "source": [
    "total = 0\n",
    "for i in [one, two, three]:\n",
    "    total += correct_pred(i, genres, nodes)"
   ]
  },
  {
   "cell_type": "code",
   "execution_count": 44,
   "metadata": {},
   "outputs": [
    {
     "data": {
      "text/plain": [
       "0.9547738693467337"
      ]
     },
     "execution_count": 44,
     "metadata": {},
     "output_type": "execute_result"
    }
   ],
   "source": [
    "total/len(nodes)"
   ]
  },
  {
   "cell_type": "code",
   "execution_count": 45,
   "metadata": {},
   "outputs": [
    {
     "data": {
      "image/png": "[encoded data removed]",
      "text/plain": [
       "<Figure size 432x288 with 1 Axes>"
      ]
     },
     "metadata": {},
     "output_type": "display_data"
    }
   ],
   "source": [
    "nx.draw(G, node_size=50, node_color = pred)"
   ]
  },
  {
   "cell_type": "code",
   "execution_count": 79,
   "metadata": {},
   "outputs": [
    {
     "data": {
      "text/plain": [
       "NodeDataView({'Maroon 5': {'val': {'color': {'r': 255, 'g': 0, 'b': 0, 'a': 0}}}, 'Fall Out Boy': {'val': {'color': {'r': 0, 'g': 255, 'b': 0, 'a': 0}}}, 'Beyoncé': {'val': {'color': {'r': 0, 'g': 0, 'b': 255, 'a': 0}}}, 'Pitbull': {'val': {'color': {'r': 255, 'g': 0, 'b': 0, 'a': 0}}}, 'Shakira': {'val': {'color': {'r': 255, 'g': 0, 'b': 0, 'a': 0}}}, 'Rihanna': {'val': {'color': {'r': 255, 'g': 0, 'b': 0, 'a': 0}}}, 'Lorde': {'val': {'color': {'r': 255, 'g': 0, 'b': 0, 'a': 0}}}, 'Justin Timberlake': {'val': {'color': {'r': 0, 'g': 255, 'b': 0, 'a': 0}}}, 'Mark Ronson': {'val': {'color': {'r': 0, 'g': 0, 'b': 255, 'a': 0}}}, 'Iron & Wine': {'val': {'color': {'r': 255, 'g': 0, 'b': 0, 'a': 0}}}, 'Sufjan Stevens': {'val': {'color': {'r': 255, 'g': 0, 'b': 0, 'a': 0}}}, 'Daft Punk': {'val': {'color': {'r': 0, 'g': 255, 'b': 0, 'a': 0}}}, 'Phoenix': {'val': {'color': {'r': 255, 'g': 0, 'b': 0, 'a': 0}}}, 'Edward Sharpe & The Magnetic Zeros': {'val': {'color': {'r': 255, 'g': 0, 'b': 0, 'a': 0}}}, 'Modest Mouse': {'val': {'color': {'r': 0, 'g': 255, 'b': 0, 'a': 0}}}, 'The Black Keys': {'val': {'color': {'r': 0, 'g': 255, 'b': 0, 'a': 0}}}, 'Foster The People': {'val': {'color': {'r': 0, 'g': 0, 'b': 255, 'a': 0}}}, 'Fleetwood Mac': {'val': {'color': {'r': 0, 'g': 0, 'b': 255, 'a': 0}}}, 'John Mayer': {'val': {'color': {'r': 0, 'g': 255, 'b': 0, 'a': 0}}}, 'Depeche Mode': {'val': {'color': {'r': 255, 'g': 0, 'b': 0, 'a': 0}}}, 'Miike Snow': {'val': {'color': {'r': 0, 'g': 0, 'b': 255, 'a': 0}}}, 'LCD Soundsystem': {'val': {'color': {'r': 0, 'g': 255, 'b': 0, 'a': 0}}}, 'Vampire Weekend': {'val': {'color': {'r': 0, 'g': 0, 'b': 255, 'a': 0}}}, 'Bloc Party': {'val': {'color': {'r': 0, 'g': 0, 'b': 255, 'a': 0}}}, 'Ellie Goulding': {'val': {'color': {'r': 255, 'g': 0, 'b': 0, 'a': 0}}}, 'Death Cab for Cutie': {'val': {'color': {'r': 255, 'g': 0, 'b': 0, 'a': 0}}}, 'JAY Z': {'val': {'color': {'r': 0, 'g': 255, 'b': 0, 'a': 0}}}, 'Lil Wayne': {'val': {'color': {'r': 0, 'g': 0, 'b': 255, 'a': 0}}}, 'The National': {'val': {'color': {'r': 0, 'g': 255, 'b': 0, 'a': 0}}}, 'OutKast': {'val': {'color': {'r': 0, 'g': 0, 'b': 255, 'a': 0}}}, 'Hot Chip': {'val': {'color': {'r': 255, 'g': 0, 'b': 0, 'a': 0}}}, 'M.I.A.': {'val': {'color': {'r': 255, 'g': 0, 'b': 0, 'a': 0}}}, 'Yeah Yeah Yeahs': {'val': {'color': {'r': 255, 'g': 0, 'b': 0, 'a': 0}}}, 'Coldplay': {'val': {'color': {'r': 0, 'g': 255, 'b': 0, 'a': 0}}}, 'The White Stripes': {'val': {'color': {'r': 0, 'g': 0, 'b': 255, 'a': 0}}}, 'Franz Ferdinand': {'val': {'color': {'r': 0, 'g': 255, 'b': 0, 'a': 0}}}, 'Madonna': {'val': {'color': {'r': 0, 'g': 255, 'b': 0, 'a': 0}}}, 'Radiohead': {'val': {'color': {'r': 255, 'g': 0, 'b': 0, 'a': 0}}}, 'Gorillaz': {'val': {'color': {'r': 0, 'g': 255, 'b': 0, 'a': 0}}}, 'Kanye West': {'val': {'color': {'r': 255, 'g': 0, 'b': 0, 'a': 0}}}, 'Dr. Dre': {'val': {'color': {'r': 0, 'g': 0, 'b': 255, 'a': 0}}}, 'R. Kelly': {'val': {'color': {'r': 255, 'g': 0, 'b': 0, 'a': 0}}}, 'Arcade Fire': {'val': {'color': {'r': 255, 'g': 0, 'b': 0, 'a': 0}}}, 'Weezer': {'val': {'color': {'r': 0, 'g': 255, 'b': 0, 'a': 0}}}, 'Lupe Fiasco': {'val': {'color': {'r': 0, 'g': 0, 'b': 255, 'a': 0}}}, 'M83': {'val': {'color': {'r': 255, 'g': 0, 'b': 0, 'a': 0}}}, 'Santigold': {'val': {'color': {'r': 0, 'g': 0, 'b': 255, 'a': 0}}}, 'Eminem': {'val': {'color': {'r': 0, 'g': 255, 'b': 0, 'a': 0}}}, 'Beck': {'val': {'color': {'r': 0, 'g': 255, 'b': 0, 'a': 0}}}, 'The Killers': {'val': {'color': {'r': 0, 'g': 255, 'b': 0, 'a': 0}}}, 'Blur': {'val': {'color': {'r': 0, 'g': 255, 'b': 0, 'a': 0}}}, 'T.I.': {'val': {'color': {'r': 255, 'g': 0, 'b': 0, 'a': 0}}}, 'Kelly Clarkson': {'val': {'color': {'r': 0, 'g': 0, 'b': 255, 'a': 0}}}, 'Bon Iver': {'val': {'color': {'r': 0, 'g': 0, 'b': 255, 'a': 0}}}, 'The Strokes': {'val': {'color': {'r': 0, 'g': 255, 'b': 0, 'a': 0}}}, 'The Postal Service': {'val': {'color': {'r': 255, 'g': 0, 'b': 0, 'a': 0}}}, 'Amy Winehouse': {'val': {'color': {'r': 0, 'g': 0, 'b': 255, 'a': 0}}}, 'Nine Inch Nails': {'val': {'color': {'r': 0, 'g': 255, 'b': 0, 'a': 0}}}, 'Johnny Cash': {'val': {'color': {'r': 0, 'g': 255, 'b': 0, 'a': 0}}}, 'MGMT': {'val': {'color': {'r': 255, 'g': 0, 'b': 0, 'a': 0}}}, 'Britney Spears': {'val': {'color': {'r': 255, 'g': 0, 'b': 0, 'a': 0}}}, 'Usher': {'val': {'color': {'r': 255, 'g': 0, 'b': 0, 'a': 0}}}, 'Alicia Keys': {'val': {'color': {'r': 255, 'g': 0, 'b': 0, 'a': 0}}}, 'Foo Fighters': {'val': {'color': {'r': 255, 'g': 0, 'b': 0, 'a': 0}}}, 'The Smashing Pumpkins': {'val': {'color': {'r': 0, 'g': 255, 'b': 0, 'a': 0}}}, 'Robin Thicke': {'val': {'color': {'r': 0, 'g': 0, 'b': 255, 'a': 0}}}, 'Zedd': {'val': {'color': {'r': 255, 'g': 0, 'b': 0, 'a': 0}}}, 'Bastille': {'val': {'color': {'r': 255, 'g': 0, 'b': 0, 'a': 0}}}, 'Calvin Harris': {'val': {'color': {'r': 255, 'g': 0, 'b': 0, 'a': 0}}}, 'Sia': {'val': {'color': {'r': 0, 'g': 0, 'b': 255, 'a': 0}}}, 'Journey': {'val': {'color': {'r': 0, 'g': 255, 'b': 0, 'a': 0}}}, 'Nirvana': {'val': {'color': {'r': 0, 'g': 255, 'b': 0, 'a': 0}}}, 'Queen': {'val': {'color': {'r': 255, 'g': 0, 'b': 0, 'a': 0}}}, 'Kings Of Leon': {'val': {'color': {'r': 0, 'g': 255, 'b': 0, 'a': 0}}}, 'Oasis': {'val': {'color': {'r': 0, 'g': 255, 'b': 0, 'a': 0}}}, 'The Beach Boys': {'val': {'color': {'r': 0, 'g': 255, 'b': 0, 'a': 0}}}, 'Elvis Presley': {'val': {'color': {'r': 0, 'g': 255, 'b': 0, 'a': 0}}}, 'The Rolling Stones': {'val': {'color': {'r': 0, 'g': 255, 'b': 0, 'a': 0}}}, 'The Smiths': {'val': {'color': {'r': 255, 'g': 0, 'b': 0, 'a': 0}}}, 'David Guetta': {'val': {'color': {'r': 0, 'g': 255, 'b': 0, 'a': 0}}}, 'Empire Of The Sun': {'val': {'color': {'r': 0, 'g': 0, 'b': 255, 'a': 0}}}, 'Avicii': {'val': {'color': {'r': 255, 'g': 0, 'b': 0, 'a': 0}}}, 'John Legend': {'val': {'color': {'r': 0, 'g': 0, 'b': 255, 'a': 0}}}, 'Martin Garrix': {'val': {'color': {'r': 255, 'g': 0, 'b': 0, 'a': 0}}}, 'Enrique Iglesias': {'val': {'color': {'r': 255, 'g': 0, 'b': 0, 'a': 0}}}, 'Juan Magan': {'val': {'color': {'r': 255, 'g': 0, 'b': 0, 'a': 0}}}, 'OneRepublic': {'val': {'color': {'r': 0, 'g': 0, 'b': 255, 'a': 0}}}, 'Katy Perry': {'val': {'color': {'r': 0, 'g': 255, 'b': 0, 'a': 0}}}, 'Damien Rice': {'val': {'color': {'r': 0, 'g': 0, 'b': 255, 'a': 0}}}, 'Imagine Dragons': {'val': {'color': {'r': 0, 'g': 255, 'b': 0, 'a': 0}}}, 'R.E.M.': {'val': {'color': {'r': 0, 'g': 255, 'b': 0, 'a': 0}}}, 'Pharrell Williams': {'val': {'color': {'r': 255, 'g': 0, 'b': 0, 'a': 0}}}, 'Keane': {'val': {'color': {'r': 255, 'g': 0, 'b': 0, 'a': 0}}}, 'Drake': {'val': {'color': {'r': 0, 'g': 0, 'b': 255, 'a': 0}}}, 'Ed Sheeran': {'val': {'color': {'r': 0, 'g': 0, 'b': 255, 'a': 0}}}, 'Jason Mraz': {'val': {'color': {'r': 0, 'g': 0, 'b': 255, 'a': 0}}}, 'Sam Smith': {'val': {'color': {'r': 255, 'g': 0, 'b': 0, 'a': 0}}}, 'Of Monsters and Men': {'val': {'color': {'r': 0, 'g': 0, 'b': 255, 'a': 0}}}, 'Arctic Monkeys': {'val': {'color': {'r': 0, 'g': 255, 'b': 0, 'a': 0}}}, 'Tiësto': {'val': {'color': {'r': 0, 'g': 0, 'b': 255, 'a': 0}}}, 'Lana Del Rey': {'val': {'color': {'r': 255, 'g': 0, 'b': 0, 'a': 0}}}, 'Jason Derulo': {'val': {'color': {'r': 255, 'g': 0, 'b': 0, 'a': 0}}}, 'Mumford & Sons': {'val': {'color': {'r': 0, 'g': 0, 'b': 255, 'a': 0}}}, 'Simon & Garfunkel': {'val': {'color': {'r': 0, 'g': 255, 'b': 0, 'a': 0}}}, 'Mr. Probz': {'val': {'color': {'r': 0, 'g': 0, 'b': 255, 'a': 0}}}, 'Passenger': {'val': {'color': {'r': 0, 'g': 255, 'b': 0, 'a': 0}}}, 'Miley Cyrus': {'val': {'color': {'r': 0, 'g': 0, 'b': 255, 'a': 0}}}, 'CHVRCHES': {'val': {'color': {'r': 255, 'g': 0, 'b': 0, 'a': 0}}}, 'Aretha Franklin': {'val': {'color': {'r': 255, 'g': 0, 'b': 0, 'a': 0}}}, 'The Naked And Famous': {'val': {'color': {'r': 255, 'g': 0, 'b': 0, 'a': 0}}}, 'Bob Dylan': {'val': {'color': {'r': 0, 'g': 255, 'b': 0, 'a': 0}}}, 'Nina Simone': {'val': {'color': {'r': 255, 'g': 0, 'b': 0, 'a': 0}}}, 'The Cure': {'val': {'color': {'r': 0, 'g': 255, 'b': 0, 'a': 0}}}, 'Passion Pit': {'val': {'color': {'r': 255, 'g': 0, 'b': 0, 'a': 0}}}, 'Chromeo': {'val': {'color': {'r': 0, 'g': 0, 'b': 255, 'a': 0}}}, 'La Roux': {'val': {'color': {'r': 0, 'g': 0, 'b': 255, 'a': 0}}}, 'Prince': {'val': {'color': {'r': 0, 'g': 255, 'b': 0, 'a': 0}}}, 'Phil Collins': {'val': {'color': {'r': 0, 'g': 255, 'b': 0, 'a': 0}}}, 'Prince & The Revolution': {'val': {'color': {'r': 255, 'g': 0, 'b': 0, 'a': 0}}}, \"Guns N' Roses\": {'val': {'color': {'r': 0, 'g': 255, 'b': 0, 'a': 0}}}, 'Green Day': {'val': {'color': {'r': 0, 'g': 255, 'b': 0, 'a': 0}}}, 'The Verve': {'val': {'color': {'r': 0, 'g': 255, 'b': 0, 'a': 0}}}, 'Incubus': {'val': {'color': {'r': 0, 'g': 255, 'b': 0, 'a': 0}}}, 'Lenny Kravitz': {'val': {'color': {'r': 255, 'g': 0, 'b': 0, 'a': 0}}}, 'Korn': {'val': {'color': {'r': 0, 'g': 255, 'b': 0, 'a': 0}}}, 'Cake': {'val': {'color': {'r': 255, 'g': 0, 'b': 0, 'a': 0}}}, 'Michael Jackson': {'val': {'color': {'r': 0, 'g': 255, 'b': 0, 'a': 0}}}, 'Janet Jackson': {'val': {'color': {'r': 255, 'g': 0, 'b': 0, 'a': 0}}}, 'blink-182': {'val': {'color': {'r': 255, 'g': 0, 'b': 0, 'a': 0}}}, 'Beastie Boys': {'val': {'color': {'r': 0, 'g': 255, 'b': 0, 'a': 0}}}, 'Fatboy Slim': {'val': {'color': {'r': 0, 'g': 255, 'b': 0, 'a': 0}}}, 'The Ting Tings': {'val': {'color': {'r': 0, 'g': 0, 'b': 255, 'a': 0}}}, 'Friendly Fires': {'val': {'color': {'r': 255, 'g': 0, 'b': 0, 'a': 0}}}, 'U2': {'val': {'color': {'r': 0, 'g': 255, 'b': 0, 'a': 0}}}, 'Talking Heads': {'val': {'color': {'r': 0, 'g': 255, 'b': 0, 'a': 0}}}, 'Muse': {'val': {'color': {'r': 0, 'g': 255, 'b': 0, 'a': 0}}}, 'Various Artists': {'val': {'color': {'r': 0, 'g': 255, 'b': 0, 'a': 0}}}, 'The xx': {'val': {'color': {'r': 0, 'g': 0, 'b': 255, 'a': 0}}}, 'Jack Johnson': {'val': {'color': {'r': 255, 'g': 0, 'b': 0, 'a': 0}}}, 'P!nk': {'val': {'color': {'r': 255, 'g': 0, 'b': 0, 'a': 0}}}, 'Disclosure': {'val': {'color': {'r': 255, 'g': 0, 'b': 0, 'a': 0}}}, 'Major Lazer': {'val': {'color': {'r': 0, 'g': 0, 'b': 255, 'a': 0}}}, 'Jessie J': {'val': {'color': {'r': 0, 'g': 0, 'b': 255, 'a': 0}}}, 'Adele': {'val': {'color': {'r': 255, 'g': 0, 'b': 0, 'a': 0}}}, 'Florence + The Machine': {'val': {'color': {'r': 255, 'g': 0, 'b': 0, 'a': 0}}}, 'Fun.': {'val': {'color': {'r': 0, 'g': 255, 'b': 0, 'a': 0}}}, 'Linkin Park': {'val': {'color': {'r': 0, 'g': 0, 'b': 255, 'a': 0}}}, 'Gotye': {'val': {'color': {'r': 255, 'g': 0, 'b': 0, 'a': 0}}}, 'Pearl Jam': {'val': {'color': {'r': 0, 'g': 255, 'b': 0, 'a': 0}}}, 'Bon Jovi': {'val': {'color': {'r': 255, 'g': 0, 'b': 0, 'a': 0}}}, 'Europe': {'val': {'color': {'r': 255, 'g': 0, 'b': 0, 'a': 0}}}, 'Skrillex': {'val': {'color': {'r': 255, 'g': 0, 'b': 0, 'a': 0}}}, 'Steve Aoki': {'val': {'color': {'r': 255, 'g': 0, 'b': 0, 'a': 0}}}, 'Flux Pavilion': {'val': {'color': {'r': 255, 'g': 0, 'b': 0, 'a': 0}}}, 'Kendrick Lamar': {'val': {'color': {'r': 255, 'g': 0, 'b': 0, 'a': 0}}}, 'Moby': {'val': {'color': {'r': 0, 'g': 0, 'b': 255, 'a': 0}}}, '2Pac': {'val': {'color': {'r': 255, 'g': 0, 'b': 0, 'a': 0}}}, 'Metallica': {'val': {'color': {'r': 0, 'g': 255, 'b': 0, 'a': 0}}}, 'Wiz Khalifa': {'val': {'color': {'r': 0, 'g': 0, 'b': 255, 'a': 0}}}, 'Macklemore & Ryan Lewis': {'val': {'color': {'r': 255, 'g': 0, 'b': 0, 'a': 0}}}, 'The Neighbourhood': {'val': {'color': {'r': 0, 'g': 0, 'b': 255, 'a': 0}}}, 'Red Hot Chili Peppers': {'val': {'color': {'r': 0, 'g': 255, 'b': 0, 'a': 0}}}, 'Lady Gaga': {'val': {'color': {'r': 255, 'g': 0, 'b': 0, 'a': 0}}}, 'Little Dragon': {'val': {'color': {'r': 255, 'g': 0, 'b': 0, 'a': 0}}}, 'Trey Songz': {'val': {'color': {'r': 255, 'g': 0, 'b': 0, 'a': 0}}}, 'James Brown': {'val': {'color': {'r': 255, 'g': 0, 'b': 0, 'a': 0}}}, 'Otis Redding': {'val': {'color': {'r': 255, 'g': 0, 'b': 0, 'a': 0}}}, 'Stevie Wonder': {'val': {'color': {'r': 0, 'g': 255, 'b': 0, 'a': 0}}}, 'will.i.am': {'val': {'color': {'r': 0, 'g': 0, 'b': 255, 'a': 0}}}, 'Swedish House Mafia': {'val': {'color': {'r': 0, 'g': 0, 'b': 255, 'a': 0}}}, 'Icona Pop': {'val': {'color': {'r': 255, 'g': 0, 'b': 0, 'a': 0}}}, 'Bill Withers': {'val': {'color': {'r': 0, 'g': 255, 'b': 0, 'a': 0}}}, 'Snoop Dogg': {'val': {'color': {'r': 0, 'g': 0, 'b': 255, 'a': 0}}}, 'Elton John': {'val': {'color': {'r': 0, 'g': 255, 'b': 0, 'a': 0}}}, 'Bob Marley & The Wailers': {'val': {'color': {'r': 0, 'g': 255, 'b': 0, 'a': 0}}}, 'Two Door Cinema Club': {'val': {'color': {'r': 0, 'g': 0, 'b': 255, 'a': 0}}}, 'Flo Rida': {'val': {'color': {'r': 255, 'g': 0, 'b': 0, 'a': 0}}}, 'LMFAO': {'val': {'color': {'r': 0, 'g': 0, 'b': 255, 'a': 0}}}, 'Nicki Minaj': {'val': {'color': {'r': 0, 'g': 0, 'b': 255, 'a': 0}}}, 'Chris Brown': {'val': {'color': {'r': 255, 'g': 0, 'b': 0, 'a': 0}}}, 'Etta James': {'val': {'color': {'r': 255, 'g': 0, 'b': 0, 'a': 0}}}, 'Marvin Gaye': {'val': {'color': {'r': 255, 'g': 0, 'b': 0, 'a': 0}}}, 'Bruno Mars': {'val': {'color': {'r': 0, 'g': 255, 'b': 0, 'a': 0}}}, 'deadmau5': {'val': {'color': {'r': 255, 'g': 0, 'b': 0, 'a': 0}}}, 'The Notorious B.I.G.': {'val': {'color': {'r': 0, 'g': 0, 'b': 255, 'a': 0}}}, 'Jennifer Lopez': {'val': {'color': {'r': 255, 'g': 0, 'b': 0, 'a': 0}}}, 'The Black Eyed Peas': {'val': {'color': {'r': 255, 'g': 0, 'b': 0, 'a': 0}}}, 'The Prodigy': {'val': {'color': {'r': 255, 'g': 0, 'b': 0, 'a': 0}}}, 'One Direction': {'val': {'color': {'r': 255, 'g': 0, 'b': 0, 'a': 0}}}, 'New Order': {'val': {'color': {'r': 0, 'g': 255, 'b': 0, 'a': 0}}}, 'alt-J': {'val': {'color': {'r': 0, 'g': 0, 'b': 255, 'a': 0}}}, 'Nero': {'val': {'color': {'r': 0, 'g': 0, 'b': 255, 'a': 0}}}, 'Limp Bizkit': {'val': {'color': {'r': 0, 'g': 255, 'b': 0, 'a': 0}}}, 'Aerosmith': {'val': {'color': {'r': 0, 'g': 255, 'b': 0, 'a': 0}}}, 'SBTRKT': {'val': {'color': {'r': 0, 'g': 0, 'b': 255, 'a': 0}}}, 'David Bowie': {'val': {'color': {'r': 0, 'g': 255, 'b': 0, 'a': 0}}}, 'Massive Attack': {'val': {'color': {'r': 0, 'g': 255, 'b': 0, 'a': 0}}}, 'Capital Cities': {'val': {'color': {'r': 0, 'g': 0, 'b': 255, 'a': 0}}}, 'Kid Cudi': {'val': {'color': {'r': 255, 'g': 0, 'b': 0, 'a': 0}}}})"
      ]
     },
     "execution_count": 79,
     "metadata": {},
     "output_type": "execute_result"
    }
   ],
   "source": [
    "z = zip(G.nodes(),pred)\n",
    "for i in z:\n",
    "    if i[1] == 0:\n",
    "        v = {'color': {'r': 255, 'g': 0, 'b': 0, 'a': 0}}\n",
    "    elif i[1] == 1:\n",
    "        v = {'color': {'r': 0, 'g': 0, 'b': 255, 'a': 0}}\n",
    "    elif i[1] == 2:\n",
    "        v = {'color': {'r': 0, 'g': 255, 'b': 0, 'a': 0}}\n",
    "    else:\n",
    "        v = {'color': {'r': 0, 'g': 0, 'b': 0, 'a': 0}}\n",
    "    G.nodes[i[0]]['val'] = v\n",
    "G.nodes(data=True)"
   ]
  },
  {
   "cell_type": "code",
   "execution_count": 80,
   "metadata": {},
   "outputs": [],
   "source": [
    "nx.write_gexf(G, \"../data/test/out/gephi.gexf\")"
   ]
  },
  {
   "cell_type": "code",
   "execution_count": null,
   "metadata": {},
   "outputs": [],
   "source": []
  }
 ],
 "metadata": {
  "kernelspec": {
   "display_name": "base",
   "language": "python",
   "name": "python3"
  },
  "language_info": {
   "codemirror_mode": {
    "name": "ipython",
    "version": 3
   },
   "file_extension": ".py",
   "mimetype": "text/x-python",
   "name": "python",
   "nbconvert_exporter": "python",
   "pygments_lexer": "ipython3",
   "version": "3.9.10"
  },
  "vscode": {
   "interpreter": {
    "hash": "b9128634cae53f720bb3f54bafa7733d84ea85d1652d8f4a6b55c706f2acab40"
   }
  }
 },
 "nbformat": 4,
 "nbformat_minor": 2
}
