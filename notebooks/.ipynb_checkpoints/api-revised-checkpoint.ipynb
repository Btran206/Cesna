{
 "cells": [
  {
   "cell_type": "code",
   "execution_count": 15,
   "metadata": {},
   "outputs": [],
   "source": [
    "import requests\n",
    "import json\n",
    "import pandas as pd\n",
    "import time\n",
    "import matplotlib.pyplot as plt\n"
   ]
  },
  {
   "cell_type": "code",
   "execution_count": 4,
   "metadata": {},
   "outputs": [],
   "source": [
    "import spotipy\n",
    "from spotipy.oauth2 import SpotifyClientCredentials\n",
    "\n",
    "client_id = '8ac5bd4f29854a4abb37648a5b7833d8'\n",
    "client_secret = 'c9f1281a0f774d97ae7d002139e53049'\n",
    "client_credentials_manager = SpotifyClientCredentials(client_id, client_secret)\n",
    "sp = spotipy.Spotify(client_credentials_manager=client_credentials_manager)"
   ]
  },
  {
   "cell_type": "code",
   "execution_count": 5,
   "metadata": {},
   "outputs": [],
   "source": [
    "df = pd.read_csv('../data/spotify_dataset.csv', usecols=range(4), lineterminator='\\n', header=0)"
   ]
  },
  {
   "cell_type": "code",
   "execution_count": 6,
   "metadata": {},
   "outputs": [],
   "source": [
    "df.columns = [x.replace('\"', '').lstrip() for x in df.columns]"
   ]
  },
  {
   "cell_type": "code",
   "execution_count": 7,
   "metadata": {},
   "outputs": [],
   "source": [
    "artists = df['artistname'].unique()[:1000]"
   ]
  },
  {
   "cell_type": "code",
   "execution_count": 22,
   "metadata": {
    "scrolled": true
   },
   "outputs": [
    {
     "name": "stdout",
     "output_type": "stream",
     "text": [
      "CPU times: user 4.46 s, sys: 685 ms, total: 5.15 s\n",
      "Wall time: 2min 38s\n"
     ]
    }
   ],
   "source": [
    "%%time\n",
    "artist_dict = {}\n",
    "for artist in artists:\n",
    "    result = sp.search(artist, type='artist')['artists']['items']\n",
    "    if len(result) > 0:\n",
    "        artist_dict[artist] = result[0]['genres']\n"
   ]
  },
  {
   "cell_type": "code",
   "execution_count": 23,
   "metadata": {},
   "outputs": [],
   "source": [
    "artists = df['artistname'].unique()[:500]"
   ]
  },
  {
   "cell_type": "code",
   "execution_count": 24,
   "metadata": {},
   "outputs": [
    {
     "name": "stdout",
     "output_type": "stream",
     "text": [
      "CPU times: user 2.28 s, sys: 345 ms, total: 2.62 s\n",
      "Wall time: 1min 9s\n"
     ]
    }
   ],
   "source": [
    "%%time\n",
    "artist_dict = {}\n",
    "for artist in artists:\n",
    "    result = sp.search(artist, type='artist')['artists']['items']\n",
    "    if len(result) > 0:\n",
    "        artist_dict[artist] = result[0]['genres']"
   ]
  },
  {
   "cell_type": "code",
   "execution_count": 13,
   "metadata": {},
   "outputs": [],
   "source": [
    "intervals = [10, 100, 250, 500, 1000]\n",
    "times = []\n",
    "\n",
    "for i in intervals:\n",
    "    artists = df['artistname'].unique()[:i]\n",
    "    start = time.time()\n",
    "    artist_dict = {}\n",
    "    for artist in artists:\n",
    "        result = sp.search(artist, type='artist')['artists']['items']\n",
    "        if len(result) > 0:\n",
    "            artist_dict[artist] = result[0]['genres']\n",
    "    end = time.time()\n",
    "    times.append(end - start)"
   ]
  },
  {
   "cell_type": "code",
   "execution_count": 16,
   "metadata": {},
   "outputs": [
    {
     "data": {
      "text/plain": [
       "[<matplotlib.lines.Line2D at 0x7f93e60d38d0>]"
      ]
     },
     "execution_count": 16,
     "metadata": {},
     "output_type": "execute_result"
    },
    {
     "data": {
      "image/png": "[encoded data removed]",
      "text/plain": [
       "<Figure size 432x288 with 1 Axes>"
      ]
     },
     "metadata": {
      "needs_background": "light"
     },
     "output_type": "display_data"
    }
   ],
   "source": [
    "plt.plot(intervals, times)"
   ]
  },
  {
   "cell_type": "code",
   "execution_count": 19,
   "metadata": {},
   "outputs": [
    {
     "data": {
      "text/html": [
       "<div>\n",
       "<style scoped>\n",
       "    .dataframe tbody tr th:only-of-type {\n",
       "        vertical-align: middle;\n",
       "    }\n",
       "\n",
       "    .dataframe tbody tr th {\n",
       "        vertical-align: top;\n",
       "    }\n",
       "\n",
       "    .dataframe thead th {\n",
       "        text-align: right;\n",
       "    }\n",
       "</style>\n",
       "<table border=\"1\" class=\"dataframe\">\n",
       "  <thead>\n",
       "    <tr style=\"text-align: right;\">\n",
       "      <th></th>\n",
       "      <th>user_id</th>\n",
       "      <th>artistname</th>\n",
       "      <th>trackname</th>\n",
       "      <th>playlistname</th>\n",
       "    </tr>\n",
       "  </thead>\n",
       "  <tbody>\n",
       "    <tr>\n",
       "      <th>12901974</th>\n",
       "      <td>2302bf9c64dc63d88a750215ed187f2c</td>\n",
       "      <td>Mötley Crüe</td>\n",
       "      <td>Wild Side</td>\n",
       "      <td>iPhone</td>\n",
       "    </tr>\n",
       "    <tr>\n",
       "      <th>12901975</th>\n",
       "      <td>2302bf9c64dc63d88a750215ed187f2c</td>\n",
       "      <td>John Lennon</td>\n",
       "      <td>Woman</td>\n",
       "      <td>iPhone</td>\n",
       "    </tr>\n",
       "    <tr>\n",
       "      <th>12901976</th>\n",
       "      <td>2302bf9c64dc63d88a750215ed187f2c</td>\n",
       "      <td>Tom Petty</td>\n",
       "      <td>You Don't Know How It Feels</td>\n",
       "      <td>iPhone</td>\n",
       "    </tr>\n",
       "    <tr>\n",
       "      <th>12901977</th>\n",
       "      <td>2302bf9c64dc63d88a750215ed187f2c</td>\n",
       "      <td>Tom Petty</td>\n",
       "      <td>You Wreck Me</td>\n",
       "      <td>iPhone</td>\n",
       "    </tr>\n",
       "    <tr>\n",
       "      <th>12901978</th>\n",
       "      <td>2302bf9c64dc63d88a750215ed187f2c</td>\n",
       "      <td>Skid Row</td>\n",
       "      <td>Youth Gone Wild</td>\n",
       "      <td>iPhone</td>\n",
       "    </tr>\n",
       "  </tbody>\n",
       "</table>\n",
       "</div>"
      ],
      "text/plain": [
       "                                   user_id   artistname  \\\n",
       "12901974  2302bf9c64dc63d88a750215ed187f2c  Mötley Crüe   \n",
       "12901975  2302bf9c64dc63d88a750215ed187f2c  John Lennon   \n",
       "12901976  2302bf9c64dc63d88a750215ed187f2c    Tom Petty   \n",
       "12901977  2302bf9c64dc63d88a750215ed187f2c    Tom Petty   \n",
       "12901978  2302bf9c64dc63d88a750215ed187f2c     Skid Row   \n",
       "\n",
       "                            trackname playlistname  \n",
       "12901974                    Wild Side       iPhone  \n",
       "12901975                        Woman       iPhone  \n",
       "12901976  You Don't Know How It Feels       iPhone  \n",
       "12901977                 You Wreck Me       iPhone  \n",
       "12901978              Youth Gone Wild       iPhone  "
      ]
     },
     "execution_count": 19,
     "metadata": {},
     "output_type": "execute_result"
    }
   ],
   "source": [
    "df.tail()"
   ]
  },
  {
   "cell_type": "code",
   "execution_count": 7,
   "metadata": {},
   "outputs": [
    {
     "data": {
      "text/plain": [
       "{'display_name': 'Ajay',\n",
       " 'external_urls': {'spotify': 'https://open.spotify.com/user/c8ztbhj7n5pt845269o943od1'},\n",
       " 'followers': {'href': None, 'total': 1},\n",
       " 'href': 'https://api.spotify.com/v1/users/c8ztbhj7n5pt845269o943od1',\n",
       " 'id': 'c8ztbhj7n5pt845269o943od1',\n",
       " 'images': [{'height': None,\n",
       "   'url': 'https://i.scdn.co/image/ab6775700000ee8584f1e4c23f3a5053957adec3',\n",
       "   'width': None}],\n",
       " 'type': 'user',\n",
       " 'uri': 'spotify:user:c8ztbhj7n5pt845269o943od1'}"
      ]
     },
     "execution_count": 7,
     "metadata": {},
     "output_type": "execute_result"
    }
   ],
   "source": [
    "sp.user('c8ztbhj7n5pt845269o943od1')"
   ]
  },
  {
   "cell_type": "code",
   "execution_count": 17,
   "metadata": {},
   "outputs": [],
   "source": [
    "oth_dict = [\n",
    "            {\n",
    "                \"pos\": 0,\n",
    "                \"artist_name\": \"Degiheugi\",\n",
    "                \"track_uri\": \"spotify:track:7vqa3sDmtEaVJ2gcvxtRID\",\n",
    "                \"artist_uri\": \"spotify:artist:3V2paBXEoZIAhfZRJmo2jL\",\n",
    "                \"track_name\": \"Finalement\",\n",
    "                \"album_uri\": \"spotify:album:2KrRMJ9z7Xjoz1Az4O6UML\",\n",
    "                \"duration_ms\": 166264,\n",
    "                \"album_name\": \"Dancing Chords and Fireflies\"\n",
    "            },\n",
    "            {\n",
    "                \"pos\": 1,\n",
    "                \"artist_name\": \"Degiheugi\",\n",
    "                \"track_uri\": \"spotify:track:23EOmJivOZ88WJPUbIPjh6\",\n",
    "                \"artist_uri\": \"spotify:artist:3V2paBXEoZIAhfZRJmo2jL\",\n",
    "                \"track_name\": \"Betty\",\n",
    "                \"album_uri\": \"spotify:album:3lUSlvjUoHNA8IkNTqURqd\",\n",
    "                \"duration_ms\": 235534,\n",
    "                \"album_name\": \"Endless Smile\"\n",
    "            },\n",
    "    {\n",
    "                \"pos\": 2,\n",
    "                \"artist_name\": \"Degiheugi\",\n",
    "                \"track_uri\": \"spotify:track:1vaffTCJxkyqeJY7zF9a55\",\n",
    "                \"artist_uri\": \"spotify:artist:3V2paBXEoZIAhfZRJmo2jL\",\n",
    "                \"track_name\": \"Some Beat in My Head\",\n",
    "                \"album_uri\": \"spotify:album:2KrRMJ9z7Xjoz1Az4O6UML\",\n",
    "                \"duration_ms\": 268050,\n",
    "                \"album_name\": \"Dancing Chords and Fireflies\"\n",
    "            },\n",
    "            {\n",
    "                \"pos\": 11,\n",
    "                \"artist_name\": \"Mo' Horizons\",\n",
    "                \"track_uri\": \"spotify:track:7iwx00eBzeSSSy6xfESyWN\",\n",
    "                \"artist_uri\": \"spotify:artist:3tuX54dqgS8LsGUvNzgrpP\",\n",
    "                \"track_name\": \"Fever 99\\u00b0\",\n",
    "                \"album_uri\": \"spotify:album:2Fg1t2tyOSGWkVYHlFfXVf\",\n",
    "                \"duration_ms\": 364320,\n",
    "                \"album_name\": \"Come Touch The Sun\"\n",
    "            }\n",
    "        ]\n",
    "\n",
    "    "
   ]
  },
  {
   "cell_type": "code",
   "execution_count": 32,
   "metadata": {},
   "outputs": [
    {
     "name": "stdout",
     "output_type": "stream",
     "text": [
      "0.3728458881378174\n"
     ]
    }
   ],
   "source": [
    "results = []\n",
    "start = time.time()\n",
    "for i in oth_dict:\n",
    "    result.append(sp.artist(i['artist_uri'])['genres'])\n",
    "end = time.time()\n",
    "print(end - start)"
   ]
  },
  {
   "cell_type": "code",
   "execution_count": 31,
   "metadata": {},
   "outputs": [
    {
     "name": "stdout",
     "output_type": "stream",
     "text": [
      "0.5056419372558594\n"
     ]
    }
   ],
   "source": [
    "# slow code\n",
    "artists = df['artistname'].unique()[:4]\n",
    "start = time.time()\n",
    "artist_dict = {}\n",
    "for artist in artists:\n",
    "    result = sp.search(artist, type='artist')['artists']['items']\n",
    "    if len(result) > 0:\n",
    "        artist_dict[artist] = result[0]['genres']\n",
    "end = time.time()\n",
    "print(end - start)\n"
   ]
  },
  {
   "cell_type": "code",
   "execution_count": null,
   "metadata": {},
   "outputs": [],
   "source": []
  },
  {
   "cell_type": "code",
   "execution_count": null,
   "metadata": {},
   "outputs": [],
   "source": []
  }
 ],
 "metadata": {
  "kernelspec": {
   "display_name": "Python 3",
   "language": "python",
   "name": "python3"
  },
  "language_info": {
   "codemirror_mode": {
    "name": "ipython",
    "version": 3
   },
   "file_extension": ".py",
   "mimetype": "text/x-python",
   "name": "python",
   "nbconvert_exporter": "python",
   "pygments_lexer": "ipython3",
   "version": "3.7.6"
  },
  "vscode": {
   "interpreter": {
    "hash": "40d3a090f54c6569ab1632332b64b2c03c39dcf918b08424e98f38b5ae0af88f"
   }
  }
 },
 "nbformat": 4,
 "nbformat_minor": 2
}
