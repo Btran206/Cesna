{
 "cells": [
  {
   "cell_type": "code",
   "execution_count": null,
   "metadata": {},
   "outputs": [],
   "source": [
    "!pip install git+https://github.com/AIcrowd/aicrowd_api.git\n",
    "from aicrowd_api import API as AICROWD_API\n"
   ]
  },
  {
   "cell_type": "code",
   "execution_count": null,
   "metadata": {},
   "outputs": [],
   "source": [
    "#FOR DOCKER SELENIUM \n",
    "#sudo apt-get install chromium-chromedriver"
   ]
  },
  {
   "cell_type": "code",
   "execution_count": 1,
   "metadata": {},
   "outputs": [
    {
     "name": "stdout",
     "output_type": "stream",
     "text": [
      "Collecting git+https://github.com/AIcrowd/aicrowd_api.git\n",
      "  Cloning https://github.com/AIcrowd/aicrowd_api.git to /private/var/folders/0x/dqjn6bls693ffjxv5gbl0d3r0000gn/T/pip-req-build-r3l79p0n\n",
      "Requirement already satisfied (use --upgrade to upgrade): aicrowd-api==0.1.24 from git+https://github.com/AIcrowd/aicrowd_api.git in /opt/anaconda3/lib/python3.8/site-packages\n",
      "Requirement already satisfied: requests>=2.18.4 in /opt/anaconda3/lib/python3.8/site-packages (from aicrowd-api==0.1.24) (2.28.2)\n",
      "Requirement already satisfied: redis in /opt/anaconda3/lib/python3.8/site-packages (from aicrowd-api==0.1.24) (4.4.2)\n",
      "Requirement already satisfied: charset-normalizer<4,>=2 in /opt/anaconda3/lib/python3.8/site-packages (from requests>=2.18.4->aicrowd-api==0.1.24) (3.0.1)\n",
      "Requirement already satisfied: urllib3<1.27,>=1.21.1 in /opt/anaconda3/lib/python3.8/site-packages (from requests>=2.18.4->aicrowd-api==0.1.24) (1.26.14)\n",
      "Requirement already satisfied: idna<4,>=2.5 in /opt/anaconda3/lib/python3.8/site-packages (from requests>=2.18.4->aicrowd-api==0.1.24) (2.10)\n",
      "Requirement already satisfied: certifi>=2017.4.17 in /opt/anaconda3/lib/python3.8/site-packages (from requests>=2.18.4->aicrowd-api==0.1.24) (2022.12.7)\n",
      "Requirement already satisfied: async-timeout>=4.0.2 in /opt/anaconda3/lib/python3.8/site-packages (from redis->aicrowd-api==0.1.24) (4.0.2)\n",
      "Building wheels for collected packages: aicrowd-api\n",
      "  Building wheel for aicrowd-api (setup.py) ... \u001b[?25ldone\n",
      "\u001b[?25h  Created wheel for aicrowd-api: filename=aicrowd_api-0.1.24-py2.py3-none-any.whl size=9967 sha256=d0b8b671f6757f5fcb5d4c452c420dce8d803772f4eb9a937a22582120cb27c8\n",
      "  Stored in directory: /private/var/folders/0x/dqjn6bls693ffjxv5gbl0d3r0000gn/T/pip-ephem-wheel-cache-h2ewi_4u/wheels/67/1a/cf/3103673ae3fcd7b957643168f9aa1f7a4a664614fb36a5122a\n",
      "Successfully built aicrowd-api\n"
     ]
    }
   ],
   "source": [
    "\n",
    "!pip install selenium"
   ]
  },
  {
   "cell_type": "code",
   "execution_count": 3,
   "metadata": {},
   "outputs": [],
   "source": [
    "#in theory, should be able to delete this and keep .pyc file as it's used for importing and will be byte compiled so password will be even more hidden"
   ]
  },
  {
   "cell_type": "code",
   "execution_count": 155,
   "metadata": {},
   "outputs": [],
   "source": [
    "from selenium import webdriver\n",
    "from selenium.webdriver.chrome.options import Options\n",
    "from selenium.webdriver.common.by import By\n",
    "from selenium.webdriver.common.keys import Keys\n",
    "import os\n",
    "import time\n",
    "import base64\n",
    "\n"
   ]
  },
  {
   "cell_type": "code",
   "execution_count": null,
   "metadata": {},
   "outputs": [],
   "source": [
    "try:\n",
    "    # Start the browser and navigate to the URL\n",
    "    browser = webdriver.Chrome()\n",
    "    browser.get(\"https://www.aicrowd.com/challenges/spotify-million-playlist-dataset-challenge/dataset_files?unique_download_uri=199404&challenge_id=277\")\n",
    "    download_link.click()\n",
    "    print(\"Link Clicked\")\n",
    "\n",
    "    # Wait for the download to start\n",
    "    time.sleep(1)\n",
    "    print(\"checking download!\")\n",
    "    # Check for the download's progress\n",
    "    # Close the browser\n",
    "    browser.quit()\n",
    "except Exception as inst:\n",
    "    print(type(inst))\n",
    "    print(inst.args)\n",
    "    print(inst) \n",
    "    browser.quit()\n"
   ]
  },
  {
   "cell_type": "code",
   "execution_count": null,
   "metadata": {},
   "outputs": [],
   "source": [
    "\n",
    "# Set options to start the Chrome browser in headless mode\n",
    "options = Options()\n",
    "options.headless = True\n",
    "options.add_argument(\"window-size=1200,1100\")\n",
    "options.add_experimental_option(\"prefs\", {\n",
    "  \"download.default_directory\": os.getcwd(),\n",
    "  \"download.prompt_for_download\": False,\n",
    "  \"download.directory_upgrade\": True,\n",
    "  \"safebrowsing.enabled\": True\n",
    "})\n",
    "\n",
    "\n",
    "# Start the browser and navigate to the URL\n",
    "browser = webdriver.Chrome(options=options)\n",
    "browser.get(\"https://example.com/file.zip\")\n",
    "\n",
    "# Find the link to the file and click it to start the download\n",
    "download_link = browser.find_element_by_link_text(\"Download\")\n",
    "download_link.click()\n",
    "\n",
    "# Wait for the download to start\n",
    "time.sleep(3)\n",
    "\n",
    "# Check for the download's progress\n",
    "downloads_dir = browser.execute_script(\"return window.chrome.downloads.search({})[0].filename;\", {})\n",
    "while True:\n",
    "    download_status = browser.execute_script(\"return window.chrome.downloads.search({})[0].state;\", {})\n",
    "    if download_status == 'complete':\n",
    "        print(f\"Download of {downloads_dir} is complete\")\n",
    "        break\n",
    "    else:\n",
    "        download_progress = browser.execute_script(\"return window.chrome.downloads.search({})[0].percent;\", {})\n",
    "        print(f\"Download of {downloads_dir} is in progress... {download_progress}% complete\")\n",
    "        time.sleep(3)\n",
    "\n",
    "# Close the browser\n",
    "browser.quit()\n"
   ]
  },
  {
   "cell_type": "code",
   "execution_count": 168,
   "metadata": {},
   "outputs": [],
   "source": [
    "# Start the browser and navigate to the URL\n",
    "browser = webdriver.Chrome()\n",
    "browser.get(\"https://www.aicrowd.com/challenges/spotify-million-playlist-dataset-challenge/dataset_files?unique_download_uri=199404&challenge_id=277\")\n",
    "time.sleep(3)\n",
    "\n",
    "# May have sign in with Google first\n",
    "try:\n",
    "    google_sign_in = browser.find_element(By.LINK_TEXT, \"Continue with Google\")\n",
    "    google_sign_in.click()\n",
    "    time.sleep(6)\n",
    "    current_field = browser.find_element(By.NAME, \"identifier\")\n",
    "    current_field.send_keys(\"dsc180bdummy@gmail.com\")\n",
    "    current_field.send_keys(Keys.RETURN)\n",
    "    time.sleep(3)\n",
    "    current_field = browser.find_element(By.NAME, \"password\")\n",
    "    current_field.send_keys(base64.b64decode(\"QTFiMmMzZDRlNTVlNGQzYzJiMUE=\").decode(\"utf-8\"))\n",
    "    current_field.send_keys(Keys.RETURN)\n",
    "    time.sleep(3)\n",
    "except:\n",
    "    print(\"No google login!\")\n",
    "    pass\n",
    "finally:\n",
    "    browser.get(\"chrome://downloads\")\n",
    "    "
   ]
  },
  {
   "cell_type": "code",
   "execution_count": 169,
   "metadata": {},
   "outputs": [
    {
     "name": "stdout",
     "output_type": "stream",
     "text": [
      "Download of spotify_million_playlist_dataset (1).zip is in progress...\n",
      "2.2 MB/s - 4.4 MB of 5.4 GB, 42 mins left\n",
      "6.5 MB/s - 72.6 MB of 5.4 GB, 14 mins left\n",
      "6.4 MB/s - 139 MB of 5.4 GB, 14 mins left\n",
      "0 B/s - 185 MB of 5.4 GB, Paused\n",
      "1,946 KB/s - 204 MB of 5.4 GB, 47 mins left\n",
      "\n",
      "Download of spotify_million_playlist_dataset (1).zipCanceled is has failed or been stopped\n",
      "b1\n"
     ]
    }
   ],
   "source": [
    "# Check for the download's progress\n",
    "\n",
    "item = browser.execute_script(\"return document.querySelector('downloads-manager').shadowRoot.querySelector('iron-list').querySelector('downloads-item').shadowRoot.querySelector('#content')\")\n",
    "filename = item.find_element(By.ID, 'title-area')\n",
    "print(f\"Download of {filename.text} is in progress...\")\n",
    "while True:\n",
    "    if filename.find_element(By.ID, 'name').is_displayed():\n",
    "        filestatus = item.find_element(By.ID, 'description').text\n",
    "        print(filestatus)\n",
    "        if filestatus == \"\":\n",
    "            print(f\"Download of {filename.text} has failed or been stopped\")\n",
    "            break\n",
    "        time.sleep(10)\n",
    "    elif filename.find_element(By.ID, 'file-link').is_displayed():\n",
    "        print(f\"Download of {filename.text} was successful!!\")\n",
    "        break\n",
    "    else:\n",
    "        print(\"hm, not sure why this message would get hit. Oops...\")\n",
    "        break\n",
    "\n",
    "# Close the browser\n",
    "browser.quit()\n"
   ]
  },
  {
   "cell_type": "code",
   "execution_count": 25,
   "metadata": {},
   "outputs": [],
   "source": []
  }
 ],
 "metadata": {
  "kernelspec": {
   "display_name": "Python 3",
   "language": "python",
   "name": "python3"
  },
  "language_info": {
   "codemirror_mode": {
    "name": "ipython",
    "version": 3
   },
   "file_extension": ".py",
   "mimetype": "text/x-python",
   "name": "python",
   "nbconvert_exporter": "python",
   "pygments_lexer": "ipython3",
   "version": "3.8.5"
  },
  "orig_nbformat": 4,
  "vscode": {
   "interpreter": {
    "hash": "40d3a090f54c6569ab1632332b64b2c03c39dcf918b08424e98f38b5ae0af88f"
   }
  }
 },
 "nbformat": 4,
 "nbformat_minor": 2
}
