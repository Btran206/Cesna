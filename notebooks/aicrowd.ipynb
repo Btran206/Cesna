{
 "cells": [
  {
   "cell_type": "code",
   "execution_count": null,
   "metadata": {},
   "outputs": [],
   "source": [
    "#FOR DOCKER SELENIUM \n",
    "#sudo apt-get install chromium-chromedriver"
   ]
  },
  {
   "cell_type": "code",
   "execution_count": 1,
   "metadata": {},
   "outputs": [
    {
     "name": "stdout",
     "output_type": "stream",
     "text": [
      "Collecting git+https://github.com/AIcrowd/aicrowd_api.git\n",
      "  Cloning https://github.com/AIcrowd/aicrowd_api.git to /private/var/folders/0x/dqjn6bls693ffjxv5gbl0d3r0000gn/T/pip-req-build-r3l79p0n\n",
      "Requirement already satisfied (use --upgrade to upgrade): aicrowd-api==0.1.24 from git+https://github.com/AIcrowd/aicrowd_api.git in /opt/anaconda3/lib/python3.8/site-packages\n",
      "Requirement already satisfied: requests>=2.18.4 in /opt/anaconda3/lib/python3.8/site-packages (from aicrowd-api==0.1.24) (2.28.2)\n",
      "Requirement already satisfied: redis in /opt/anaconda3/lib/python3.8/site-packages (from aicrowd-api==0.1.24) (4.4.2)\n",
      "Requirement already satisfied: charset-normalizer<4,>=2 in /opt/anaconda3/lib/python3.8/site-packages (from requests>=2.18.4->aicrowd-api==0.1.24) (3.0.1)\n",
      "Requirement already satisfied: urllib3<1.27,>=1.21.1 in /opt/anaconda3/lib/python3.8/site-packages (from requests>=2.18.4->aicrowd-api==0.1.24) (1.26.14)\n",
      "Requirement already satisfied: idna<4,>=2.5 in /opt/anaconda3/lib/python3.8/site-packages (from requests>=2.18.4->aicrowd-api==0.1.24) (2.10)\n",
      "Requirement already satisfied: certifi>=2017.4.17 in /opt/anaconda3/lib/python3.8/site-packages (from requests>=2.18.4->aicrowd-api==0.1.24) (2022.12.7)\n",
      "Requirement already satisfied: async-timeout>=4.0.2 in /opt/anaconda3/lib/python3.8/site-packages (from redis->aicrowd-api==0.1.24) (4.0.2)\n",
      "Building wheels for collected packages: aicrowd-api\n",
      "  Building wheel for aicrowd-api (setup.py) ... \u001b[?25ldone\n",
      "\u001b[?25h  Created wheel for aicrowd-api: filename=aicrowd_api-0.1.24-py2.py3-none-any.whl size=9967 sha256=d0b8b671f6757f5fcb5d4c452c420dce8d803772f4eb9a937a22582120cb27c8\n",
      "  Stored in directory: /private/var/folders/0x/dqjn6bls693ffjxv5gbl0d3r0000gn/T/pip-ephem-wheel-cache-h2ewi_4u/wheels/67/1a/cf/3103673ae3fcd7b957643168f9aa1f7a4a664614fb36a5122a\n",
      "Successfully built aicrowd-api\n"
     ]
    }
   ],
   "source": [
    "!pip install git+https://github.com/AIcrowd/aicrowd_api.git\n",
    "!pip install selenium"
   ]
  },
  {
   "cell_type": "code",
   "execution_count": 3,
   "metadata": {},
   "outputs": [],
   "source": [
    "#in theory, should be able to delete this and keep .pyc file as it's used for importing and will be byte compiled so password will be even more hidden"
   ]
  },
  {
   "cell_type": "code",
   "execution_count": 4,
   "metadata": {},
   "outputs": [],
   "source": [
    "from aicrowd_api import API as AICROWD_API\n",
    "import base64\n"
   ]
  },
  {
   "cell_type": "code",
   "execution_count": 8,
   "metadata": {},
   "outputs": [
    {
     "data": {
      "text/plain": [
       "'A1b2c3d4e55e4d3c2b1A'"
      ]
     },
     "execution_count": 8,
     "metadata": {},
     "output_type": "execute_result"
    }
   ],
   "source": [
    "u = \"dsc180bdummy@gmail.com\"\n",
    "base64.b64decode(\"QTFiMmMzZDRlNTVlNGQzYzJiMUE=\").decode(\"utf-8\")\n",
    "link = \"https://www.aicrowd.com/challenges/spotify-million-playlist-dataset-challenge/dataset_files?unique_download_uri=199404&challenge_id=277\""
   ]
  },
  {
   "cell_type": "code",
   "execution_count": null,
   "metadata": {},
   "outputs": [],
   "source": [
    "#first login page\n",
    "#after loading, tab 11 times\n",
    "<a class=\"btn btn-modal-login py-2\" data-controller=\"mixpanel\" data-type=\"loginGoogle\" href=\"/participants/auth/google_oauth2\">\n",
    "          <i><img class=\"btn-modal-login-img mr-2\" src=\"https://images.aicrowd.com/images/landing_page/google.svg\"></i>Continue with Google\n",
    "</a>"
   ]
  },
  {
   "cell_type": "code",
   "execution_count": null,
   "metadata": {},
   "outputs": [],
   "source": [
    "#google enter username\n",
    "#auto selected field\n",
    "name = \"identifier\""
   ]
  },
  {
   "cell_type": "code",
   "execution_count": null,
   "metadata": {},
   "outputs": [],
   "source": [
    "#google enter password\n",
    "#auto selected field\n",
    "name - \"password\""
   ]
  },
  {
   "cell_type": "code",
   "execution_count": null,
   "metadata": {},
   "outputs": [],
   "source": [
    "from selenium import webdriver\n",
    "\n",
    "chrome_options = webdriver.ChromeOptions()\n",
    "prefs = {'download.default_directory' : '/path/to/dir'}\n",
    "chrome_options.add_experimental_option('prefs', prefs)\n",
    "driver = webdriver.Chrome(chrome_options=chrome_options)"
   ]
  },
  {
   "cell_type": "code",
   "execution_count": null,
   "metadata": {},
   "outputs": [],
   "source": [
    "from selenium import webdriver\n",
    "from selenium.webdriver.chrome.options import Options\n",
    "import time\n",
    "\n",
    "# Set options to start the Chrome browser in headless mode\n",
    "options = Options()\n",
    "options.headless = True\n",
    "\n",
    "# Start the browser and navigate to the URL\n",
    "browser = webdriver.Chrome(options=options)\n",
    "browser.get(\"https://example.com/file.zip\")\n",
    "\n",
    "# Find the link to the file and click it to start the download\n",
    "download_link = browser.find_element_by_link_text(\"Download\")\n",
    "download_link.click()\n",
    "\n",
    "# Wait for the download to start\n",
    "time.sleep(3)\n",
    "\n",
    "# Check for the download's progress\n",
    "downloads_dir = browser.execute_script(\"return window.chrome.downloads.search({})[0].filename;\", {})\n",
    "while True:\n",
    "    download_status = browser.execute_script(\"return window.chrome.downloads.search({})[0].state;\", {})\n",
    "    if download_status == 'complete':\n",
    "        print(f\"Download of {downloads_dir} is complete\")\n",
    "        break\n",
    "    else:\n",
    "        download_progress = browser.execute_script(\"return window.chrome.downloads.search({})[0].percent;\", {})\n",
    "        print(f\"Download of {downloads_dir} is in progress... {download_progress}% complete\")\n",
    "        time.sleep(3)\n",
    "\n",
    "# Close the browser\n",
    "browser.quit()\n"
   ]
  },
  {
   "cell_type": "code",
   "execution_count": null,
   "metadata": {},
   "outputs": [],
   "source": [
    "field = browser.find_element_by_name(\"identifier\")\n",
    "field.send_keys(\"Test!\")\n"
   ]
  },
  {
   "cell_type": "code",
   "execution_count": 28,
   "metadata": {},
   "outputs": [],
   "source": [
    "from selenium import webdriver\n",
    "from selenium.webdriver.chrome.options import Options\n",
    "from selenium.webdriver.common.by import By\n",
    "\n",
    "import time"
   ]
  },
  {
   "cell_type": "code",
   "execution_count": 15,
   "metadata": {},
   "outputs": [
    {
     "name": "stdout",
     "output_type": "stream",
     "text": [
      "Wait done!\n",
      "Link Clicked\n",
      "checking download!\n"
     ]
    },
    {
     "ename": "JavascriptException",
     "evalue": "Message: javascript error: Cannot read properties of undefined (reading 'search')\n  (Session info: chrome=109.0.5414.119)\nStacktrace:\n0   chromedriver                        0x000000010117cfa8 chromedriver + 4886440\n1   chromedriver                        0x00000001010fa643 chromedriver + 4351555\n2   chromedriver                        0x0000000100d48b27 chromedriver + 477991\n3   chromedriver                        0x0000000100d4cf78 chromedriver + 495480\n4   chromedriver                        0x0000000100d4cc46 chromedriver + 494662\n5   chromedriver                        0x0000000100d4db9e chromedriver + 498590\n6   chromedriver                        0x0000000100dcf35f chromedriver + 1028959\n7   chromedriver                        0x0000000100db35d2 chromedriver + 914898\n8   chromedriver                        0x0000000100dce5fe chromedriver + 1025534\n9   chromedriver                        0x0000000100db33a3 chromedriver + 914339\n10  chromedriver                        0x0000000100d7d57f chromedriver + 693631\n11  chromedriver                        0x0000000100d7eb1e chromedriver + 699166\n12  chromedriver                        0x0000000101149b9e chromedriver + 4676510\n13  chromedriver                        0x000000010114e91e chromedriver + 4696350\n14  chromedriver                        0x000000010115619f chromedriver + 4727199\n15  chromedriver                        0x000000010114f81a chromedriver + 4700186\n16  chromedriver                        0x0000000101122a62 chromedriver + 4516450\n17  chromedriver                        0x000000010116e8c8 chromedriver + 4827336\n18  chromedriver                        0x000000010116ea45 chromedriver + 4827717\n19  chromedriver                        0x00000001011847ef chromedriver + 4917231\n20  libsystem_pthread.dylib             0x00007ff80aa4b259 _pthread_start + 125\n21  libsystem_pthread.dylib             0x00007ff80aa46c7b thread_start + 15\n",
     "output_type": "error",
     "traceback": [
      "\u001b[0;31m---------------------------------------------------------------------------\u001b[0m",
      "\u001b[0;31mJavascriptException\u001b[0m                       Traceback (most recent call last)",
      "\u001b[0;32m<ipython-input-15-d52e58f70392>\u001b[0m in \u001b[0;36m<module>\u001b[0;34m\u001b[0m\n\u001b[1;32m     16\u001b[0m \u001b[0mprint\u001b[0m\u001b[0;34m(\u001b[0m\u001b[0;34m\"checking download!\"\u001b[0m\u001b[0;34m)\u001b[0m\u001b[0;34m\u001b[0m\u001b[0;34m\u001b[0m\u001b[0m\n\u001b[1;32m     17\u001b[0m \u001b[0;31m# Check for the download's progress\u001b[0m\u001b[0;34m\u001b[0m\u001b[0;34m\u001b[0m\u001b[0;34m\u001b[0m\u001b[0m\n\u001b[0;32m---> 18\u001b[0;31m \u001b[0mdownloads_dir\u001b[0m \u001b[0;34m=\u001b[0m \u001b[0mbrowser\u001b[0m\u001b[0;34m.\u001b[0m\u001b[0mexecute_script\u001b[0m\u001b[0;34m(\u001b[0m\u001b[0;34m\"return window.chrome.downloads.search({})[0].filename;\"\u001b[0m\u001b[0;34m,\u001b[0m \u001b[0;34m{\u001b[0m\u001b[0;34m}\u001b[0m\u001b[0;34m)\u001b[0m\u001b[0;34m\u001b[0m\u001b[0;34m\u001b[0m\u001b[0m\n\u001b[0m\u001b[1;32m     19\u001b[0m \u001b[0;32mwhile\u001b[0m \u001b[0;32mTrue\u001b[0m\u001b[0;34m:\u001b[0m\u001b[0;34m\u001b[0m\u001b[0;34m\u001b[0m\u001b[0m\n\u001b[1;32m     20\u001b[0m     \u001b[0mdownload_status\u001b[0m \u001b[0;34m=\u001b[0m \u001b[0mbrowser\u001b[0m\u001b[0;34m.\u001b[0m\u001b[0mexecute_script\u001b[0m\u001b[0;34m(\u001b[0m\u001b[0;34m\"return window.chrome.downloads.search({})[0].state;\"\u001b[0m\u001b[0;34m,\u001b[0m \u001b[0;34m{\u001b[0m\u001b[0;34m}\u001b[0m\u001b[0;34m)\u001b[0m\u001b[0;34m\u001b[0m\u001b[0;34m\u001b[0m\u001b[0m\n",
      "\u001b[0;32m/opt/anaconda3/lib/python3.8/site-packages/selenium/webdriver/remote/webdriver.py\u001b[0m in \u001b[0;36mexecute_script\u001b[0;34m(self, script, *args)\u001b[0m\n\u001b[1;32m    498\u001b[0m         \u001b[0mcommand\u001b[0m \u001b[0;34m=\u001b[0m \u001b[0mCommand\u001b[0m\u001b[0;34m.\u001b[0m\u001b[0mW3C_EXECUTE_SCRIPT\u001b[0m\u001b[0;34m\u001b[0m\u001b[0;34m\u001b[0m\u001b[0m\n\u001b[1;32m    499\u001b[0m \u001b[0;34m\u001b[0m\u001b[0m\n\u001b[0;32m--> 500\u001b[0;31m         \u001b[0;32mreturn\u001b[0m \u001b[0mself\u001b[0m\u001b[0;34m.\u001b[0m\u001b[0mexecute\u001b[0m\u001b[0;34m(\u001b[0m\u001b[0mcommand\u001b[0m\u001b[0;34m,\u001b[0m \u001b[0;34m{\u001b[0m\u001b[0;34m\"script\"\u001b[0m\u001b[0;34m:\u001b[0m \u001b[0mscript\u001b[0m\u001b[0;34m,\u001b[0m \u001b[0;34m\"args\"\u001b[0m\u001b[0;34m:\u001b[0m \u001b[0mconverted_args\u001b[0m\u001b[0;34m}\u001b[0m\u001b[0;34m)\u001b[0m\u001b[0;34m[\u001b[0m\u001b[0;34m\"value\"\u001b[0m\u001b[0;34m]\u001b[0m\u001b[0;34m\u001b[0m\u001b[0;34m\u001b[0m\u001b[0m\n\u001b[0m\u001b[1;32m    501\u001b[0m \u001b[0;34m\u001b[0m\u001b[0m\n\u001b[1;32m    502\u001b[0m     \u001b[0;32mdef\u001b[0m \u001b[0mexecute_async_script\u001b[0m\u001b[0;34m(\u001b[0m\u001b[0mself\u001b[0m\u001b[0;34m,\u001b[0m \u001b[0mscript\u001b[0m\u001b[0;34m:\u001b[0m \u001b[0mstr\u001b[0m\u001b[0;34m,\u001b[0m \u001b[0;34m*\u001b[0m\u001b[0margs\u001b[0m\u001b[0;34m)\u001b[0m\u001b[0;34m:\u001b[0m\u001b[0;34m\u001b[0m\u001b[0;34m\u001b[0m\u001b[0m\n",
      "\u001b[0;32m/opt/anaconda3/lib/python3.8/site-packages/selenium/webdriver/remote/webdriver.py\u001b[0m in \u001b[0;36mexecute\u001b[0;34m(self, driver_command, params)\u001b[0m\n\u001b[1;32m    438\u001b[0m         \u001b[0mresponse\u001b[0m \u001b[0;34m=\u001b[0m \u001b[0mself\u001b[0m\u001b[0;34m.\u001b[0m\u001b[0mcommand_executor\u001b[0m\u001b[0;34m.\u001b[0m\u001b[0mexecute\u001b[0m\u001b[0;34m(\u001b[0m\u001b[0mdriver_command\u001b[0m\u001b[0;34m,\u001b[0m \u001b[0mparams\u001b[0m\u001b[0;34m)\u001b[0m\u001b[0;34m\u001b[0m\u001b[0;34m\u001b[0m\u001b[0m\n\u001b[1;32m    439\u001b[0m         \u001b[0;32mif\u001b[0m \u001b[0mresponse\u001b[0m\u001b[0;34m:\u001b[0m\u001b[0;34m\u001b[0m\u001b[0;34m\u001b[0m\u001b[0m\n\u001b[0;32m--> 440\u001b[0;31m             \u001b[0mself\u001b[0m\u001b[0;34m.\u001b[0m\u001b[0merror_handler\u001b[0m\u001b[0;34m.\u001b[0m\u001b[0mcheck_response\u001b[0m\u001b[0;34m(\u001b[0m\u001b[0mresponse\u001b[0m\u001b[0;34m)\u001b[0m\u001b[0;34m\u001b[0m\u001b[0;34m\u001b[0m\u001b[0m\n\u001b[0m\u001b[1;32m    441\u001b[0m             \u001b[0mresponse\u001b[0m\u001b[0;34m[\u001b[0m\u001b[0;34m\"value\"\u001b[0m\u001b[0;34m]\u001b[0m \u001b[0;34m=\u001b[0m \u001b[0mself\u001b[0m\u001b[0;34m.\u001b[0m\u001b[0m_unwrap_value\u001b[0m\u001b[0;34m(\u001b[0m\u001b[0mresponse\u001b[0m\u001b[0;34m.\u001b[0m\u001b[0mget\u001b[0m\u001b[0;34m(\u001b[0m\u001b[0;34m\"value\"\u001b[0m\u001b[0;34m,\u001b[0m \u001b[0;32mNone\u001b[0m\u001b[0;34m)\u001b[0m\u001b[0;34m)\u001b[0m\u001b[0;34m\u001b[0m\u001b[0;34m\u001b[0m\u001b[0m\n\u001b[1;32m    442\u001b[0m             \u001b[0;32mreturn\u001b[0m \u001b[0mresponse\u001b[0m\u001b[0;34m\u001b[0m\u001b[0;34m\u001b[0m\u001b[0m\n",
      "\u001b[0;32m/opt/anaconda3/lib/python3.8/site-packages/selenium/webdriver/remote/errorhandler.py\u001b[0m in \u001b[0;36mcheck_response\u001b[0;34m(self, response)\u001b[0m\n\u001b[1;32m    243\u001b[0m                 \u001b[0malert_text\u001b[0m \u001b[0;34m=\u001b[0m \u001b[0mvalue\u001b[0m\u001b[0;34m[\u001b[0m\u001b[0;34m\"alert\"\u001b[0m\u001b[0;34m]\u001b[0m\u001b[0;34m.\u001b[0m\u001b[0mget\u001b[0m\u001b[0;34m(\u001b[0m\u001b[0;34m\"text\"\u001b[0m\u001b[0;34m)\u001b[0m\u001b[0;34m\u001b[0m\u001b[0;34m\u001b[0m\u001b[0m\n\u001b[1;32m    244\u001b[0m             \u001b[0;32mraise\u001b[0m \u001b[0mexception_class\u001b[0m\u001b[0;34m(\u001b[0m\u001b[0mmessage\u001b[0m\u001b[0;34m,\u001b[0m \u001b[0mscreen\u001b[0m\u001b[0;34m,\u001b[0m \u001b[0mstacktrace\u001b[0m\u001b[0;34m,\u001b[0m \u001b[0malert_text\u001b[0m\u001b[0;34m)\u001b[0m  \u001b[0;31m# type: ignore[call-arg]  # mypy is not smart enough here\u001b[0m\u001b[0;34m\u001b[0m\u001b[0;34m\u001b[0m\u001b[0m\n\u001b[0;32m--> 245\u001b[0;31m         \u001b[0;32mraise\u001b[0m \u001b[0mexception_class\u001b[0m\u001b[0;34m(\u001b[0m\u001b[0mmessage\u001b[0m\u001b[0;34m,\u001b[0m \u001b[0mscreen\u001b[0m\u001b[0;34m,\u001b[0m \u001b[0mstacktrace\u001b[0m\u001b[0;34m)\u001b[0m\u001b[0;34m\u001b[0m\u001b[0;34m\u001b[0m\u001b[0m\n\u001b[0m",
      "\u001b[0;31mJavascriptException\u001b[0m: Message: javascript error: Cannot read properties of undefined (reading 'search')\n  (Session info: chrome=109.0.5414.119)\nStacktrace:\n0   chromedriver                        0x000000010117cfa8 chromedriver + 4886440\n1   chromedriver                        0x00000001010fa643 chromedriver + 4351555\n2   chromedriver                        0x0000000100d48b27 chromedriver + 477991\n3   chromedriver                        0x0000000100d4cf78 chromedriver + 495480\n4   chromedriver                        0x0000000100d4cc46 chromedriver + 494662\n5   chromedriver                        0x0000000100d4db9e chromedriver + 498590\n6   chromedriver                        0x0000000100dcf35f chromedriver + 1028959\n7   chromedriver                        0x0000000100db35d2 chromedriver + 914898\n8   chromedriver                        0x0000000100dce5fe chromedriver + 1025534\n9   chromedriver                        0x0000000100db33a3 chromedriver + 914339\n10  chromedriver                        0x0000000100d7d57f chromedriver + 693631\n11  chromedriver                        0x0000000100d7eb1e chromedriver + 699166\n12  chromedriver                        0x0000000101149b9e chromedriver + 4676510\n13  chromedriver                        0x000000010114e91e chromedriver + 4696350\n14  chromedriver                        0x000000010115619f chromedriver + 4727199\n15  chromedriver                        0x000000010114f81a chromedriver + 4700186\n16  chromedriver                        0x0000000101122a62 chromedriver + 4516450\n17  chromedriver                        0x000000010116e8c8 chromedriver + 4827336\n18  chromedriver                        0x000000010116ea45 chromedriver + 4827717\n19  chromedriver                        0x00000001011847ef chromedriver + 4917231\n20  libsystem_pthread.dylib             0x00007ff80aa4b259 _pthread_start + 125\n21  libsystem_pthread.dylib             0x00007ff80aa46c7b thread_start + 15\n"
     ]
    }
   ],
   "source": [
    "try:\n",
    "    # Start the browser and navigate to the URL\n",
    "    browser = webdriver.Chrome()\n",
    "    browser.get(\"https://file-examples.com/index.php/sample-video-files/sample-mp4-files/\")\n",
    "\n",
    "    time.sleep(2)\n",
    "    print(\"Wait done!\")\n",
    "    # Find the link to the file and click it to start the download\n",
    "    download_link = browser.find_elements(By.CLASS_NAME, \"download-button\")[-1]\n",
    "\n",
    "\n",
    "    download_link.click()\n",
    "    print(\"Link Clicked\")\n",
    "\n",
    "    # Wait for the download to start\n",
    "    time.sleep(1)\n",
    "    print(\"checking download!\")\n",
    "    # Check for the download's progress\n",
    "    downloads_dir = browser.execute_script(\"return window.chrome.downloads.search({})[0].filename;\", {})\n",
    "    while True:\n",
    "        download_status = browser.execute_script(\"return window.chrome.downloads.search({})[0].state;\", {})\n",
    "        if download_status == 'complete':\n",
    "            print(f\"Download of {downloads_dir} is complete\")\n",
    "            break\n",
    "        else:\n",
    "            print(f\"Download of {downloads_dir} is in progress...\")\n",
    "            time.sleep(3)\n",
    "\n",
    "    # Close the browser\n",
    "    browser.quit()\n",
    "except Exception as inst:\n",
    "    print(type(inst))\n",
    "    print(inst.args)\n",
    "    print(inst) \n",
    "    browser.quit()\n"
   ]
  },
  {
   "cell_type": "code",
   "execution_count": 16,
   "metadata": {},
   "outputs": [
    {
     "ename": "NameError",
     "evalue": "name 'file' is not defined",
     "output_type": "error",
     "traceback": [
      "\u001b[0;31m---------------------------------------------------------------------------\u001b[0m",
      "\u001b[0;31mNameError\u001b[0m                                 Traceback (most recent call last)",
      "\u001b[0;32m<ipython-input-16-4281e7118a25>\u001b[0m in \u001b[0;36m<module>\u001b[0;34m\u001b[0m\n\u001b[1;32m      1\u001b[0m \u001b[0mid\u001b[0m\u001b[0;34m=\u001b[0m\u001b[0;34m\"frb0\"\u001b[0m\u001b[0;34m\u001b[0m\u001b[0;34m\u001b[0m\u001b[0m\n\u001b[0;32m----> 2\u001b[0;31m \u001b[0mid\u001b[0m\u001b[0;34m=\u001b[0m\u001b[0mfile\u001b[0m\u001b[0;34m-\u001b[0m\u001b[0mlink\u001b[0m\u001b[0;34m\u001b[0m\u001b[0;34m\u001b[0m\u001b[0m\n\u001b[0m",
      "\u001b[0;31mNameError\u001b[0m: name 'file' is not defined"
     ]
    }
   ],
   "source": [
    "id=\"frb0\"\n",
    "id=file-link"
   ]
  },
  {
   "cell_type": "code",
   "execution_count": 26,
   "metadata": {},
   "outputs": [
    {
     "name": "stdout",
     "output_type": "stream",
     "text": [
      "checking download!\n"
     ]
    },
    {
     "ename": "IndexError",
     "evalue": "list index out of range",
     "output_type": "error",
     "traceback": [
      "\u001b[0;31m---------------------------------------------------------------------------\u001b[0m",
      "\u001b[0;31mIndexError\u001b[0m                                Traceback (most recent call last)",
      "\u001b[0;32m<ipython-input-26-46953b5103de>\u001b[0m in \u001b[0;36m<module>\u001b[0;34m\u001b[0m\n\u001b[1;32m      8\u001b[0m \u001b[0;34m\u001b[0m\u001b[0m\n\u001b[1;32m      9\u001b[0m \u001b[0mbrowser\u001b[0m\u001b[0;34m.\u001b[0m\u001b[0mget\u001b[0m\u001b[0;34m(\u001b[0m\u001b[0;34m\"chrome://downloads/\"\u001b[0m\u001b[0;34m)\u001b[0m\u001b[0;34m\u001b[0m\u001b[0;34m\u001b[0m\u001b[0m\n\u001b[0;32m---> 10\u001b[0;31m \u001b[0mfile_down_link\u001b[0m \u001b[0;34m=\u001b[0m \u001b[0mbrowser\u001b[0m\u001b[0;34m.\u001b[0m\u001b[0mfind_elements\u001b[0m\u001b[0;34m(\u001b[0m\u001b[0mBy\u001b[0m\u001b[0;34m.\u001b[0m\u001b[0mID\u001b[0m\u001b[0;34m,\u001b[0m \u001b[0;34m\"file-link\"\u001b[0m\u001b[0;34m)\u001b[0m\u001b[0;34m[\u001b[0m\u001b[0;36m0\u001b[0m\u001b[0;34m]\u001b[0m\u001b[0;34m\u001b[0m\u001b[0;34m\u001b[0m\u001b[0m\n\u001b[0m\u001b[1;32m     11\u001b[0m \u001b[0mprint\u001b[0m\u001b[0;34m(\u001b[0m\u001b[0mfile_down_link\u001b[0m\u001b[0;34m)\u001b[0m\u001b[0;34m\u001b[0m\u001b[0;34m\u001b[0m\u001b[0m\n",
      "\u001b[0;31mIndexError\u001b[0m: list index out of range"
     ]
    }
   ],
   "source": [
    "# Start the browser and navigate to the URL\n",
    "browser = webdriver.Chrome()\n",
    "browser.get(\"https://ia601800.us.archive.org/zip_dir.php?path=/10/items/gravity-falls-dod-iso.zip&formats=ISO%20IMAGE,ITEM%20TILE,ARCHIVE%20BITTORRENT,METADATA\")\n",
    "\n",
    "time.sleep(2)\n",
    "# Wait for the download to start\n",
    "print(\"checking download!\")\n",
    "\n",
    "browser.get(\"chrome://downloads/\")\n",
    "file_down_link = browser.find_elements(By.ID, \"file-link\")[0]\n",
    "print(file_down_link)\n",
    "\n"
   ]
  },
  {
   "cell_type": "code",
   "execution_count": 106,
   "metadata": {},
   "outputs": [
    {
     "data": {
      "text/plain": [
       "'gravity-falls-dod-iso (1).zip'"
      ]
     },
     "execution_count": 106,
     "metadata": {},
     "output_type": "execute_result"
    }
   ],
   "source": [
    "item = browser.execute_script(\"return document.querySelector('downloads-manager').shadowRoot.querySelector('iron-list').querySelector('downloads-item').shadowRoot.querySelector('#content')\")\n",
    "#print(item.text)\n",
    "item.find_element(By.ID, 'title-area').text"
   ]
  },
  {
   "cell_type": "code",
   "execution_count": 78,
   "metadata": {},
   "outputs": [
    {
     "data": {
      "text/plain": [
       "<selenium.webdriver.remote.shadowroot.ShadowRoot (session=\"a319d41184e025a42238e322a212d9d9\", element=\"54b5d940-8eef-452e-b7fe-53f0415ae37e\")>"
      ]
     },
     "execution_count": 78,
     "metadata": {},
     "output_type": "execute_result"
    }
   ],
   "source": [
    "content = browser.find_element(By.TAG_NAME, 'downloads-manager')\n",
    "shadow_root = content.shadow_root\n",
    "shadow_root"
   ]
  },
  {
   "cell_type": "code",
   "execution_count": 79,
   "metadata": {},
   "outputs": [
    {
     "data": {
      "text/plain": [
       "<selenium.webdriver.remote.shadowroot.ShadowRoot (session=\"a319d41184e025a42238e322a212d9d9\", element=\"54b5d940-8eef-452e-b7fe-53f0415ae37e\")>"
      ]
     },
     "execution_count": 79,
     "metadata": {},
     "output_type": "execute_result"
    }
   ],
   "source": [
    "def select_shadow_element_by_css_selector(selector):\n",
    "  running_script = 'return document.querySelector(\"%s\").shadowRoot' % selector\n",
    "  element = browser.execute_script(running_script)\n",
    "  return element\n",
    "\n",
    "shadow_section = select_shadow_element_by_css_selector(\"downloads-manager\")\n",
    "shadow_section"
   ]
  },
  {
   "cell_type": "code",
   "execution_count": 68,
   "metadata": {},
   "outputs": [
    {
     "data": {
      "text/plain": [
       "<selenium.webdriver.remote.webelement.WebElement (session=\"a319d41184e025a42238e322a212d9d9\", element=\"63fb7c32-8b15-4653-bc00-e3f5f4b874f5\")>"
      ]
     },
     "execution_count": 68,
     "metadata": {},
     "output_type": "execute_result"
    }
   ],
   "source": [
    "content"
   ]
  },
  {
   "cell_type": "code",
   "execution_count": 24,
   "metadata": {},
   "outputs": [
    {
     "ename": "NoSuchElementException",
     "evalue": "Message: no such element: Unable to locate element: {\"method\":\"css selector\",\"selector\":\"[id=\"title-area\"]\"}\n  (Session info: chrome=109.0.5414.119)\nStacktrace:\n0   chromedriver                        0x00000001007c1fa8 chromedriver + 4886440\n1   chromedriver                        0x000000010073f643 chromedriver + 4351555\n2   chromedriver                        0x000000010038db27 chromedriver + 477991\n3   chromedriver                        0x00000001003d276c chromedriver + 759660\n4   chromedriver                        0x00000001003d29c1 chromedriver + 760257\n5   chromedriver                        0x0000000100416204 chromedriver + 1036804\n6   chromedriver                        0x00000001003f85fd chromedriver + 914941\n7   chromedriver                        0x00000001004135fe chromedriver + 1025534\n8   chromedriver                        0x00000001003f83a3 chromedriver + 914339\n9   chromedriver                        0x00000001003c257f chromedriver + 693631\n10  chromedriver                        0x00000001003c3b1e chromedriver + 699166\n11  chromedriver                        0x000000010078eb9e chromedriver + 4676510\n12  chromedriver                        0x000000010079391e chromedriver + 4696350\n13  chromedriver                        0x000000010079b19f chromedriver + 4727199\n14  chromedriver                        0x000000010079481a chromedriver + 4700186\n15  chromedriver                        0x0000000100767a62 chromedriver + 4516450\n16  chromedriver                        0x00000001007b38c8 chromedriver + 4827336\n17  chromedriver                        0x00000001007b3a45 chromedriver + 4827717\n18  chromedriver                        0x00000001007c97ef chromedriver + 4917231\n19  libsystem_pthread.dylib             0x00007ff80aa4b259 _pthread_start + 125\n20  libsystem_pthread.dylib             0x00007ff80aa46c7b thread_start + 15\n",
     "output_type": "error",
     "traceback": [
      "\u001b[0;31m---------------------------------------------------------------------------\u001b[0m",
      "\u001b[0;31mNoSuchElementException\u001b[0m                    Traceback (most recent call last)",
      "\u001b[0;32m<ipython-input-24-b5c164954349>\u001b[0m in \u001b[0;36m<module>\u001b[0;34m\u001b[0m\n\u001b[0;32m----> 1\u001b[0;31m \u001b[0mfile_down_link\u001b[0m \u001b[0;34m=\u001b[0m \u001b[0mbrowser\u001b[0m\u001b[0;34m.\u001b[0m\u001b[0mfind_element\u001b[0m\u001b[0;34m(\u001b[0m\u001b[0mBy\u001b[0m\u001b[0;34m.\u001b[0m\u001b[0mID\u001b[0m\u001b[0;34m,\u001b[0m \u001b[0;34m\"title-area\"\u001b[0m\u001b[0;34m)\u001b[0m\u001b[0;34m\u001b[0m\u001b[0;34m\u001b[0m\u001b[0m\n\u001b[0m\u001b[1;32m      2\u001b[0m \u001b[0mfile_down_link\u001b[0m\u001b[0;34m\u001b[0m\u001b[0;34m\u001b[0m\u001b[0m\n",
      "\u001b[0;32m/opt/anaconda3/lib/python3.8/site-packages/selenium/webdriver/remote/webdriver.py\u001b[0m in \u001b[0;36mfind_element\u001b[0;34m(self, by, value)\u001b[0m\n\u001b[1;32m    828\u001b[0m             \u001b[0mvalue\u001b[0m \u001b[0;34m=\u001b[0m \u001b[0;34mf'[name=\"{value}\"]'\u001b[0m\u001b[0;34m\u001b[0m\u001b[0;34m\u001b[0m\u001b[0m\n\u001b[1;32m    829\u001b[0m \u001b[0;34m\u001b[0m\u001b[0m\n\u001b[0;32m--> 830\u001b[0;31m         \u001b[0;32mreturn\u001b[0m \u001b[0mself\u001b[0m\u001b[0;34m.\u001b[0m\u001b[0mexecute\u001b[0m\u001b[0;34m(\u001b[0m\u001b[0mCommand\u001b[0m\u001b[0;34m.\u001b[0m\u001b[0mFIND_ELEMENT\u001b[0m\u001b[0;34m,\u001b[0m \u001b[0;34m{\u001b[0m\u001b[0;34m\"using\"\u001b[0m\u001b[0;34m:\u001b[0m \u001b[0mby\u001b[0m\u001b[0;34m,\u001b[0m \u001b[0;34m\"value\"\u001b[0m\u001b[0;34m:\u001b[0m \u001b[0mvalue\u001b[0m\u001b[0;34m}\u001b[0m\u001b[0;34m)\u001b[0m\u001b[0;34m[\u001b[0m\u001b[0;34m\"value\"\u001b[0m\u001b[0;34m]\u001b[0m\u001b[0;34m\u001b[0m\u001b[0;34m\u001b[0m\u001b[0m\n\u001b[0m\u001b[1;32m    831\u001b[0m \u001b[0;34m\u001b[0m\u001b[0m\n\u001b[1;32m    832\u001b[0m     \u001b[0;32mdef\u001b[0m \u001b[0mfind_elements\u001b[0m\u001b[0;34m(\u001b[0m\u001b[0mself\u001b[0m\u001b[0;34m,\u001b[0m \u001b[0mby\u001b[0m\u001b[0;34m=\u001b[0m\u001b[0mBy\u001b[0m\u001b[0;34m.\u001b[0m\u001b[0mID\u001b[0m\u001b[0;34m,\u001b[0m \u001b[0mvalue\u001b[0m\u001b[0;34m:\u001b[0m \u001b[0mOptional\u001b[0m\u001b[0;34m[\u001b[0m\u001b[0mstr\u001b[0m\u001b[0;34m]\u001b[0m \u001b[0;34m=\u001b[0m \u001b[0;32mNone\u001b[0m\u001b[0;34m)\u001b[0m \u001b[0;34m->\u001b[0m \u001b[0mList\u001b[0m\u001b[0;34m[\u001b[0m\u001b[0mWebElement\u001b[0m\u001b[0;34m]\u001b[0m\u001b[0;34m:\u001b[0m\u001b[0;34m\u001b[0m\u001b[0;34m\u001b[0m\u001b[0m\n",
      "\u001b[0;32m/opt/anaconda3/lib/python3.8/site-packages/selenium/webdriver/remote/webdriver.py\u001b[0m in \u001b[0;36mexecute\u001b[0;34m(self, driver_command, params)\u001b[0m\n\u001b[1;32m    438\u001b[0m         \u001b[0mresponse\u001b[0m \u001b[0;34m=\u001b[0m \u001b[0mself\u001b[0m\u001b[0;34m.\u001b[0m\u001b[0mcommand_executor\u001b[0m\u001b[0;34m.\u001b[0m\u001b[0mexecute\u001b[0m\u001b[0;34m(\u001b[0m\u001b[0mdriver_command\u001b[0m\u001b[0;34m,\u001b[0m \u001b[0mparams\u001b[0m\u001b[0;34m)\u001b[0m\u001b[0;34m\u001b[0m\u001b[0;34m\u001b[0m\u001b[0m\n\u001b[1;32m    439\u001b[0m         \u001b[0;32mif\u001b[0m \u001b[0mresponse\u001b[0m\u001b[0;34m:\u001b[0m\u001b[0;34m\u001b[0m\u001b[0;34m\u001b[0m\u001b[0m\n\u001b[0;32m--> 440\u001b[0;31m             \u001b[0mself\u001b[0m\u001b[0;34m.\u001b[0m\u001b[0merror_handler\u001b[0m\u001b[0;34m.\u001b[0m\u001b[0mcheck_response\u001b[0m\u001b[0;34m(\u001b[0m\u001b[0mresponse\u001b[0m\u001b[0;34m)\u001b[0m\u001b[0;34m\u001b[0m\u001b[0;34m\u001b[0m\u001b[0m\n\u001b[0m\u001b[1;32m    441\u001b[0m             \u001b[0mresponse\u001b[0m\u001b[0;34m[\u001b[0m\u001b[0;34m\"value\"\u001b[0m\u001b[0;34m]\u001b[0m \u001b[0;34m=\u001b[0m \u001b[0mself\u001b[0m\u001b[0;34m.\u001b[0m\u001b[0m_unwrap_value\u001b[0m\u001b[0;34m(\u001b[0m\u001b[0mresponse\u001b[0m\u001b[0;34m.\u001b[0m\u001b[0mget\u001b[0m\u001b[0;34m(\u001b[0m\u001b[0;34m\"value\"\u001b[0m\u001b[0;34m,\u001b[0m \u001b[0;32mNone\u001b[0m\u001b[0;34m)\u001b[0m\u001b[0;34m)\u001b[0m\u001b[0;34m\u001b[0m\u001b[0;34m\u001b[0m\u001b[0m\n\u001b[1;32m    442\u001b[0m             \u001b[0;32mreturn\u001b[0m \u001b[0mresponse\u001b[0m\u001b[0;34m\u001b[0m\u001b[0;34m\u001b[0m\u001b[0m\n",
      "\u001b[0;32m/opt/anaconda3/lib/python3.8/site-packages/selenium/webdriver/remote/errorhandler.py\u001b[0m in \u001b[0;36mcheck_response\u001b[0;34m(self, response)\u001b[0m\n\u001b[1;32m    243\u001b[0m                 \u001b[0malert_text\u001b[0m \u001b[0;34m=\u001b[0m \u001b[0mvalue\u001b[0m\u001b[0;34m[\u001b[0m\u001b[0;34m\"alert\"\u001b[0m\u001b[0;34m]\u001b[0m\u001b[0;34m.\u001b[0m\u001b[0mget\u001b[0m\u001b[0;34m(\u001b[0m\u001b[0;34m\"text\"\u001b[0m\u001b[0;34m)\u001b[0m\u001b[0;34m\u001b[0m\u001b[0;34m\u001b[0m\u001b[0m\n\u001b[1;32m    244\u001b[0m             \u001b[0;32mraise\u001b[0m \u001b[0mexception_class\u001b[0m\u001b[0;34m(\u001b[0m\u001b[0mmessage\u001b[0m\u001b[0;34m,\u001b[0m \u001b[0mscreen\u001b[0m\u001b[0;34m,\u001b[0m \u001b[0mstacktrace\u001b[0m\u001b[0;34m,\u001b[0m \u001b[0malert_text\u001b[0m\u001b[0;34m)\u001b[0m  \u001b[0;31m# type: ignore[call-arg]  # mypy is not smart enough here\u001b[0m\u001b[0;34m\u001b[0m\u001b[0;34m\u001b[0m\u001b[0m\n\u001b[0;32m--> 245\u001b[0;31m         \u001b[0;32mraise\u001b[0m \u001b[0mexception_class\u001b[0m\u001b[0;34m(\u001b[0m\u001b[0mmessage\u001b[0m\u001b[0;34m,\u001b[0m \u001b[0mscreen\u001b[0m\u001b[0;34m,\u001b[0m \u001b[0mstacktrace\u001b[0m\u001b[0;34m)\u001b[0m\u001b[0;34m\u001b[0m\u001b[0;34m\u001b[0m\u001b[0m\n\u001b[0m",
      "\u001b[0;31mNoSuchElementException\u001b[0m: Message: no such element: Unable to locate element: {\"method\":\"css selector\",\"selector\":\"[id=\"title-area\"]\"}\n  (Session info: chrome=109.0.5414.119)\nStacktrace:\n0   chromedriver                        0x00000001007c1fa8 chromedriver + 4886440\n1   chromedriver                        0x000000010073f643 chromedriver + 4351555\n2   chromedriver                        0x000000010038db27 chromedriver + 477991\n3   chromedriver                        0x00000001003d276c chromedriver + 759660\n4   chromedriver                        0x00000001003d29c1 chromedriver + 760257\n5   chromedriver                        0x0000000100416204 chromedriver + 1036804\n6   chromedriver                        0x00000001003f85fd chromedriver + 914941\n7   chromedriver                        0x00000001004135fe chromedriver + 1025534\n8   chromedriver                        0x00000001003f83a3 chromedriver + 914339\n9   chromedriver                        0x00000001003c257f chromedriver + 693631\n10  chromedriver                        0x00000001003c3b1e chromedriver + 699166\n11  chromedriver                        0x000000010078eb9e chromedriver + 4676510\n12  chromedriver                        0x000000010079391e chromedriver + 4696350\n13  chromedriver                        0x000000010079b19f chromedriver + 4727199\n14  chromedriver                        0x000000010079481a chromedriver + 4700186\n15  chromedriver                        0x0000000100767a62 chromedriver + 4516450\n16  chromedriver                        0x00000001007b38c8 chromedriver + 4827336\n17  chromedriver                        0x00000001007b3a45 chromedriver + 4827717\n18  chromedriver                        0x00000001007c97ef chromedriver + 4917231\n19  libsystem_pthread.dylib             0x00007ff80aa4b259 _pthread_start + 125\n20  libsystem_pthread.dylib             0x00007ff80aa46c7b thread_start + 15\n"
     ]
    }
   ],
   "source": [
    "file_down_link = browser.find_element(By.ID, \"title-area\")\n",
    "file_down_link"
   ]
  },
  {
   "cell_type": "code",
   "execution_count": 25,
   "metadata": {},
   "outputs": [],
   "source": [
    "browser.quit()"
   ]
  },
  {
   "cell_type": "code",
   "execution_count": null,
   "metadata": {},
   "outputs": [],
   "source": [
    "# Check for the download's progress\n",
    "\n",
    "downloads_dir = browser.execute_script(\"return window.chrome.downloads.search({})[0].filename;\", {})\n",
    "while True:\n",
    "    download_status = browser.execute_script(\"return window.chrome.downloads.search({})[0].state;\", {})\n",
    "    if download_status == 'complete':\n",
    "        print(f\"Download of {downloads_dir} is complete\")\n",
    "        break\n",
    "    else:\n",
    "        print(f\"Download of {downloads_dir} is in progress...\")\n",
    "        time.sleep(3)\n",
    "\n",
    "# Close the browser\n",
    "browser.quit()\n"
   ]
  }
 ],
 "metadata": {
  "kernelspec": {
   "display_name": "Python 3",
   "language": "python",
   "name": "python3"
  },
  "language_info": {
   "codemirror_mode": {
    "name": "ipython",
    "version": 3
   },
   "file_extension": ".py",
   "mimetype": "text/x-python",
   "name": "python",
   "nbconvert_exporter": "python",
   "pygments_lexer": "ipython3",
   "version": "3.8.5"
  },
  "orig_nbformat": 4,
  "vscode": {
   "interpreter": {
    "hash": "40d3a090f54c6569ab1632332b64b2c03c39dcf918b08424e98f38b5ae0af88f"
   }
  }
 },
 "nbformat": 4,
 "nbformat_minor": 2
}
