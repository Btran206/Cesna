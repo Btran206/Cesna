{
 "cells": [
  {
   "cell_type": "code",
   "execution_count": 1,
   "metadata": {},
   "outputs": [],
   "source": [
    "import requests\n",
    "import json\n",
    "import pandas as pd\n",
    "import time\n",
    "import matplotlib.pyplot as plt\n",
    "import numpy as np\n",
    "import networkx as nx\n",
    "import itertools\n",
    "from itertools import product\n",
    "import seaborn as sns\n",
    "from scipy.stats import bernoulli\n",
    "from scipy.stats import multivariate_normal\n",
    "from random import random\n",
    "import copy"
   ]
  },
  {
   "cell_type": "code",
   "execution_count": 2,
   "metadata": {},
   "outputs": [],
   "source": [
    "df = pd.read_csv('../data/spotify_dataset.csv', usecols=range(4), lineterminator='\\n', header=0)"
   ]
  },
  {
   "cell_type": "code",
   "execution_count": 3,
   "metadata": {},
   "outputs": [],
   "source": [
    "df.columns = [x.replace('\"', '').lstrip() for x in df.columns]"
   ]
  },
  {
   "cell_type": "code",
   "execution_count": 4,
   "metadata": {},
   "outputs": [
    {
     "name": "stdout",
     "output_type": "stream",
     "text": [
      "Number of Playlists: 161530\n",
      "Number of Artists: 290002\n"
     ]
    }
   ],
   "source": [
    "playlists = df['playlistname'].unique()\n",
    "print('Number of Playlists:', len(playlists))\n",
    "print('Number of Artists:', len(df['artistname'].unique()))"
   ]
  },
  {
   "cell_type": "markdown",
   "metadata": {},
   "source": [
    "#### Problem:\n",
    "- Networkx takes too much time to load up a graph with all the data <br>\n",
    "- In ~5 min we can retrieve 2000 artist genres\n"
   ]
  },
  {
   "cell_type": "markdown",
   "metadata": {},
   "source": [
    "#### Potential Solution:\n",
    "- Sample 1,000 playlists\n",
    "- See if there is a sufficient amount of artists and playlist appearances"
   ]
  },
  {
   "cell_type": "code",
   "execution_count": 5,
   "metadata": {},
   "outputs": [],
   "source": [
    "np.random.seed(0)\n",
    "sample_size = 500\n",
    "sample_playlists = np.random.choice(playlists, sample_size, replace=False)\n",
    "sampled_df = df[df['playlistname'].isin(sample_playlists)]"
   ]
  },
  {
   "cell_type": "code",
   "execution_count": 6,
   "metadata": {},
   "outputs": [
    {
     "name": "stdout",
     "output_type": "stream",
     "text": [
      "Number of songs in sample: 33226\n",
      "Number of Artists: 6723\n"
     ]
    }
   ],
   "source": [
    "print('Number of songs in sample:', len(sampled_df))\n",
    "print('Number of Artists:', len(sampled_df['artistname'].unique()))"
   ]
  },
  {
   "cell_type": "code",
   "execution_count": 7,
   "metadata": {},
   "outputs": [
    {
     "data": {
      "text/html": [
       "<div>\n",
       "<style scoped>\n",
       "    .dataframe tbody tr th:only-of-type {\n",
       "        vertical-align: middle;\n",
       "    }\n",
       "\n",
       "    .dataframe tbody tr th {\n",
       "        vertical-align: top;\n",
       "    }\n",
       "\n",
       "    .dataframe thead th {\n",
       "        text-align: right;\n",
       "    }\n",
       "</style>\n",
       "<table border=\"1\" class=\"dataframe\">\n",
       "  <thead>\n",
       "    <tr style=\"text-align: right;\">\n",
       "      <th></th>\n",
       "      <th>trackname</th>\n",
       "      <th>playlistname</th>\n",
       "    </tr>\n",
       "    <tr>\n",
       "      <th>artistname</th>\n",
       "      <th></th>\n",
       "      <th></th>\n",
       "    </tr>\n",
       "  </thead>\n",
       "  <tbody>\n",
       "    <tr>\n",
       "      <th>!!!</th>\n",
       "      <td>1</td>\n",
       "      <td>1</td>\n",
       "    </tr>\n",
       "    <tr>\n",
       "      <th>047</th>\n",
       "      <td>1</td>\n",
       "      <td>1</td>\n",
       "    </tr>\n",
       "    <tr>\n",
       "      <th>10 Years</th>\n",
       "      <td>1</td>\n",
       "      <td>1</td>\n",
       "    </tr>\n",
       "    <tr>\n",
       "      <th>10cc</th>\n",
       "      <td>1</td>\n",
       "      <td>1</td>\n",
       "    </tr>\n",
       "    <tr>\n",
       "      <th>112</th>\n",
       "      <td>1</td>\n",
       "      <td>1</td>\n",
       "    </tr>\n",
       "    <tr>\n",
       "      <th>...</th>\n",
       "      <td>...</td>\n",
       "      <td>...</td>\n",
       "    </tr>\n",
       "    <tr>\n",
       "      <th>David Grisman</th>\n",
       "      <td>289</td>\n",
       "      <td>1</td>\n",
       "    </tr>\n",
       "    <tr>\n",
       "      <th>Jethro Tull</th>\n",
       "      <td>323</td>\n",
       "      <td>4</td>\n",
       "    </tr>\n",
       "    <tr>\n",
       "      <th>Neil Young</th>\n",
       "      <td>371</td>\n",
       "      <td>4</td>\n",
       "    </tr>\n",
       "    <tr>\n",
       "      <th>Animal Collective</th>\n",
       "      <td>387</td>\n",
       "      <td>3</td>\n",
       "    </tr>\n",
       "    <tr>\n",
       "      <th>Tony Bennett</th>\n",
       "      <td>563</td>\n",
       "      <td>4</td>\n",
       "    </tr>\n",
       "  </tbody>\n",
       "</table>\n",
       "<p>6722 rows × 2 columns</p>\n",
       "</div>"
      ],
      "text/plain": [
       "                   trackname  playlistname\n",
       "artistname                                \n",
       "!!!                        1             1\n",
       "047                        1             1\n",
       "10 Years                   1             1\n",
       "10cc                       1             1\n",
       "112                        1             1\n",
       "...                      ...           ...\n",
       "David Grisman            289             1\n",
       "Jethro Tull              323             4\n",
       "Neil Young               371             4\n",
       "Animal Collective        387             3\n",
       "Tony Bennett             563             4\n",
       "\n",
       "[6722 rows x 2 columns]"
      ]
     },
     "execution_count": 7,
     "metadata": {},
     "output_type": "execute_result"
    }
   ],
   "source": [
    "appearances = sampled_df.groupby('artistname').agg({'trackname':'count', 'playlistname':lambda x: len(x.unique())})\n",
    "appearances.sort_values(by=['trackname', 'playlistname'])"
   ]
  },
  {
   "cell_type": "markdown",
   "metadata": {},
   "source": [
    "- There are some artists that appear on an insignificant amount of playlists, define this to be anything less than 10"
   ]
  },
  {
   "cell_type": "code",
   "execution_count": 8,
   "metadata": {},
   "outputs": [
    {
     "name": "stdout",
     "output_type": "stream",
     "text": [
      "# of artists on >= 10 playlists (sample): 55\n"
     ]
    }
   ],
   "source": [
    "artists = appearances[appearances['playlistname']>=10].index\n",
    "print('# of artists on >= 10 playlists (sample):', len(artists))"
   ]
  },
  {
   "cell_type": "code",
   "execution_count": 9,
   "metadata": {},
   "outputs": [
    {
     "data": {
      "text/html": [
       "<div>\n",
       "<style scoped>\n",
       "    .dataframe tbody tr th:only-of-type {\n",
       "        vertical-align: middle;\n",
       "    }\n",
       "\n",
       "    .dataframe tbody tr th {\n",
       "        vertical-align: top;\n",
       "    }\n",
       "\n",
       "    .dataframe thead th {\n",
       "        text-align: right;\n",
       "    }\n",
       "</style>\n",
       "<table border=\"1\" class=\"dataframe\">\n",
       "  <thead>\n",
       "    <tr style=\"text-align: right;\">\n",
       "      <th></th>\n",
       "      <th>user_id</th>\n",
       "      <th>artistname</th>\n",
       "      <th>trackname</th>\n",
       "      <th>playlistname</th>\n",
       "    </tr>\n",
       "  </thead>\n",
       "  <tbody>\n",
       "    <tr>\n",
       "      <th>85483</th>\n",
       "      <td>424678a7d04868568c9f95863a901d88</td>\n",
       "      <td>Katy Perry</td>\n",
       "      <td>Firework</td>\n",
       "      <td>heartlifting</td>\n",
       "    </tr>\n",
       "    <tr>\n",
       "      <th>85484</th>\n",
       "      <td>424678a7d04868568c9f95863a901d88</td>\n",
       "      <td>Daft Punk</td>\n",
       "      <td>Get Lucky - Radio Edit</td>\n",
       "      <td>heartlifting</td>\n",
       "    </tr>\n",
       "    <tr>\n",
       "      <th>110332</th>\n",
       "      <td>26916a44c7af854db436d562704b88a1</td>\n",
       "      <td>Queen</td>\n",
       "      <td>Somebody To Love (Live In Montreal)</td>\n",
       "      <td>Don Diablo</td>\n",
       "    </tr>\n",
       "    <tr>\n",
       "      <th>156728</th>\n",
       "      <td>ea0e4bd5eb86a066c6ff6a275c253704</td>\n",
       "      <td>David Guetta</td>\n",
       "      <td>Bad (feat. Vassy) - Radio Edit</td>\n",
       "      <td>David Guetta — Listen (Deluxe)</td>\n",
       "    </tr>\n",
       "    <tr>\n",
       "      <th>156729</th>\n",
       "      <td>ea0e4bd5eb86a066c6ff6a275c253704</td>\n",
       "      <td>David Guetta</td>\n",
       "      <td>Bang my Head (feat. Sia)</td>\n",
       "      <td>David Guetta — Listen (Deluxe)</td>\n",
       "    </tr>\n",
       "    <tr>\n",
       "      <th>156730</th>\n",
       "      <td>ea0e4bd5eb86a066c6ff6a275c253704</td>\n",
       "      <td>David Guetta</td>\n",
       "      <td>Dangerous (feat. Sam Martin)</td>\n",
       "      <td>David Guetta — Listen (Deluxe)</td>\n",
       "    </tr>\n",
       "    <tr>\n",
       "      <th>156731</th>\n",
       "      <td>ea0e4bd5eb86a066c6ff6a275c253704</td>\n",
       "      <td>David Guetta</td>\n",
       "      <td>Dangerous (feat. Sam Martin) - Robin Schulz Re...</td>\n",
       "      <td>David Guetta — Listen (Deluxe)</td>\n",
       "    </tr>\n",
       "    <tr>\n",
       "      <th>156732</th>\n",
       "      <td>ea0e4bd5eb86a066c6ff6a275c253704</td>\n",
       "      <td>David Guetta</td>\n",
       "      <td>Goodbye Friend (feat. The Script)</td>\n",
       "      <td>David Guetta — Listen (Deluxe)</td>\n",
       "    </tr>\n",
       "    <tr>\n",
       "      <th>156733</th>\n",
       "      <td>ea0e4bd5eb86a066c6ff6a275c253704</td>\n",
       "      <td>David Guetta</td>\n",
       "      <td>Hey Mama (feat. Nicki Minaj &amp; Afrojack)</td>\n",
       "      <td>David Guetta — Listen (Deluxe)</td>\n",
       "    </tr>\n",
       "    <tr>\n",
       "      <th>156734</th>\n",
       "      <td>ea0e4bd5eb86a066c6ff6a275c253704</td>\n",
       "      <td>David Guetta</td>\n",
       "      <td>I'll Keep Loving you (feat. Birdy &amp; Jaymes Young)</td>\n",
       "      <td>David Guetta — Listen (Deluxe)</td>\n",
       "    </tr>\n",
       "  </tbody>\n",
       "</table>\n",
       "</div>"
      ],
      "text/plain": [
       "                                 user_id    artistname  \\\n",
       "85483   424678a7d04868568c9f95863a901d88    Katy Perry   \n",
       "85484   424678a7d04868568c9f95863a901d88     Daft Punk   \n",
       "110332  26916a44c7af854db436d562704b88a1         Queen   \n",
       "156728  ea0e4bd5eb86a066c6ff6a275c253704  David Guetta   \n",
       "156729  ea0e4bd5eb86a066c6ff6a275c253704  David Guetta   \n",
       "156730  ea0e4bd5eb86a066c6ff6a275c253704  David Guetta   \n",
       "156731  ea0e4bd5eb86a066c6ff6a275c253704  David Guetta   \n",
       "156732  ea0e4bd5eb86a066c6ff6a275c253704  David Guetta   \n",
       "156733  ea0e4bd5eb86a066c6ff6a275c253704  David Guetta   \n",
       "156734  ea0e4bd5eb86a066c6ff6a275c253704  David Guetta   \n",
       "\n",
       "                                                trackname  \\\n",
       "85483                                            Firework   \n",
       "85484                              Get Lucky - Radio Edit   \n",
       "110332                Somebody To Love (Live In Montreal)   \n",
       "156728                     Bad (feat. Vassy) - Radio Edit   \n",
       "156729                           Bang my Head (feat. Sia)   \n",
       "156730                       Dangerous (feat. Sam Martin)   \n",
       "156731  Dangerous (feat. Sam Martin) - Robin Schulz Re...   \n",
       "156732                  Goodbye Friend (feat. The Script)   \n",
       "156733            Hey Mama (feat. Nicki Minaj & Afrojack)   \n",
       "156734  I'll Keep Loving you (feat. Birdy & Jaymes Young)   \n",
       "\n",
       "                          playlistname  \n",
       "85483                     heartlifting  \n",
       "85484                     heartlifting  \n",
       "110332                      Don Diablo  \n",
       "156728  David Guetta — Listen (Deluxe)  \n",
       "156729  David Guetta — Listen (Deluxe)  \n",
       "156730  David Guetta — Listen (Deluxe)  \n",
       "156731  David Guetta — Listen (Deluxe)  \n",
       "156732  David Guetta — Listen (Deluxe)  \n",
       "156733  David Guetta — Listen (Deluxe)  \n",
       "156734  David Guetta — Listen (Deluxe)  "
      ]
     },
     "execution_count": 9,
     "metadata": {},
     "output_type": "execute_result"
    }
   ],
   "source": [
    "df1 = sampled_df[sampled_df['artistname'].isin(artists)]\n",
    "df1.head(10)"
   ]
  },
  {
   "cell_type": "markdown",
   "metadata": {},
   "source": [
    "- Only take playlists that have more than 1 artist (otherwise there's no edge)"
   ]
  },
  {
   "cell_type": "code",
   "execution_count": 10,
   "metadata": {},
   "outputs": [],
   "source": [
    "df1_grped = df1.groupby('playlistname').agg({'artistname':lambda x: len(x.unique())})\n",
    "playlists = df1_grped[df1_grped['artistname'] > 1].index"
   ]
  },
  {
   "cell_type": "code",
   "execution_count": 11,
   "metadata": {},
   "outputs": [
    {
     "data": {
      "text/html": [
       "<div>\n",
       "<style scoped>\n",
       "    .dataframe tbody tr th:only-of-type {\n",
       "        vertical-align: middle;\n",
       "    }\n",
       "\n",
       "    .dataframe tbody tr th {\n",
       "        vertical-align: top;\n",
       "    }\n",
       "\n",
       "    .dataframe thead th {\n",
       "        text-align: right;\n",
       "    }\n",
       "</style>\n",
       "<table border=\"1\" class=\"dataframe\">\n",
       "  <thead>\n",
       "    <tr style=\"text-align: right;\">\n",
       "      <th></th>\n",
       "      <th>user_id</th>\n",
       "      <th>artistname</th>\n",
       "      <th>trackname</th>\n",
       "      <th>playlistname</th>\n",
       "    </tr>\n",
       "  </thead>\n",
       "  <tbody>\n",
       "    <tr>\n",
       "      <th>85483</th>\n",
       "      <td>424678a7d04868568c9f95863a901d88</td>\n",
       "      <td>Katy Perry</td>\n",
       "      <td>Firework</td>\n",
       "      <td>heartlifting</td>\n",
       "    </tr>\n",
       "    <tr>\n",
       "      <th>85484</th>\n",
       "      <td>424678a7d04868568c9f95863a901d88</td>\n",
       "      <td>Daft Punk</td>\n",
       "      <td>Get Lucky - Radio Edit</td>\n",
       "      <td>heartlifting</td>\n",
       "    </tr>\n",
       "    <tr>\n",
       "      <th>110332</th>\n",
       "      <td>26916a44c7af854db436d562704b88a1</td>\n",
       "      <td>Queen</td>\n",
       "      <td>Somebody To Love (Live In Montreal)</td>\n",
       "      <td>Don Diablo</td>\n",
       "    </tr>\n",
       "    <tr>\n",
       "      <th>200335</th>\n",
       "      <td>851f4dce324bc81546ccde8a360db07f</td>\n",
       "      <td>Arcade Fire</td>\n",
       "      <td>Keep the Car Running</td>\n",
       "      <td>run</td>\n",
       "    </tr>\n",
       "    <tr>\n",
       "      <th>233840</th>\n",
       "      <td>47aa0a0b2b0842243da613ee369d8c59</td>\n",
       "      <td>David Guetta</td>\n",
       "      <td>Blast off</td>\n",
       "      <td>Various Artists — Furious 7: Original Motion P...</td>\n",
       "    </tr>\n",
       "    <tr>\n",
       "      <th>233841</th>\n",
       "      <td>47aa0a0b2b0842243da613ee369d8c59</td>\n",
       "      <td>Flo Rida</td>\n",
       "      <td>GDFR (feat. Sage The Gemini and Lookas) - Nood...</td>\n",
       "      <td>Various Artists — Furious 7: Original Motion P...</td>\n",
       "    </tr>\n",
       "    <tr>\n",
       "      <th>233843</th>\n",
       "      <td>47aa0a0b2b0842243da613ee369d8c59</td>\n",
       "      <td>Wiz Khalifa</td>\n",
       "      <td>Go Hard or Go Home</td>\n",
       "      <td>Various Artists — Furious 7: Original Motion P...</td>\n",
       "    </tr>\n",
       "    <tr>\n",
       "      <th>233848</th>\n",
       "      <td>47aa0a0b2b0842243da613ee369d8c59</td>\n",
       "      <td>T.I.</td>\n",
       "      <td>Off-set</td>\n",
       "      <td>Various Artists — Furious 7: Original Motion P...</td>\n",
       "    </tr>\n",
       "    <tr>\n",
       "      <th>233851</th>\n",
       "      <td>47aa0a0b2b0842243da613ee369d8c59</td>\n",
       "      <td>Wiz Khalifa</td>\n",
       "      <td>See You Again (feat. Charlie Puth)</td>\n",
       "      <td>Various Artists — Furious 7: Original Motion P...</td>\n",
       "    </tr>\n",
       "    <tr>\n",
       "      <th>354684</th>\n",
       "      <td>9153ee804f67f9a47513c310e8d57420</td>\n",
       "      <td>Avicii</td>\n",
       "      <td>Superlove</td>\n",
       "      <td>Bike</td>\n",
       "    </tr>\n",
       "  </tbody>\n",
       "</table>\n",
       "</div>"
      ],
      "text/plain": [
       "                                 user_id    artistname  \\\n",
       "85483   424678a7d04868568c9f95863a901d88    Katy Perry   \n",
       "85484   424678a7d04868568c9f95863a901d88     Daft Punk   \n",
       "110332  26916a44c7af854db436d562704b88a1         Queen   \n",
       "200335  851f4dce324bc81546ccde8a360db07f   Arcade Fire   \n",
       "233840  47aa0a0b2b0842243da613ee369d8c59  David Guetta   \n",
       "233841  47aa0a0b2b0842243da613ee369d8c59      Flo Rida   \n",
       "233843  47aa0a0b2b0842243da613ee369d8c59   Wiz Khalifa   \n",
       "233848  47aa0a0b2b0842243da613ee369d8c59          T.I.   \n",
       "233851  47aa0a0b2b0842243da613ee369d8c59   Wiz Khalifa   \n",
       "354684  9153ee804f67f9a47513c310e8d57420        Avicii   \n",
       "\n",
       "                                                trackname  \\\n",
       "85483                                            Firework   \n",
       "85484                              Get Lucky - Radio Edit   \n",
       "110332                Somebody To Love (Live In Montreal)   \n",
       "200335                               Keep the Car Running   \n",
       "233840                                          Blast off   \n",
       "233841  GDFR (feat. Sage The Gemini and Lookas) - Nood...   \n",
       "233843                                 Go Hard or Go Home   \n",
       "233848                                            Off-set   \n",
       "233851                 See You Again (feat. Charlie Puth)   \n",
       "354684                                          Superlove   \n",
       "\n",
       "                                             playlistname  \n",
       "85483                                        heartlifting  \n",
       "85484                                        heartlifting  \n",
       "110332                                         Don Diablo  \n",
       "200335                                                run  \n",
       "233840  Various Artists — Furious 7: Original Motion P...  \n",
       "233841  Various Artists — Furious 7: Original Motion P...  \n",
       "233843  Various Artists — Furious 7: Original Motion P...  \n",
       "233848  Various Artists — Furious 7: Original Motion P...  \n",
       "233851  Various Artists — Furious 7: Original Motion P...  \n",
       "354684                                               Bike  "
      ]
     },
     "execution_count": 11,
     "metadata": {},
     "output_type": "execute_result"
    }
   ],
   "source": [
    "df2 = df1[df1['playlistname'].isin(playlists)]\n",
    "df2.head(10)"
   ]
  },
  {
   "cell_type": "code",
   "execution_count": 12,
   "metadata": {},
   "outputs": [
    {
     "data": {
      "text/html": [
       "<div>\n",
       "<style scoped>\n",
       "    .dataframe tbody tr th:only-of-type {\n",
       "        vertical-align: middle;\n",
       "    }\n",
       "\n",
       "    .dataframe tbody tr th {\n",
       "        vertical-align: top;\n",
       "    }\n",
       "\n",
       "    .dataframe thead th {\n",
       "        text-align: right;\n",
       "    }\n",
       "</style>\n",
       "<table border=\"1\" class=\"dataframe\">\n",
       "  <thead>\n",
       "    <tr style=\"text-align: right;\">\n",
       "      <th></th>\n",
       "      <th>artistname</th>\n",
       "      <th>playlistname</th>\n",
       "    </tr>\n",
       "  </thead>\n",
       "  <tbody>\n",
       "    <tr>\n",
       "      <th>0</th>\n",
       "      <td>!!!</td>\n",
       "      <td>1</td>\n",
       "    </tr>\n",
       "    <tr>\n",
       "      <th>1</th>\n",
       "      <td>047</td>\n",
       "      <td>1</td>\n",
       "    </tr>\n",
       "    <tr>\n",
       "      <th>2</th>\n",
       "      <td>10 Ft. Ganja Plant</td>\n",
       "      <td>1</td>\n",
       "    </tr>\n",
       "    <tr>\n",
       "      <th>3</th>\n",
       "      <td>10 Years</td>\n",
       "      <td>1</td>\n",
       "    </tr>\n",
       "    <tr>\n",
       "      <th>4</th>\n",
       "      <td>10cc</td>\n",
       "      <td>1</td>\n",
       "    </tr>\n",
       "    <tr>\n",
       "      <th>5</th>\n",
       "      <td>112</td>\n",
       "      <td>1</td>\n",
       "    </tr>\n",
       "    <tr>\n",
       "      <th>6</th>\n",
       "      <td>12 Stones</td>\n",
       "      <td>1</td>\n",
       "    </tr>\n",
       "    <tr>\n",
       "      <th>7</th>\n",
       "      <td>1349</td>\n",
       "      <td>1</td>\n",
       "    </tr>\n",
       "    <tr>\n",
       "      <th>8</th>\n",
       "      <td>1910 Fruitgum Company</td>\n",
       "      <td>1</td>\n",
       "    </tr>\n",
       "    <tr>\n",
       "      <th>9</th>\n",
       "      <td>1999</td>\n",
       "      <td>1</td>\n",
       "    </tr>\n",
       "  </tbody>\n",
       "</table>\n",
       "</div>"
      ],
      "text/plain": [
       "              artistname  playlistname\n",
       "0                    !!!             1\n",
       "1                    047             1\n",
       "2     10 Ft. Ganja Plant             1\n",
       "3               10 Years             1\n",
       "4                   10cc             1\n",
       "5                    112             1\n",
       "6              12 Stones             1\n",
       "7                   1349             1\n",
       "8  1910 Fruitgum Company             1\n",
       "9                   1999             1"
      ]
     },
     "execution_count": 12,
     "metadata": {},
     "output_type": "execute_result"
    }
   ],
   "source": [
    "unq_play = sampled_df.groupby(['artistname', 'playlistname']).count().reset_index().groupby('artistname').count()[['playlistname']].reset_index()\n",
    "# unq_play = unq_play.groupby('playlistname').count()\n",
    "unq_play.head(10)\n"
   ]
  },
  {
   "cell_type": "code",
   "execution_count": 13,
   "metadata": {},
   "outputs": [
    {
     "data": {
      "text/plain": [
       "[Text(0.5, 0, 'frequency'), Text(0.5, 1.0, 'Top 10 artist frequencies')]"
      ]
     },
     "execution_count": 13,
     "metadata": {},
     "output_type": "execute_result"
    },
    {
     "data": {
      "image/png": "[encoded data removed]",
      "text/plain": [
       "<Figure size 432x288 with 1 Axes>"
      ]
     },
     "metadata": {
      "needs_background": "light"
     },
     "output_type": "display_data"
    }
   ],
   "source": [
    "top_10 = unq_play.sort_values(by = 'playlistname', ascending = False)[:10]\n",
    "f, ax = plt.subplots()\n",
    "sns.set_color_codes(\"pastel\")\n",
    "sns.barplot(y=\"artistname\", x=\"playlistname\", data=top_10, orient = 'h', color = '#1f77b4')\n",
    "ax.set(xlabel = 'frequency', title = 'Top 10 artist frequencies')"
   ]
  },
  {
   "cell_type": "code",
   "execution_count": 14,
   "metadata": {},
   "outputs": [
    {
     "data": {
      "image/png": "[encoded data removed]",
      "text/plain": [
       "<Figure size 432x288 with 1 Axes>"
      ]
     },
     "metadata": {
      "needs_background": "light"
     },
     "output_type": "display_data"
    }
   ],
   "source": [
    "plt.hist(unq_play[(unq_play['playlistname'] > 1)]['playlistname'], bins=10)\n",
    "plt.xlabel('Distinct Num of Playlists')\n",
    "plt.ylabel('Freq of Artists')\n",
    "plt.title('Total Playlist Appearances per Artist')\n",
    "plt.savefig('playlistapp')"
   ]
  },
  {
   "cell_type": "code",
   "execution_count": 15,
   "metadata": {},
   "outputs": [],
   "source": [
    "# same def as quarter 1\n",
    "def read_edge(gph, n0, n1):\n",
    "    if gph.has_edge(n0, n1):\n",
    "        gph[n0][n1]['weight'] +=1\n",
    "        return gph[n0][n1]['weight']\n",
    "    else:\n",
    "        gph.add_edge(n0, n1, weight=1)\n",
    "        return 1"
   ]
  },
  {
   "cell_type": "code",
   "execution_count": 16,
   "metadata": {},
   "outputs": [
    {
     "name": "stdout",
     "output_type": "stream",
     "text": [
      "CPU times: user 24.8 ms, sys: 1.76 ms, total: 26.6 ms\n",
      "Wall time: 26.1 ms\n"
     ]
    }
   ],
   "source": [
    "%%time\n",
    "G = nx.Graph()\n",
    "# if not unique, could weight the number of times the artist appears in that playlist\n",
    "df2_grp = df2.groupby('playlistname').agg({'artistname': lambda x: (x).unique()})\n",
    "\n",
    "for i in range(len(df2_grp)):\n",
    "    \n",
    "    for a in (df2_grp.iloc[i]):\n",
    "        for a1, a2 in itertools.combinations(a, 2):\n",
    "            read_edge(G, a1, a2)\n"
   ]
  },
  {
   "cell_type": "code",
   "execution_count": 17,
   "metadata": {},
   "outputs": [],
   "source": [
    "# threshold = 1\n",
    "# long_edges = list(filter(lambda e: e[2] <= threshold, (e for e in G.edges.data('weight'))))\n",
    "# G.remove_edges_from(long_edges)"
   ]
  },
  {
   "cell_type": "code",
   "execution_count": 18,
   "metadata": {},
   "outputs": [
    {
     "name": "stdout",
     "output_type": "stream",
     "text": [
      "CPU times: user 155 ms, sys: 23.2 ms, total: 179 ms\n",
      "Wall time: 79.5 ms\n"
     ]
    },
    {
     "data": {
      "image/png": "[encoded data removed]",
      "text/plain": [
       "<Figure size 432x288 with 1 Axes>"
      ]
     },
     "metadata": {},
     "output_type": "display_data"
    }
   ],
   "source": [
    "%%time\n",
    "nx.draw(G, node_size=50)\n"
   ]
  },
  {
   "cell_type": "code",
   "execution_count": 19,
   "metadata": {},
   "outputs": [],
   "source": [
    "# # [n for n in G.neighbors]\n",
    "# neighbors = []\n",
    "# for i in G.nodes:\n",
    "#     count = 0\n",
    "#     for k in G.neighbors(i):\n",
    "#         count += 1\n",
    "#     neighbors.append(count)\n",
    "# neigh_df = pd.DataFrame(G.nodes)\n",
    "# neigh_df['neighbors'] = neighbors\n",
    "# neigh_df\n",
    "# plt.hist(neigh_df['neighbors'])\n",
    "# plt.xlabel('Number of Neighbors')\n",
    "# plt.ylabel('Node Count')\n",
    "# plt.title('Node Freq of Neighbor Count')\n",
    "# plt.savefig('node_freq')"
   ]
  },
  {
   "cell_type": "code",
   "execution_count": 20,
   "metadata": {},
   "outputs": [],
   "source": [
    "weight_dict = {}\n",
    "node_weights = nx.get_edge_attributes(G, \"weight\")\n",
    "for i in node_weights:\n",
    "    if 'Justin Timberlake' in i:\n",
    "        weight_dict[i] = node_weights[i]"
   ]
  },
  {
   "cell_type": "code",
   "execution_count": 21,
   "metadata": {},
   "outputs": [
    {
     "data": {
      "text/plain": [
       "[(('Maroon 5', 'Justin Timberlake'), 7),\n",
       " (('Justin Timberlake', 'JAY Z'), 7),\n",
       " (('Justin Timberlake', 'Katy Perry'), 6),\n",
       " (('Beyoncé', 'Justin Timberlake'), 5),\n",
       " (('Pitbull', 'Justin Timberlake'), 5),\n",
       " (('Rihanna', 'Justin Timberlake'), 5),\n",
       " (('Justin Timberlake', 'The Black Keys'), 5),\n",
       " (('Justin Timberlake', 'Passenger'), 5),\n",
       " (('Justin Timberlake', 'Ed Sheeran'), 5),\n",
       " (('Justin Timberlake', 'Britney Spears'), 5)]"
      ]
     },
     "execution_count": 21,
     "metadata": {},
     "output_type": "execute_result"
    }
   ],
   "source": [
    "sorted(weight_dict.items(), key=lambda x:x[1], reverse=True)[:10]"
   ]
  },
  {
   "cell_type": "code",
   "execution_count": 22,
   "metadata": {},
   "outputs": [
    {
     "data": {
      "text/plain": [
       "55"
      ]
     },
     "execution_count": 22,
     "metadata": {},
     "output_type": "execute_result"
    }
   ],
   "source": [
    "len(G.nodes)"
   ]
  },
  {
   "cell_type": "code",
   "execution_count": 23,
   "metadata": {},
   "outputs": [],
   "source": [
    "import spotipy\n",
    "from spotipy.oauth2 import SpotifyClientCredentials\n",
    "\n",
    "def get_artist_genres(artist_names):\n",
    "    client_id = '8ac5bd4f29854a4abb37648a5b7833d8'\n",
    "    client_secret = 'c9f1281a0f774d97ae7d002139e53049'\n",
    "    client_credentials_manager = SpotifyClientCredentials(client_id, client_secret)\n",
    "    sp = spotipy.Spotify(client_credentials_manager=client_credentials_manager)\n",
    "\n",
    "    artist_dict = {}\n",
    "    \n",
    "    for artist in artist_names:\n",
    "        result = sp.search(artist, type='artist')['artists']['items']\n",
    "        if len(result) > 0:\n",
    "            artist_dict[artist] = result[0]['genres']\n",
    "    return artist_dict\n"
   ]
  },
  {
   "cell_type": "code",
   "execution_count": 24,
   "metadata": {},
   "outputs": [],
   "source": [
    "genres = get_artist_genres(list(G.nodes))"
   ]
  },
  {
   "cell_type": "code",
   "execution_count": 25,
   "metadata": {},
   "outputs": [
    {
     "data": {
      "text/html": [
       "<div>\n",
       "<style scoped>\n",
       "    .dataframe tbody tr th:only-of-type {\n",
       "        vertical-align: middle;\n",
       "    }\n",
       "\n",
       "    .dataframe tbody tr th {\n",
       "        vertical-align: top;\n",
       "    }\n",
       "\n",
       "    .dataframe thead th {\n",
       "        text-align: right;\n",
       "    }\n",
       "</style>\n",
       "<table border=\"1\" class=\"dataframe\">\n",
       "  <thead>\n",
       "    <tr style=\"text-align: right;\">\n",
       "      <th></th>\n",
       "      <th>user_id</th>\n",
       "      <th>artistname</th>\n",
       "      <th>trackname</th>\n",
       "      <th>playlistname</th>\n",
       "    </tr>\n",
       "  </thead>\n",
       "  <tbody>\n",
       "  </tbody>\n",
       "</table>\n",
       "</div>"
      ],
      "text/plain": [
       "Empty DataFrame\n",
       "Columns: [user_id, artistname, trackname, playlistname]\n",
       "Index: []"
      ]
     },
     "execution_count": 25,
     "metadata": {},
     "output_type": "execute_result"
    }
   ],
   "source": [
    "# dare's algorithm work don't worry about it\n",
    "# def L_g_grad(u, F, A):\n",
    "#     sum1 = 0\n",
    "#     sum2 = 0\n",
    "#     for edge in range(len(A[u])):\n",
    "#         if A[u][edge] > 0:\n",
    "#             print(-F[u] * F[edge].T, -F[u].dot(F[edge].T))\n",
    "#             sum1 += np.log(1-np.exp(-F[u].dot(F[edge].T)))\n",
    "#         else:\n",
    "#             sum2 += F[u] * F[edge].T\n",
    "#     return sum1 - sum2\n",
    "\n",
    "# def train(A, Att, C, iterations = 100):\n",
    "#     # initialize an F\n",
    "#     N = A.shape[0]\n",
    "#     F = np.random.rand(N,C)\n",
    "#     X = Att\n",
    "#     # weight matrix is (# of attributes, # of groups)\n",
    "#     W = np.zeros((Att.shape[1], C))\n",
    "#     F_new = F#np.zeros((N,C))\n",
    "#     alpha = 0.01\n",
    "#     ll = .01\n",
    "#     ll_new = 0\n",
    "#     W_new = W\n",
    "#     for n in range(iterations):\n",
    "#         dist = 0\n",
    "#         F_old = F_new\n",
    "#         for u in range(N):\n",
    "#             L_g = (L_g_grad(u, F_new, A))\n",
    "#             print(L_g, )\n",
    "#             L_g = gradient(F, A, u) # derivative of L_g w/ respect to F_u (does this need to be F_new???)\n",
    "#             Q = np.divide(1, 1 + np.exp(-W_new.dot(F_new[u].T)))\n",
    "#             print(F_new[u])\n",
    "#             L_x = alpha*((X[u]-Q).dot(W)) # derivative of L_x w/ respect to F_u\n",
    "#             print(F_new[u], (np.zeros(C) < F_new[u] + alpha*(L_g+L_x)) * (F_new[u] + alpha*(L_g+L_x)))\n",
    "#             F_new[u] = (np.zeros(C) < F_new[u] + alpha*(L_g+L_x)) * 1 * (F_new[u] + alpha*(L_g+L_x))\n",
    "#             print(L_g,L_x)\n",
    "#             W_new += alpha*(np.array(X[u]-Q)*(F_new[u])) - np.sign(W_new)\n",
    "\n",
    "\n",
    "#         F_new += alpha*(X-Q).dot(W)\n",
    "#         F = np.maximum(.01, F_new) # should this be 0?\n",
    "#         ll_new = log_likelihood(F, A)\n",
    "#         ll_new += np.sum(X*np.log(np.maximum(.01, Q)) + (1 - X)*np.log(np.maximum(.01, 1 - Q)))\n",
    "#         change = (ll - ll_new) / ll\n",
    "#         print(alpha*(np.dot((X-Q).T, F)) - np.sign(W_new))\n",
    "#         if abs(change) < .001:\n",
    "#             break\n",
    "#         else:\n",
    "#             ll = ll_new\n",
    "#     print(n, W_new - np.sign(W_new))\n",
    "#     delta = (-np.log(1- (1/N)))**.5\n",
    "#     return F>delta, W_new"
   ]
  },
  {
   "cell_type": "code",
   "execution_count": 26,
   "metadata": {},
   "outputs": [],
   "source": [
    "# implement algorithm\n",
    "def standardize_matrix(A):\n",
    "    max_edge = 0\n",
    "    for i in nx.to_numpy_array(G):\n",
    "        if (max(i)) > max_edge:\n",
    "            max_edge = max(i)\n",
    "    stand_A = []\n",
    "    for row in nx.to_numpy_array(G):\n",
    "        stand_row = []\n",
    "        for edge in row:\n",
    "            stand_row.append(edge/max_edge)\n",
    "        stand_A.append(stand_row)\n",
    "    return np.array(stand_A)\n"
   ]
  },
  {
   "cell_type": "code",
   "execution_count": 27,
   "metadata": {},
   "outputs": [],
   "source": [
    "## algorithm work\n",
    "\n",
    "# bigclam algorithm taken from https://github.com/RobRomijnders/bigclam\n",
    "def sigm(x):\n",
    "    return np.divide(np.exp(-1.*x),1.-np.exp(-1.*x))\n",
    "\n",
    "def log_likelihood(F, A):\n",
    "    \"\"\"implements equation 2 of \n",
    "    https://cs.stanford.edu/people/jure/pubs/bigclam-wsdm13.pdf\"\"\"\n",
    "    A_soft = F.dot(F.T)\n",
    "\n",
    "    # Next two lines are multiplied with the adjacency matrix, A\n",
    "    # A is a {0,1} matrix, so we zero out all elements not contributing to the sum\n",
    "    FIRST_PART = A*np.log(1.-np.exp(-1.*A_soft))\n",
    "    sum_edges = np.sum(FIRST_PART)\n",
    "    SECOND_PART = (1-A)*A_soft\n",
    "    sum_nedges = np.sum(SECOND_PART)\n",
    "\n",
    "    log_likeli = sum_edges - sum_nedges\n",
    "    return -log_likeli\n",
    "\n",
    "def gradient(F, A, i):\n",
    "    \"\"\"Implements equation 3 of\n",
    "    https://cs.stanford.edu/people/jure/pubs/bigclam-wsdm13.pdf\n",
    "    \n",
    "      * i indicates the row under consideration\n",
    "    \n",
    "    The many forloops in this function can be optimized, but for\n",
    "    educational purposes we write them out clearly\n",
    "    \"\"\"\n",
    "    N, C = F.shape\n",
    "\n",
    "    neighbours = np.where(A[i])\n",
    "    nneighbours = np.where(1-A[i])\n",
    "\n",
    "    sum_neigh = np.zeros((C,))\n",
    "    for nb in neighbours[0]:\n",
    "        dotproduct = F[nb].dot(F[i])\n",
    "        sum_neigh += F[nb]*sigm(dotproduct)\n",
    "\n",
    "    sum_nneigh = np.zeros((C,))\n",
    "    #Speed up this computation using eq.4\n",
    "    for nnb in nneighbours[0]:\n",
    "        sum_nneigh += F[nnb]\n",
    "\n",
    "    grad = sum_neigh - sum_nneigh\n",
    "    return grad\n",
    "\n",
    "def train(A, Att, C, iterations = 100, alpha = .005, lambda_W = .001):\n",
    "    # initialize an F\n",
    "    N = A.shape[0]\n",
    "    F = np.random.rand(N,C)\n",
    "    F_new = np.zeros((N,C))\n",
    "    X = Att\n",
    "    W = np.random.rand(Att.shape[1], C)\n",
    "    W_new = np.zeros((Att.shape[1], C))\n",
    "    ll = .01\n",
    "    ll_new = 0\n",
    "    Q = np.zeros((F.shape[0], W.shape[0]))\n",
    "    Sanity = np.zeros((F.shape[0], W.shape[0]))\n",
    "    for n in range(iterations):\n",
    "        for u in range(Q.shape[0]):\n",
    "            for k in range(Q.shape[1]):\n",
    "                running_sum = 0\n",
    "                for c in range(F.shape[1]):\n",
    "                    running_sum += W[k][c] * F[u][c]\n",
    "                Q[u][k] = 1/(1+np.exp(-running_sum))\n",
    "        \n",
    "        for u in range(X.shape[0]):\n",
    "            grad = gradient(F, A, u)\n",
    "            for c in range(F.shape[1]):\n",
    "                running_sum = 0\n",
    "                for k in range(X.shape[1]):\n",
    "                    running_sum += (X[u][k] - Q[u][k]) * W[k][c]\n",
    "                F_new[u][c] = max(.001, F[u][c] + alpha*(running_sum + grad[c]))\n",
    "        \n",
    "        for k in range(X.shape[1]):\n",
    "            for c in range(F.shape[1]):\n",
    "                running_sum = 0\n",
    "                for u in range(F.shape[0]):\n",
    "                    running_sum += (X[u][k] - Q[u][k]) * F[u][c]\n",
    "                W_new[k][c] = W[k][c] + alpha * running_sum - alpha * lambda_W * np.sign(W[k][c])\n",
    "\n",
    "        F = copy.deepcopy(F_new)\n",
    "        W = copy.deepcopy(W_new)\n",
    "        ll_new = log_likelihood(F, A)\n",
    "        ll_new += np.sum(np.maximum(.001, X*np.log(np.maximum(.001, Q)) + (1 - X)*np.log(np.maximum(.001, 1 - Q))))\n",
    "        change = (ll - ll_new) / ll\n",
    "        if abs(change) < .001:\n",
    "            break\n",
    "        else:\n",
    "            ll = ll_new\n",
    "    delta = (-np.log(1 - (1/N)))**.5\n",
    "    \n",
    "    return F, delta, W"
   ]
  },
  {
   "cell_type": "code",
   "execution_count": 40,
   "metadata": {},
   "outputs": [],
   "source": [
    "# define attributes and group size\n",
    "att = df2.groupby('artistname').agg({'playlistname':lambda x: len(np.unique(np.array(list(x)))) >= 10}) * 1\n",
    "att = np.array([pd.Series([node for node in G.nodes]).apply(lambda x: dict(zip(att.index, att.playlistname))[x])]).T\n",
    "\n",
    "c = 3 # group size\n"
   ]
  },
  {
   "cell_type": "code",
   "execution_count": 43,
   "metadata": {},
   "outputs": [
    {
     "name": "stdout",
     "output_type": "stream",
     "text": [
      "sample size is: 500 , group size: 3 , iterations: 10\n",
      "[1 2 1 0 1 2 2 1 1 2 1 1 2 2 1 1 1 1 0 1 1 0 2 1 2 0 0 1 0 0 2 2 2 2 1 2 0\n",
      " 2 2 2 1 2 1 1 2 2 1 1 1 0 2 0 0 1 1]\n",
      "[[0.82154614 1.00098323 0.09420574]]\n"
     ]
    }
   ],
   "source": [
    "# try w/ binary adjacency\n",
    "nodes = [node for node in G]\n",
    "A = (nx.to_numpy_array(G) >= 1) * 1\n",
    "iterations = 10\n",
    "F, delta, W = train(A, att, c, iterations)\n",
    "print('sample size is: ' + str(sample_size), ', group size: ' + str(c), ', iterations: ' + str(iterations))\n",
    "print(np.argmax(F, 1))\n",
    "print(W)"
   ]
  },
  {
   "cell_type": "code",
   "execution_count": 45,
   "metadata": {},
   "outputs": [
    {
     "name": "stdout",
     "output_type": "stream",
     "text": [
      "sample size is: 500 , group size: 3 , iterations: 10\n",
      "[0 1 0 0 0 0 0 1 0 1 0 0 2 1 0 2 0 1 0 1 0 2 1 0 1 2 2 0 0 2 0 0 1 1 0 0 2\n",
      " 0 0 1 0 1 1 1 1 2 0 0 1 1 1 0 0 1 0]\n",
      "[[0.70596533 0.76416399 0.68919815]]\n"
     ]
    }
   ],
   "source": [
    "# try stardardized adjacency\n",
    "nodes = [node for node in G]\n",
    "A = nx.to_numpy_array(G)\n",
    "A = standardize_matrix(A)\n",
    "iterations = 10\n",
    "F, delta, W = train(A, att, c)\n",
    "print('sample size is: ' + str(sample_size), ', group size: ' + str(c), ', iterations: ' + str(iterations))\n",
    "print(np.argmax(F, 1))\n",
    "print(W)"
   ]
  },
  {
   "cell_type": "code",
   "execution_count": 47,
   "metadata": {},
   "outputs": [],
   "source": [
    "nodes_pred = dict(zip(nodes, np.argmax(F,1)))\n"
   ]
  },
  {
   "cell_type": "code",
   "execution_count": 48,
   "metadata": {},
   "outputs": [],
   "source": [
    "# calc percent of top edges are in the same group\n",
    "dict_nodes_edg_grp = {}\n",
    "node_weights = nx.get_edge_attributes(G, \"weight\")\n",
    "for i in nodes:\n",
    "    dict_nodes_edg_grp[i] = []\n",
    "    weight_dict = {}\n",
    "    for j in node_weights:\n",
    "        if i in j:\n",
    "            weight_dict[j] = (node_weights[j], [nodes_pred[j[0]], nodes_pred[j[0]]])\n",
    "    weight_dict = sorted(weight_dict.items(), key=lambda x:x[1], reverse=True)\n",
    "    dict_nodes_edg_grp[i].append(weight_dict[:3])\n",
    "    "
   ]
  },
  {
   "cell_type": "code",
   "execution_count": 49,
   "metadata": {},
   "outputs": [
    {
     "data": {
      "text/plain": [
       "[('Oasis', 2),\n",
       " ('David Guetta', 2),\n",
       " ('Drake', 2),\n",
       " ('Lana Del Rey', 2),\n",
       " ('Arcade Fire', 2),\n",
       " ('Mumford & Sons', 2),\n",
       " ('La Roux', 2),\n",
       " ('Stevie Wonder', 2),\n",
       " ('Beyoncé', 1),\n",
       " ('Fleetwood Mac', 1),\n",
       " ('Queen', 1),\n",
       " ('Elvis Presley', 1),\n",
       " ('Avicii', 1),\n",
       " ('Katy Perry', 1),\n",
       " ('JAY Z', 1),\n",
       " ('Tiësto', 1),\n",
       " ('Britney Spears', 1),\n",
       " ('Kanye West', 1),\n",
       " ('Madonna', 1),\n",
       " ('Skrillex', 1),\n",
       " ('T.I.', 1),\n",
       " ('2Pac', 1),\n",
       " ('Linkin Park', 1),\n",
       " ('Wiz Khalifa', 1),\n",
       " ('Flo Rida', 1),\n",
       " ('deadmau5', 1),\n",
       " ('Lil Wayne', 1),\n",
       " ('Maroon 5', 0),\n",
       " ('Pitbull', 0),\n",
       " ('Shakira', 0),\n",
       " ('Rihanna', 0),\n",
       " ('Justin Timberlake', 0),\n",
       " ('The Black Keys', 0),\n",
       " ('Ellie Goulding', 0),\n",
       " ('Daft Punk', 0),\n",
       " ('The Killers', 0),\n",
       " ('The Smiths', 0),\n",
       " ('Coldplay', 0),\n",
       " ('OneRepublic', 0),\n",
       " ('Imagine Dragons', 0),\n",
       " ('Ed Sheeran', 0),\n",
       " ('Calvin Harris', 0),\n",
       " ('Jason Derulo', 0),\n",
       " ('Eminem', 0),\n",
       " ('Passenger', 0),\n",
       " ('The Cure', 0),\n",
       " ('Passion Pit', 0),\n",
       " ('Prince', 0),\n",
       " ('Phil Collins', 0),\n",
       " ('The xx', 0),\n",
       " ('Lady Gaga', 0),\n",
       " ('Snoop Dogg', 0),\n",
       " ('Limp Bizkit', 0),\n",
       " ('Michael Jackson', 0),\n",
       " ('The Black Eyed Peas', 0)]"
      ]
     },
     "execution_count": 49,
     "metadata": {},
     "output_type": "execute_result"
    }
   ],
   "source": [
    "sorted(nodes_pred.items(), key=lambda x:x[1], reverse=True)"
   ]
  },
  {
   "cell_type": "code",
   "execution_count": null,
   "metadata": {},
   "outputs": [],
   "source": []
  },
  {
   "cell_type": "code",
   "execution_count": null,
   "metadata": {},
   "outputs": [],
   "source": []
  },
  {
   "cell_type": "code",
   "execution_count": null,
   "metadata": {},
   "outputs": [],
   "source": []
  },
  {
   "cell_type": "code",
   "execution_count": null,
   "metadata": {},
   "outputs": [],
   "source": []
  },
  {
   "cell_type": "code",
   "execution_count": null,
   "metadata": {},
   "outputs": [],
   "source": [
    "\n"
   ]
  },
  {
   "cell_type": "code",
   "execution_count": null,
   "metadata": {},
   "outputs": [],
   "source": []
  },
  {
   "cell_type": "code",
   "execution_count": null,
   "metadata": {},
   "outputs": [],
   "source": []
  },
  {
   "cell_type": "code",
   "execution_count": null,
   "metadata": {},
   "outputs": [],
   "source": []
  },
  {
   "cell_type": "code",
   "execution_count": null,
   "metadata": {},
   "outputs": [],
   "source": [
    "weight_dict = {}\n",
    "node_weights = nx.get_edge_attributes(G, \"weight\")\n",
    "for i in node_weights:\n",
    "    if 'Phoenix' in i:\n",
    "        weight_dict[i] = (node_weights[i], [nodes_pred[i[0]], nodes_pred[i[1]]])\n",
    "        "
   ]
  },
  {
   "cell_type": "code",
   "execution_count": null,
   "metadata": {},
   "outputs": [],
   "source": [
    "sorted(weight_dict.items(), key=lambda x:x[1], reverse=True)"
   ]
  },
  {
   "cell_type": "code",
   "execution_count": null,
   "metadata": {},
   "outputs": [],
   "source": [
    "[x for x in nodes_pred if nodes_pred[x]==2]"
   ]
  },
  {
   "cell_type": "code",
   "execution_count": null,
   "metadata": {},
   "outputs": [],
   "source": [
    "# Node attributes"
   ]
  },
  {
   "cell_type": "code",
   "execution_count": null,
   "metadata": {},
   "outputs": [],
   "source": [
    "df2\n",
    "# avg songs per playlist\n",
    "x = df2.groupby('artistname').agg({'playlistname':lambda x: len(np.unique(np.array(list(x)))), 'trackname':'count'})\n",
    "x['trackname'] / x['playlistname']\n"
   ]
  },
  {
   "cell_type": "code",
   "execution_count": null,
   "metadata": {},
   "outputs": [],
   "source": [
    "# total songs\n",
    "x = df2.groupby('artistname').agg({'trackname':'count'})\n",
    "x\n"
   ]
  },
  {
   "cell_type": "code",
   "execution_count": null,
   "metadata": {},
   "outputs": [],
   "source": [
    "# song variety - closer to 1: unique song on every playlist, closer to 0: many songs in common over playlists\n",
    "x = df2.groupby('artistname').agg({'trackname':lambda x: len(np.unique(np.array(list(x)))), 'playlistname':'count'})\n",
    "(x['trackname'] / x['playlistname']).sort_values()\n"
   ]
  },
  {
   "cell_type": "code",
   "execution_count": null,
   "metadata": {},
   "outputs": [],
   "source": [
    "# playlist appearances\n",
    "x = df2.groupby('artistname').agg({'playlistname':lambda x: len(np.unique(np.array(list(x))))})\n",
    "x.sort_values(by='playlistname')\n",
    "x['playlistname'].groupby(x['playlistname']).count()\n"
   ]
  },
  {
   "cell_type": "code",
   "execution_count": null,
   "metadata": {},
   "outputs": [],
   "source": [
    "x.mean()\n"
   ]
  },
  {
   "cell_type": "code",
   "execution_count": null,
   "metadata": {},
   "outputs": [],
   "source": []
  },
  {
   "cell_type": "code",
   "execution_count": null,
   "metadata": {},
   "outputs": [],
   "source": []
  },
  {
   "cell_type": "code",
   "execution_count": null,
   "metadata": {},
   "outputs": [],
   "source": []
  },
  {
   "cell_type": "code",
   "execution_count": null,
   "metadata": {},
   "outputs": [],
   "source": []
  },
  {
   "cell_type": "code",
   "execution_count": null,
   "metadata": {},
   "outputs": [],
   "source": []
  }
 ],
 "metadata": {
  "kernelspec": {
   "display_name": "Python 3",
   "language": "python",
   "name": "python3"
  },
  "language_info": {
   "codemirror_mode": {
    "name": "ipython",
    "version": 3
   },
   "file_extension": ".py",
   "mimetype": "text/x-python",
   "name": "python",
   "nbconvert_exporter": "python",
   "pygments_lexer": "ipython3",
   "version": "3.7.6"
  },
  "vscode": {
   "interpreter": {
    "hash": "40d3a090f54c6569ab1632332b64b2c03c39dcf918b08424e98f38b5ae0af88f"
   }
  }
 },
 "nbformat": 4,
 "nbformat_minor": 2
}
